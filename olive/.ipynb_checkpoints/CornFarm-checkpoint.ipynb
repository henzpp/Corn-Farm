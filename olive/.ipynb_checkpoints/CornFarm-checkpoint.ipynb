{
 "cells": [
  {
   "cell_type": "markdown",
   "id": "77dbbb24-8d7a-4619-bc37-da4e755a2204",
   "metadata": {},
   "source": [
    "### 멋진ㅃ킹농부가되어야지!"
   ]
  },
  {
   "cell_type": "code",
   "execution_count": null,
   "id": "ab20decf-1fcf-47e9-8d99-607a44ebc41a",
   "metadata": {},
   "outputs": [],
   "source": []
  }
 ],
 "metadata": {
  "kernelspec": {
   "display_name": "Python 3 (ipykernel)",
   "language": "python",
   "name": "python3"
  },
  "language_info": {
   "codemirror_mode": {
    "name": "ipython",
    "version": 3
   },
   "file_extension": ".py",
   "mimetype": "text/x-python",
   "name": "python",
   "nbconvert_exporter": "python",
   "pygments_lexer": "ipython3",
   "version": "3.9.12"
  }
 },
 "nbformat": 4,
 "nbformat_minor": 5
}
