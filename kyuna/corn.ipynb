{
 "cells": [
  {
   "cell_type": "markdown",
   "id": "caa18457-49d8-4f3d-bc6b-25cef00a020c",
   "metadata": {},
   "source": [
    "두 정수 A와 B를 입력받은 다음, A+B를 출력하는 프로그램을 작성하시오."
   ]
  },
  {
   "cell_type": "markdown",
   "id": "b0d7a000-77d4-4734-b79f-6fe58e06705b",
   "metadata": {},
   "source": [
    "입력\n",
    "첫째 줄에 A와 B가 주어진다. (0 < A, B < 10)\n",
    "\n",
    "출력\n",
    "첫째 줄에 A+B를 출력한다."
   ]
  },
  {
   "cell_type": "code",
   "execution_count": 4,
   "id": "c15f5160-2396-4f1e-9290-6847c5f2e7d5",
   "metadata": {},
   "outputs": [
    {
     "name": "stdin",
     "output_type": "stream",
     "text": [
      " 1 2\n"
     ]
    },
    {
     "name": "stdout",
     "output_type": "stream",
     "text": [
      "3\n"
     ]
    }
   ],
   "source": [
    "A,B = map(int,input().split())\n",
    "print(A+B)"
   ]
  },
  {
   "cell_type": "code",
   "execution_count": null,
   "id": "c342e3c1-3691-4075-b032-70bb8bcb9cde",
   "metadata": {},
   "outputs": [],
   "source": [
    "A,B = map(int,input().split())\n",
    "print(A-B)"
   ]
  },
  {
   "cell_type": "markdown",
   "id": "5fec9e94-5b8e-4bcf-b9fc-35dca5acc142",
   "metadata": {},
   "source": [
    "문제\n",
    "두 자연수 A와 B가 주어진다. 이때, A+B, A-B, A*B, A/B(몫), A%B(나머지)를 출력하는 프로그램을 작성하시오. \n",
    "\n",
    "입력\n",
    "두 자연수 A와 B가 주어진다. (1 ≤ A, B ≤ 10,000)\n",
    "\n",
    "출력\n",
    "첫째 줄에 A+B, 둘째 줄에 A-B, 셋째 줄에 A*B, 넷째 줄에 A/B, 다섯째 줄에 A%B를 출력한다."
   ]
  },
  {
   "cell_type": "code",
   "execution_count": 9,
   "id": "de419368-5df9-430f-946f-467ad8ea3d30",
   "metadata": {},
   "outputs": [
    {
     "name": "stdin",
     "output_type": "stream",
     "text": [
      " 7 3\n"
     ]
    },
    {
     "name": "stdout",
     "output_type": "stream",
     "text": [
      "10\n",
      "4\n",
      "21\n",
      "2\n",
      "1\n"
     ]
    }
   ],
   "source": [
    "A,B = map(int,input().split())\n",
    "print(A+B)\n",
    "print(A-B)\n",
    "print(A*B)\n",
    "print(A//B)\n",
    "print(A%B)"
   ]
  },
  {
   "cell_type": "markdown",
   "id": "047f7dd7-dcfd-4ac4-850d-541c11c254f4",
   "metadata": {},
   "source": [
    "준하는 사이트에 회원가입을 하다가 joonas라는 아이디가 이미 존재하는 것을 보고 놀랐다. 준하는 놀람을 ??!로 표현한다. 준하가 가입하려고 하는 사이트에 이미 존재하는 아이디가 주어졌을 때, 놀람을 표현하는 프로그램을 작성하시오."
   ]
  },
  {
   "cell_type": "markdown",
   "id": "fbebb2d8-2de6-46b9-8491-751f3c244f10",
   "metadata": {},
   "source": [
    "입력\n",
    "첫째 줄에 준하가 가입하려고 하는 사이트에 이미 존재하는 아이디가 주어진다. 아이디는 알파벳 소문자로만 이루어져 있으며, 길이는 50자를 넘지 않는다.\n",
    "\n",
    "출력\n",
    "첫째 줄에 준하의 놀람을 출력한다. 놀람은 아이디 뒤에 ??!를 붙여서 나타낸다."
   ]
  },
  {
   "cell_type": "code",
   "execution_count": null,
   "id": "3e78a92c-0210-42af-bd48-97717cf23559",
   "metadata": {},
   "outputs": [],
   "source": [
    "joonas"
   ]
  },
  {
   "cell_type": "code",
   "execution_count": 11,
   "id": "b31a8129-2c69-4231-9eb2-c4077505d907",
   "metadata": {},
   "outputs": [
    {
     "name": "stdin",
     "output_type": "stream",
     "text": [
      " joonas\n"
     ]
    },
    {
     "name": "stdout",
     "output_type": "stream",
     "text": [
      "joonas??!\n"
     ]
    }
   ],
   "source": [
    "print(input()+'??!')"
   ]
  },
  {
   "cell_type": "markdown",
   "id": "778ea480-6945-4aa5-a293-17bad21f958f",
   "metadata": {},
   "source": [
    "문제\n",
    "ICPC Bangkok Regional에 참가하기 위해 수완나품 국제공항에 막 도착한 팀 레드시프트 일행은 눈을 믿을 수 없었다. 공항의 대형 스크린에 올해가 2562년이라고 적혀 있던 것이었다.\n",
    "\n",
    "불교 국가인 태국은 불멸기원(佛滅紀元), 즉 석가모니가 열반한 해를 기준으로 연도를 세는 불기를 사용한다. 반면, 우리나라는 서기 연도를 사용하고 있다. 불기 연도가 주어질 때 이를 서기 연도로 바꿔 주는 프로그램을 작성하시오.\n",
    "\n",
    "입력\n",
    "서기 연도를 알아보고 싶은 불기 연도 y가 주어진다. (1000 ≤ y ≤ 3000)\n",
    "\n",
    "출력\n",
    "불기 연도를 서기 연도로 변환한 결과를 출력한다."
   ]
  },
  {
   "cell_type": "markdown",
   "id": "7846bd01-71ac-4e43-a0a6-678d21887c79",
   "metadata": {},
   "source": [
    "예제 입력 1 \n",
    "2541\n",
    "예제 출력 1 \n",
    "1998"
   ]
  },
  {
   "cell_type": "code",
   "execution_count": 13,
   "id": "462ae874-2900-4a70-abbf-cee459a51d93",
   "metadata": {},
   "outputs": [
    {
     "name": "stdout",
     "output_type": "stream",
     "text": [
      "543\n"
     ]
    }
   ],
   "source": [
    "print(2541-1998)"
   ]
  },
  {
   "cell_type": "code",
   "execution_count": 23,
   "id": "38a8f2ae-eae7-4d32-ae78-48a13c327143",
   "metadata": {},
   "outputs": [
    {
     "name": "stdin",
     "output_type": "stream",
     "text": [
      " 2541\n"
     ]
    },
    {
     "name": "stdout",
     "output_type": "stream",
     "text": [
      "1998\n"
     ]
    }
   ],
   "source": [
    "print(int(input())-543)"
   ]
  },
  {
   "cell_type": "markdown",
   "id": "8036785b-0ac0-4a48-8c05-2664e8e02868",
   "metadata": {},
   "source": [
    "동혁이는 오래된 창고를 뒤지다가 낡은 체스판과 피스를 발견했다.\n",
    "\n",
    "체스판의 먼지를 털어내고 걸레로 닦으니 그럭저럭 쓸만한 체스판이 되었다. 하지만, 검정색 피스는 모두 있었으나, 흰색 피스는 개수가 올바르지 않았다.\n",
    "\n",
    "체스는 총 16개의 피스를 사용하며, 킹 1개, 퀸 1개, 룩 2개, 비숍 2개, 나이트 2개, 폰 8개로 구성되어 있다.\n",
    "\n",
    "동혁이가 발견한 흰색 피스의 개수가 주어졌을 때, 몇 개를 더하거나 빼야 올바른 세트가 되는지 구하는 프로그램을 작성하시오.\n",
    "\n",
    "입력\n",
    "첫째 줄에 동혁이가 찾은 흰색 킹, 퀸, 룩, 비숍, 나이트, 폰의 개수가 주어진다. 이 값은 0보다 크거나 같고 10보다 작거나 같은 정수이다.\n",
    "\n",
    "출력\n",
    "첫째 줄에 입력에서 주어진 순서대로 몇 개의 피스를 더하거나 빼야 되는지를 출력한다. 만약 수가 양수라면 동혁이는 그 개수 만큼 피스를 더해야 하는 것이고, 음수라면 제거해야 하는 것이다."
   ]
  },
  {
   "cell_type": "code",
   "execution_count": null,
   "id": "fc4dbb2f-9571-452f-82bd-7d1cd87cc176",
   "metadata": {},
   "outputs": [],
   "source": [
    "예제 입력 \n",
    "0 1 2 2 2 7\n",
    "예제 출력 \n",
    "1 0 0 0 0 1"
   ]
  },
  {
   "cell_type": "code",
   "execution_count": 27,
   "id": "a89b9906-081a-472d-8205-f90c9df040f6",
   "metadata": {},
   "outputs": [
    {
     "name": "stdin",
     "output_type": "stream",
     "text": [
      " 0 1 2 2 2 7\n"
     ]
    },
    {
     "name": "stdout",
     "output_type": "stream",
     "text": [
      "1 0 0 0 0 1\n"
     ]
    }
   ],
   "source": [
    "A,B,C,D,E,F = map(int,input().split())\n",
    "print((1-A),(1-B),(2-C),(2-D),(2-E),(8-F))"
   ]
  },
  {
   "cell_type": "markdown",
   "id": "95ce7c22-42c6-432d-9542-56d6f650dc40",
   "metadata": {},
   "source": [
    "문제\n",
    "(A+B)%C는 ((A%C) + (B%C))%C 와 같을까?\n",
    "\n",
    "(A×B)%C는 ((A%C) × (B%C))%C 와 같을까?\n",
    "\n",
    "세 수 A, B, C가 주어졌을 때, 위의 네 가지 값을 구하는 프로그램을 작성하시오.\n",
    "\n",
    "입력\n",
    "첫째 줄에 A, B, C가 순서대로 주어진다. (2 ≤ A, B, C ≤ 10000)\n",
    "\n",
    "출력\n",
    "첫째 줄에 (A+B)%C, 둘째 줄에 ((A%C) + (B%C))%C, 셋째 줄에 (A×B)%C, 넷째 줄에 ((A%C) × (B%C))%C를 출력한다."
   ]
  },
  {
   "cell_type": "code",
   "execution_count": null,
   "id": "486deb65-16ff-4be1-95dc-0b75f1f106e9",
   "metadata": {},
   "outputs": [],
   "source": [
    "예제 입력 \n",
    "5 8 4\n",
    "예제 출력\n",
    "1\n",
    "1\n",
    "0\n",
    "0"
   ]
  },
  {
   "cell_type": "code",
   "execution_count": 30,
   "id": "f7025b2f-2ea8-4058-b593-fb7f9f85d2ad",
   "metadata": {},
   "outputs": [
    {
     "name": "stdin",
     "output_type": "stream",
     "text": [
      " 5 8 4\n"
     ]
    },
    {
     "name": "stdout",
     "output_type": "stream",
     "text": [
      "1\n",
      "1\n",
      "0\n",
      "0\n"
     ]
    }
   ],
   "source": [
    "A,B,C = map(int,input().split())\n",
    "print((A+B)%C)\n",
    "print(((A%C) + (B%C))%C)\n",
    "print((A*B)%C)\n",
    "print(((A%C) * (B%C))%C)"
   ]
  },
  {
   "cell_type": "code",
   "execution_count": null,
   "id": "bde01b05-4da8-44aa-a7e2-2c01b951de4e",
   "metadata": {},
   "outputs": [],
   "source": [
    "(세 자리 수) × (세 자리 수)는 다음과 같은 과정을 통하여 이루어진다.\n",
    "\n",
    "\n",
    "\n",
    "(1)과 (2)위치에 들어갈 세 자리 자연수가 주어질 때 (3), (4), (5), (6)위치에 들어갈 값을 구하는 프로그램을 작성하시오.\n",
    "\n",
    "입력\n",
    "첫째 줄에 (1)의 위치에 들어갈 세 자리 자연수가, 둘째 줄에 (2)의 위치에 들어갈 세자리 자연수가 주어진다.\n",
    "\n",
    "출력\n",
    "첫째 줄부터 넷째 줄까지 차례대로 (3), (4), (5), (6)에 들어갈 값을 출력한다."
   ]
  },
  {
   "cell_type": "code",
   "execution_count": null,
   "id": "89e27120-06f0-44d4-985a-09f18ffb1a69",
   "metadata": {},
   "outputs": [],
   "source": [
    "예제 입력\n",
    "472\n",
    "385\n",
    "예제 출력\n",
    "2360\n",
    "3776\n",
    "1416\n",
    "181720"
   ]
  },
  {
   "cell_type": "code",
   "execution_count": 55,
   "id": "4a7ad0de-8e4c-48a3-a6e1-56fe2a800738",
   "metadata": {},
   "outputs": [
    {
     "name": "stdin",
     "output_type": "stream",
     "text": [
      " 472\n",
      " 385\n"
     ]
    },
    {
     "name": "stdout",
     "output_type": "stream",
     "text": [
      "2360\n",
      "3776\n",
      "1416\n",
      "181720\n"
     ]
    }
   ],
   "source": [
    "A = int(input())\n",
    "B = input()\n",
    "\n",
    "print(A*int(B[2]))\n",
    "print(A*int(B[1]))\n",
    "print(A*int(B[0]))\n",
    "print(A*int(B))"
   ]
  },
  {
   "cell_type": "code",
   "execution_count": null,
   "id": "ee6254bf-15d6-42e6-9cf0-a2b28a651679",
   "metadata": {},
   "outputs": [],
   "source": [
    "문제\n",
    "아래 예제와 같이 고양이를 출력하시오.\n",
    "\n",
    "입력\n",
    "없음.\n",
    "\n",
    "출력\n",
    "고양이를 출력한다.\n",
    "\n",
    "예제 입력 \n",
    "예제 출력\n",
    "\\    /\\\n",
    " )  ( ')\n",
    "(  /  )\n",
    " \\(__)|"
   ]
  },
  {
   "cell_type": "code",
   "execution_count": 61,
   "id": "beb6743a-f389-4bb4-8da0-c3abd0c39b09",
   "metadata": {},
   "outputs": [
    {
     "name": "stdout",
     "output_type": "stream",
     "text": [
      "\\    /\\ \n",
      " )  ( ')\n",
      "(  /  )\n",
      " \\(__)|\n"
     ]
    }
   ],
   "source": [
    "print(\"\\    /\\ \")\n",
    "print(\" )  ( ')\")\n",
    "print(\"(  /  )\")\n",
    "print(\" \\(__)|\")"
   ]
  },
  {
   "cell_type": "code",
   "execution_count": null,
   "id": "aa7ece0a-e2c4-4598-89a2-2b33e51e23bd",
   "metadata": {},
   "outputs": [],
   "source": [
    "문제\n",
    "아래 예제와 같이 개를 출력하시오.\n",
    "\n",
    "입력\n",
    "없음.\n",
    "\n",
    "출력\n",
    "개를 출력한다.\n",
    "\n",
    "예제 입력 \n",
    "예제 출력\n",
    "|\\_/|\n",
    "|q p|   /}\n",
    "( 0 )\"\"\"\\\n",
    "|\"^\"`    |\n",
    "||_/=\\\\__|"
   ]
  },
  {
   "cell_type": "code",
   "execution_count": 83,
   "id": "34ed0de5-6305-44ef-a04f-c8a6bcc26261",
   "metadata": {},
   "outputs": [
    {
     "name": "stdout",
     "output_type": "stream",
     "text": [
      " |\\_/| \n",
      " |q p|   /} \n",
      " ( 0 )\"\"\"\\ \n",
      " |\"^\"`    | \n",
      " ||_/=\\__ |\n"
     ]
    }
   ],
   "source": [
    "print(' |\\_/| \\n |q p|   /} \\n ( 0 )\"\"\"\\ \\n |\"^\"`    | \\n ||_/=\\\\__ |')"
   ]
  },
  {
   "cell_type": "code",
   "execution_count": 95,
   "id": "9b840bc6-ada4-4484-8e16-166942177e66",
   "metadata": {},
   "outputs": [
    {
     "name": "stdout",
     "output_type": "stream",
     "text": [
      "|\\_/|\n",
      "|q p|   /}\n",
      "( 0 )\"\"\"\\ \n",
      "|\"^\"`    |\n",
      "||_/=\\__|\n"
     ]
    }
   ],
   "source": [
    "print('|\\_/|\\n|q p|   /}\\n( 0 )\"\"\"\\ \\n|\"^\"`    |\\n||_/=\\\\__|')"
   ]
  },
  {
   "cell_type": "code",
   "execution_count": 105,
   "id": "5e33588b-fe58-4f94-8726-54a274e329e0",
   "metadata": {},
   "outputs": [
    {
     "name": "stdout",
     "output_type": "stream",
     "text": [
      "\n",
      "|\\_/|\n",
      "|q p|   /}\n",
      "( 0 )\"\"\"\\\n",
      "|\"^\"`   |\n",
      "||_/=\\__|\n",
      "\n"
     ]
    }
   ],
   "source": [
    "print('''\n",
    "|\\_/|\n",
    "|q p|   /}\n",
    "( 0 )\"\"\"\\\\\n",
    "|\"^\"`   |\n",
    "||_/=\\__|\n",
    "''')"
   ]
  },
  {
   "cell_type": "code",
   "execution_count": 106,
   "id": "dad7301f-08c6-4ea9-b437-c9e83e734188",
   "metadata": {},
   "outputs": [
    {
     "name": "stdout",
     "output_type": "stream",
     "text": [
      "|\\_/|\n",
      "|q p|   /}\n",
      "( 0 )\"\"\"\\\n",
      "|\"^\"`    |\n",
      "||_/=\\\\__|\n"
     ]
    }
   ],
   "source": [
    "print('|\\\\_/|')\n",
    "print('|q p|   /}')\n",
    "print('( 0 )\"\"\"\\\\')\n",
    "print('|\"^\"`    |')\n",
    "print('||_/=\\\\\\\\__|')"
   ]
  },
  {
   "cell_type": "code",
   "execution_count": null,
   "id": "fe9177e0-440d-4297-a1c1-e3ff5df382f5",
   "metadata": {},
   "outputs": [],
   "source": [
    "         ,r'\"7\n",
    "r`-_   ,'  ,/\n",
    " \\. \". L_r'\n",
    "   `~\\/\n",
    "      |\n",
    "      |"
   ]
  },
  {
   "cell_type": "code",
   "execution_count": 108,
   "id": "2c230852-cb7c-4915-b506-e69796a35208",
   "metadata": {},
   "outputs": [
    {
     "name": "stdout",
     "output_type": "stream",
     "text": [
      "         ,r'\"7\n",
      "r`-_   ,'  ,/\n",
      " \\. \". L_r'\n",
      "   `~\\/\n",
      "      |\n",
      "      |\n"
     ]
    }
   ],
   "source": [
    "print(\"         ,r'\\\"7\")\n",
    "print(\"r`-_   ,'  ,/\")\n",
    "print(\" \\\\. \\\". L_r'\")\n",
    "print(\"   `~\\\\/\")\n",
    "print(\"      |\")\n",
    "print(\"      |\")"
   ]
  },
  {
   "cell_type": "code",
   "execution_count": null,
   "id": "7e31798f-947e-4480-88f0-50c3d2b1b2d1",
   "metadata": {},
   "outputs": [],
   "source": [
    "문제\n",
    "두 정수 A와 B가 주어졌을 때, A와 B를 비교하는 프로그램을 작성하시오.\n",
    "\n",
    "입력\n",
    "첫째 줄에 A와 B가 주어진다. A와 B는 공백 한 칸으로 구분되어져 있다.\n",
    "\n",
    "출력\n",
    "첫째 줄에 다음 세 가지 중 하나를 출력한다.\n",
    "\n",
    "A가 B보다 큰 경우에는 '>'를 출력한다.\n",
    "A가 B보다 작은 경우에는 '<'를 출력한다.\n",
    "A와 B가 같은 경우에는 '=='를 출력한다.\n",
    "\n",
    "제한\n",
    "-10,000 ≤ A, B ≤ 10,000"
   ]
  },
  {
   "cell_type": "code",
   "execution_count": null,
   "id": "982ae8d2-b0a4-43f4-b27e-4c2f9cbea818",
   "metadata": {},
   "outputs": [],
   "source": [
    "예제 입력\n",
    "1 2\n",
    "예제 출력\n",
    "<"
   ]
  },
  {
   "cell_type": "code",
   "execution_count": 110,
   "id": "73539cb1-5a5b-401d-8ea3-f47585ee46bd",
   "metadata": {},
   "outputs": [
    {
     "name": "stdin",
     "output_type": "stream",
     "text": [
      " 1 2\n"
     ]
    },
    {
     "name": "stdout",
     "output_type": "stream",
     "text": [
      "<\n"
     ]
    }
   ],
   "source": [
    "A,B = map(int,input().split())\n",
    "if A > B:\n",
    "    print('>')\n",
    "elif A < B:\n",
    "    print('<')\n",
    "elif A == B:\n",
    "    print(\"==\")"
   ]
  },
  {
   "cell_type": "code",
   "execution_count": null,
   "id": "d28a4650-b01c-4e3e-961d-180232ff6fc8",
   "metadata": {},
   "outputs": [],
   "source": [
    "문제\n",
    "시험 점수를 입력받아 90 ~ 100점은 A, 80 ~ 89점은 B, 70 ~ 79점은 C, 60 ~ 69점은 D, 나머지 점수는 F를 출력하는 프로그램을 작성하시오.\n",
    "\n",
    "입력\n",
    "첫째 줄에 시험 점수가 주어진다. 시험 점수는 0보다 크거나 같고, 100보다 작거나 같은 정수이다.\n",
    "\n",
    "출력\n",
    "시험 성적을 출력한다.\n",
    "\n",
    "예제 입력\n",
    "100\n",
    "예제 출력 \n",
    "A"
   ]
  },
  {
   "cell_type": "code",
   "execution_count": 111,
   "id": "b0625bd1-1267-45b3-923a-3e9833bd68ff",
   "metadata": {},
   "outputs": [
    {
     "name": "stdin",
     "output_type": "stream",
     "text": [
      " 100\n"
     ]
    },
    {
     "name": "stdout",
     "output_type": "stream",
     "text": [
      "A\n"
     ]
    }
   ],
   "source": [
    "A = int(input())\n",
    "if 90 <= A <= 100:\n",
    "    print(\"A\")\n",
    "elif 80 <= A <= 89:\n",
    "    print(\"B\")\n",
    "elif 70 <= A <= 79:\n",
    "    print(\"C\")\n",
    "elif 60 <= A <= 69:\n",
    "    print(\"D\")\n",
    "else :\n",
    "    print(\"F\")"
   ]
  },
  {
   "cell_type": "code",
   "execution_count": null,
   "id": "c741fe20-21b3-474f-b298-cad9977a183a",
   "metadata": {},
   "outputs": [],
   "source": [
    "문제\n",
    "연도가 주어졌을 때, 윤년이면 1, 아니면 0을 출력하는 프로그램을 작성하시오.\n",
    "\n",
    "윤년은 연도가 4의 배수이면서, 100의 배수가 아닐 때 또는 400의 배수일 때이다.\n",
    "\n",
    "예를 들어, 2012년은 4의 배수이면서 100의 배수가 아니라서 윤년이다. 1900년은 100의 배수이고 400의 배수는 아니기 때문에 윤년이 아니다. 하지만, 2000년은 400의 배수이기 때문에 윤년이다.\n",
    "\n",
    "입력\n",
    "첫째 줄에 연도가 주어진다. 연도는 1보다 크거나 같고, 4000보다 작거나 같은 자연수이다.\n",
    "\n",
    "출력\n",
    "첫째 줄에 윤년이면 1, 아니면 0을 출력한다.\n",
    "\n",
    "예제 입력\n",
    "2000\n",
    "예제 출력 \n",
    "1"
   ]
  },
  {
   "cell_type": "code",
   "execution_count": 128,
   "id": "c3191718-4bcf-44b6-9fa0-d5c8dcdd415c",
   "metadata": {},
   "outputs": [
    {
     "name": "stdin",
     "output_type": "stream",
     "text": [
      " 2000\n"
     ]
    },
    {
     "name": "stdout",
     "output_type": "stream",
     "text": [
      "1\n"
     ]
    }
   ],
   "source": [
    "A = int(input())\n",
    "if (A % 4 == 0 )& (A % 100 !=0) or (A % 4 == 0) & (A % 400 == 0):\n",
    "    print(1)\n",
    "else:\n",
    "    print(0)"
   ]
  },
  {
   "cell_type": "code",
   "execution_count": null,
   "id": "c3459628-6d28-48b7-bbbb-89ba26d26f72",
   "metadata": {},
   "outputs": [],
   "source": [
    "문제\n",
    "흔한 수학 문제 중 하나는 주어진 점이 어느 사분면에 속하는지 알아내는 것이다. 사분면은 아래 그림처럼 1부터 4까지 번호를 갖는다. \"Quadrant n\"은 \"제n사분면\"이라는 뜻이다.\n",
    "\n",
    "\n",
    "\n",
    "예를 들어, 좌표가 (12, 5)인 점 A는 x좌표와 y좌표가 모두 양수이므로 제1사분면에 속한다. 점 B는 x좌표가 음수이고 y좌표가 양수이므로 제2사분면에 속한다.\n",
    "\n",
    "점의 좌표를 입력받아 그 점이 어느 사분면에 속하는지 알아내는 프로그램을 작성하시오. 단, x좌표와 y좌표는 모두 양수나 음수라고 가정한다.\n",
    "\n",
    "입력\n",
    "첫 줄에는 정수 x가 주어진다. (−1000 ≤ x ≤ 1000; x ≠ 0) 다음 줄에는 정수 y가 주어진다. (−1000 ≤ y ≤ 1000; y ≠ 0)\n",
    "\n",
    "출력\n",
    "점 (x, y)의 사분면 번호(1, 2, 3, 4 중 하나)를 출력한다.\n",
    "\n",
    "예제 입력\n",
    "12\n",
    "5\n",
    "예제 출력\n",
    "1"
   ]
  },
  {
   "cell_type": "code",
   "execution_count": 133,
   "id": "a4e3f0eb-868e-48c9-9b80-82caf7803437",
   "metadata": {},
   "outputs": [
    {
     "name": "stdin",
     "output_type": "stream",
     "text": [
      " 9\n",
      " -13\n"
     ]
    },
    {
     "name": "stdout",
     "output_type": "stream",
     "text": [
      "4\n"
     ]
    }
   ],
   "source": [
    "x = int(input())\n",
    "y = int(input())\n",
    "\n",
    "if (x > 0) & (y > 0) :\n",
    "    print(1)\n",
    "elif (x < 0) & (y > 0):\n",
    "    print(2)\n",
    "elif (x < 0) & (y < 0) :\n",
    "    print(3)\n",
    "elif (x > 0) & (y < 0):\n",
    "    print(4)"
   ]
  },
  {
   "cell_type": "code",
   "execution_count": null,
   "id": "76ef5d40-3298-4a38-807c-b284a278b322",
   "metadata": {},
   "outputs": [],
   "source": [
    "문제\n",
    "상근이는 매일 아침 알람을 듣고 일어난다. 알람을 듣고 바로 일어나면 다행이겠지만, 항상 조금만 더 자려는 마음 때문에 매일 학교를 지각하고 있다.\n",
    "\n",
    "상근이는 모든 방법을 동원해보았지만, 조금만 더 자려는 마음은 그 어떤 것도 없앨 수가 없었다.\n",
    "\n",
    "이런 상근이를 불쌍하게 보던, 창영이는 자신이 사용하는 방법을 추천해 주었다.\n",
    "\n",
    "바로 \"45분 일찍 알람 설정하기\"이다.\n",
    "\n",
    "이 방법은 단순하다. 원래 설정되어 있는 알람을 45분 앞서는 시간으로 바꾸는 것이다. 어차피 알람 소리를 들으면, 알람을 끄고 조금 더 잘 것이기 때문이다. 이 방법을 사용하면, 매일 아침 더 잤다는 기분을 느낄 수 있고, 학교도 지각하지 않게 된다.\n",
    "\n",
    "현재 상근이가 설정한 알람 시각이 주어졌을 때, 창영이의 방법을 사용한다면, 이를 언제로 고쳐야 하는지 구하는 프로그램을 작성하시오.\n",
    "\n",
    "입력\n",
    "첫째 줄에 두 정수 H와 M이 주어진다. (0 ≤ H ≤ 23, 0 ≤ M ≤ 59) 그리고 이것은 현재 상근이가 설정한 놓은 알람 시간 H시 M분을 의미한다.\n",
    "\n",
    "입력 시간은 24시간 표현을 사용한다. 24시간 표현에서 하루의 시작은 0:0(자정)이고, 끝은 23:59(다음날 자정 1분 전)이다. 시간을 나타낼 때, 불필요한 0은 사용하지 않는다.\n",
    "\n",
    "출력\n",
    "첫째 줄에 상근이가 창영이의 방법을 사용할 때, 설정해야 하는 알람 시간을 출력한다. (입력과 같은 형태로 출력하면 된다.)\n",
    "\n",
    "예제 입력\n",
    "10 10\n",
    "예제 출력\n",
    "9 25"
   ]
  },
  {
   "cell_type": "code",
   "execution_count": 5,
   "id": "6c26ce7c-f32a-4ab6-995e-d83eca80f1f8",
   "metadata": {},
   "outputs": [
    {
     "name": "stdin",
     "output_type": "stream",
     "text": [
      " 10 10\n"
     ]
    },
    {
     "name": "stdout",
     "output_type": "stream",
     "text": [
      "9 25\n"
     ]
    }
   ],
   "source": [
    "H,M = map(int,input().split())\n",
    "\n",
    "if M > 44 :\n",
    "    print(H,M - 45)\n",
    "elif (H>=1) and (M<= 44) :\n",
    "    print(H-1, M+15)\n",
    "else :\n",
    "    print(23, M+15)"
   ]
  },
  {
   "cell_type": "code",
   "execution_count": null,
   "id": "159aae5e-585d-44bc-8f5f-5a85fbb73509",
   "metadata": {},
   "outputs": [],
   "source": [
    "문제\n",
    "KOI 전자에서는 건강에 좋고 맛있는 훈제오리구이 요리를 간편하게 만드는 인공지능 오븐을 개발하려고 한다. 인공지능 오븐을 사용하는 방법은 적당한 양의 오리 훈제 재료를 인공지능 오븐에 넣으면 된다. 그러면 인공지능 오븐은 오븐구이가 끝나는 시간을 분 단위로 자동적으로 계산한다. \n",
    "\n",
    "또한, KOI 전자의 인공지능 오븐 앞면에는 사용자에게 훈제오리구이 요리가 끝나는 시각을 알려 주는 디지털 시계가 있다. \n",
    "\n",
    "훈제오리구이를 시작하는 시각과 오븐구이를 하는 데 필요한 시간이 분단위로 주어졌을 때, 오븐구이가 끝나는 시각을 계산하는 프로그램을 작성하시오.\n",
    "\n",
    "입력\n",
    "첫째 줄에는 현재 시각이 나온다. 현재 시각은 시 A (0 ≤ A ≤ 23) 와 분 B (0 ≤ B ≤ 59)가 정수로 빈칸을 사이에 두고 순서대로 주어진다.\n",
    "두 번째 줄에는 요리하는 데 필요한 시간 C (0 ≤ C ≤ 1,000)가 분 단위로 주어진다. \n",
    "\n",
    "출력\n",
    "첫째 줄에 종료되는 시각의 시와 분을 공백을 사이에 두고 출력한다. (단, 시는 0부터 23까지의 정수, 분은 0부터 59까지의 정수이다. 디지털 시계는 23시 59분에서 1분이 지나면 0시 0분이 된다.)"
   ]
  },
  {
   "cell_type": "code",
   "execution_count": null,
   "id": "b4265f2c-8a26-4d07-8756-07afc2b8cc21",
   "metadata": {},
   "outputs": [],
   "source": [
    "예제 입력\n",
    "14 30\n",
    "20\n",
    "예제 출력 \n",
    "14 50"
   ]
  },
  {
   "cell_type": "code",
   "execution_count": 8,
   "id": "ea479423-1a68-44a4-b36d-882ed8526023",
   "metadata": {},
   "outputs": [
    {
     "name": "stdin",
     "output_type": "stream",
     "text": [
      " 14 30\n",
      " 20\n"
     ]
    },
    {
     "name": "stdout",
     "output_type": "stream",
     "text": [
      "14 50\n"
     ]
    }
   ],
   "source": [
    "H,M = map(int,input().split())\n",
    "\n",
    "timer = int(input())\n",
    "H += timer //60\n",
    "M += timer % 60\n",
    "\n",
    "if M >= 60:\n",
    "    H+=1\n",
    "    M-=60\n",
    "if H >= 24:\n",
    "    H -=24\n",
    "    \n",
    "print(H,M)"
   ]
  },
  {
   "cell_type": "code",
   "execution_count": null,
   "id": "3dd83f7a-7b92-4c2d-b212-4bb1bfd18cc2",
   "metadata": {},
   "outputs": [],
   "source": [
    "문제\n",
    "1에서부터 6까지의 눈을 가진 3개의 주사위를 던져서 다음과 같은 규칙에 따라 상금을 받는 게임이 있다. \n",
    "\n",
    "같은 눈이 3개가 나오면 10,000원+(같은 눈)×1,000원의 상금을 받게 된다. \n",
    "같은 눈이 2개만 나오는 경우에는 1,000원+(같은 눈)×100원의 상금을 받게 된다. \n",
    "모두 다른 눈이 나오는 경우에는 (그 중 가장 큰 눈)×100원의 상금을 받게 된다.  \n",
    "예를 들어, 3개의 눈 3, 3, 6이 주어지면 상금은 1,000+3×100으로 계산되어 1,300원을 받게 된다. 또 3개의 눈이 2, 2, 2로 주어지면 10,000+2×1,000 으로 계산되어 12,000원을 받게 된다. 3개의 눈이 6, 2, 5로 주어지면 그중 가장 큰 값이 6이므로 6×100으로 계산되어 600원을 상금으로 받게 된다.\n",
    "\n",
    "3개 주사위의 나온 눈이 주어질 때, 상금을 계산하는 프로그램을 작성 하시오.\n",
    "\n",
    "입력\n",
    "첫째 줄에 3개의 눈이 빈칸을 사이에 두고 각각 주어진다. \n",
    "\n",
    "출력\n",
    "첫째 줄에 게임의 상금을 출력 한다."
   ]
  },
  {
   "cell_type": "code",
   "execution_count": null,
   "id": "3989691f-f80b-437d-85f8-fcc6577bf86e",
   "metadata": {
    "tags": []
   },
   "outputs": [],
   "source": [
    "예제 입력\n",
    "3 3 6\n",
    "예제 출력\n",
    "1300"
   ]
  },
  {
   "cell_type": "code",
   "execution_count": 10,
   "id": "df23bd91-0b99-4820-b177-44b4b450e6f1",
   "metadata": {},
   "outputs": [
    {
     "name": "stdin",
     "output_type": "stream",
     "text": [
      " 3 3 6\n"
     ]
    },
    {
     "name": "stdout",
     "output_type": "stream",
     "text": [
      "1300\n"
     ]
    }
   ],
   "source": [
    "A,B,C = map(int,input().split())\n",
    "\n",
    "if A==B==C:\n",
    "    print(10000+A*1000)\n",
    "elif A==B:\n",
    "    print(1000+A*100)\n",
    "elif A==C:\n",
    "    print(1000+A*100)\n",
    "elif B==C:\n",
    "    print(1000+B*100)\n",
    "else:\n",
    "    print(max(A,B,C)*100)"
   ]
  },
  {
   "cell_type": "code",
   "execution_count": null,
   "id": "a60afc1c-c2e2-4e40-b09a-71aa15d5f2f6",
   "metadata": {},
   "outputs": [],
   "source": [
    "문제\n",
    "N을 입력받은 뒤, 구구단 N단을 출력하는 프로그램을 작성하시오. 출력 형식에 맞춰서 출력하면 된다.\n",
    "\n",
    "입력\n",
    "첫째 줄에 N이 주어진다. N은 1보다 크거나 같고, 9보다 작거나 같다.\n",
    "\n",
    "출력\n",
    "출력형식과 같게 N*1부터 N*9까지 출력한다."
   ]
  },
  {
   "cell_type": "code",
   "execution_count": null,
   "id": "66351825-cdb7-4946-90af-5c9ff9d3d001",
   "metadata": {},
   "outputs": [],
   "source": [
    "예제 입력 \n",
    "2\n",
    "예제 출력 \n",
    "2 * 1 = 2\n",
    "2 * 2 = 4\n",
    "2 * 3 = 6\n",
    "2 * 4 = 8\n",
    "2 * 5 = 10\n",
    "2 * 6 = 12\n",
    "2 * 7 = 14\n",
    "2 * 8 = 16\n",
    "2 * 9 = 18"
   ]
  },
  {
   "cell_type": "code",
   "execution_count": 19,
   "id": "72a31a07-28be-49f4-8267-a7d20d38fd0f",
   "metadata": {},
   "outputs": [
    {
     "name": "stdin",
     "output_type": "stream",
     "text": [
      " 2\n"
     ]
    },
    {
     "name": "stdout",
     "output_type": "stream",
     "text": [
      "2 * 1 = 2\n",
      "2 * 2 = 4\n",
      "2 * 3 = 6\n",
      "2 * 4 = 8\n",
      "2 * 5 = 10\n",
      "2 * 6 = 12\n",
      "2 * 7 = 14\n",
      "2 * 8 = 16\n",
      "2 * 9 = 18\n"
     ]
    }
   ],
   "source": [
    "n = int(input())\n",
    "for i in range(1,10):\n",
    "    print(f'{n} * {i} = {n*i}')"
   ]
  },
  {
   "cell_type": "code",
   "execution_count": null,
   "id": "09b80262-609e-458d-b3e1-fe69ba3fd6e9",
   "metadata": {},
   "outputs": [],
   "source": [
    "문제\n",
    "두 정수 A와 B를 입력받은 다음, A+B를 출력하는 프로그램을 작성하시오.\n",
    "\n",
    "입력\n",
    "첫째 줄에 테스트 케이스의 개수 T가 주어진다.\n",
    "\n",
    "각 테스트 케이스는 한 줄로 이루어져 있으며, 각 줄에 A와 B가 주어진다. (0 < A, B < 10)\n",
    "\n",
    "출력\n",
    "각 테스트 케이스마다 A+B를 출력한다."
   ]
  },
  {
   "cell_type": "code",
   "execution_count": null,
   "id": "1b725c6f-409c-4c53-9ab4-d979ec0baa6f",
   "metadata": {},
   "outputs": [],
   "source": [
    "예제 입력\n",
    "5\n",
    "1 1\n",
    "2 3\n",
    "3 4\n",
    "9 8\n",
    "5 2\n",
    "예제 출력 \n",
    "2\n",
    "5\n",
    "7\n",
    "17\n",
    "7"
   ]
  },
  {
   "cell_type": "code",
   "execution_count": 24,
   "id": "cdf00c85-ed08-45ea-b331-b3c9d6e9d618",
   "metadata": {},
   "outputs": [
    {
     "name": "stdin",
     "output_type": "stream",
     "text": [
      " 5\n",
      " 1 1\n"
     ]
    },
    {
     "name": "stdout",
     "output_type": "stream",
     "text": [
      "2\n"
     ]
    },
    {
     "name": "stdin",
     "output_type": "stream",
     "text": [
      " 2 3\n"
     ]
    },
    {
     "name": "stdout",
     "output_type": "stream",
     "text": [
      "5\n"
     ]
    },
    {
     "name": "stdin",
     "output_type": "stream",
     "text": [
      " 3 4\n"
     ]
    },
    {
     "name": "stdout",
     "output_type": "stream",
     "text": [
      "7\n"
     ]
    },
    {
     "name": "stdin",
     "output_type": "stream",
     "text": [
      " 9 8\n"
     ]
    },
    {
     "name": "stdout",
     "output_type": "stream",
     "text": [
      "17\n"
     ]
    },
    {
     "name": "stdin",
     "output_type": "stream",
     "text": [
      " 5 2\n"
     ]
    },
    {
     "name": "stdout",
     "output_type": "stream",
     "text": [
      "7\n"
     ]
    }
   ],
   "source": [
    "n = int(input())\n",
    "\n",
    "for i in range(n):\n",
    "    A,B=map(int,input().split())\n",
    "    print(A+B)"
   ]
  },
  {
   "cell_type": "code",
   "execution_count": null,
   "id": "72c23a75-e9fd-496e-910a-cd00f56525e6",
   "metadata": {},
   "outputs": [],
   "source": []
  }
 ],
 "metadata": {
  "kernelspec": {
   "display_name": "Python 3 (ipykernel)",
   "language": "python",
   "name": "python3"
  },
  "language_info": {
   "codemirror_mode": {
    "name": "ipython",
    "version": 3
   },
   "file_extension": ".py",
   "mimetype": "text/x-python",
   "name": "python",
   "nbconvert_exporter": "python",
   "pygments_lexer": "ipython3",
   "version": "3.9.12"
  }
 },
 "nbformat": 4,
 "nbformat_minor": 5
}
