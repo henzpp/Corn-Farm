{
 "cells": [
  {
   "cell_type": "markdown",
   "id": "c6d93a12",
   "metadata": {},
   "source": [
    "# 09-16"
   ]
  },
  {
   "cell_type": "markdown",
   "id": "3025b42f",
   "metadata": {},
   "source": [
    "## 백준 10773 : 제로"
   ]
  },
  {
   "cell_type": "markdown",
   "id": "f56fa20c",
   "metadata": {},
   "source": [
    "나코더 기장 재민이는 동아리 회식을 준비하기 위해서 장부를 관리하는 중이다.\n",
    "재현이는 재민이를 도와서 돈을 관리하는 중인데, 애석하게도 항상 정신없는 재현이는 돈을 실수로 잘못 부르는 사고를 치기 일쑤였다.\n",
    "재현이는 잘못된 수를 부를 때마다 0을 외쳐서, 가장 최근에 재민이가 쓴 수를 지우게 시킨다.\n",
    "재민이는 이렇게 모든 수를 받아 적은 후 그 수의 합을 알고 싶어 한다. 재민이를 도와주자!"
   ]
  },
  {
   "cell_type": "markdown",
   "id": "7d090646",
   "metadata": {},
   "source": [
    "입력:\n",
    "첫 번째 줄에 정수 K가 주어진다. (1 ≤ K ≤ 100,000)\n",
    "\n",
    "이후 K개의 줄에 정수가 1개씩 주어진다. 정수는 0에서 1,000,000 사이의 값을 가지며, 정수가 \"0\" 일 경우에는 가장 최근에 쓴 수를 지우고, 아닐 경우 해당 수를 쓴다.\n",
    "\n",
    "정수가 \"0\"일 경우에 지울 수 있는 수가 있음을 보장할 수 있다.\n",
    "\n",
    "출력:\n",
    "재민이가 최종적으로 적어 낸 수의 합을 출력한다. 최종적으로 적어낸 수의 합은 231-1보다 작거나 같은 정수이다."
   ]
  },
  {
   "cell_type": "code",
   "execution_count": 15,
   "id": "7876ce95",
   "metadata": {},
   "outputs": [
    {
     "name": "stdout",
     "output_type": "stream",
     "text": [
      "K10\n",
      "1\n",
      "3\n",
      "5\n",
      "4\n",
      "0\n",
      "0\n",
      "7\n",
      "0\n",
      "0\n",
      "6\n",
      "7\n"
     ]
    }
   ],
   "source": [
    "# 내 답 -> 오답이래--\n",
    "import math\n",
    "\n",
    "stack=[]\n",
    "sum = 0\n",
    "line = int(input('K'))\n",
    "if (line < 1) or (line>100000):\n",
    "    pass\n",
    "else:\n",
    "    for i in range(line):\n",
    "        num = int(input())\n",
    "        if num==0:\n",
    "            stack.pop()\n",
    "        else:\n",
    "            stack.append(num)\n",
    "            \n",
    "    for i in stack:\n",
    "        sum += i\n",
    "        \n",
    "    if (sum>math.pow(2,31)-1):\n",
    "        pass\n",
    "    else:\n",
    "        print(sum)"
   ]
  },
  {
   "cell_type": "code",
   "execution_count": null,
   "id": "d78828e7",
   "metadata": {},
   "outputs": [],
   "source": [
    "# 블로그 정답\n",
    "n = int(input())\n",
    "z = []\n",
    "for i in range(n):\n",
    "    num = int(input())\n",
    "    if num == 0:\n",
    "        z.pop()\n",
    "    else:\n",
    "        z.append(num)\n",
    "print(sum(z))"
   ]
  },
  {
   "cell_type": "markdown",
   "id": "29318170",
   "metadata": {},
   "source": [
    "## 백준 10769 : 행복한지 슬픈지"
   ]
  },
  {
   "cell_type": "markdown",
   "id": "46e13e2c",
   "metadata": {},
   "source": [
    "- 문제 : 승엽이는 자신의 감정을 표현하기 위해서 종종 문자 메시지에 이모티콘을 넣어 보내곤 한다. 승엽이가 보내는 이모티콘은 세 개의 문자가 붙어있는 구조로 이루어져 있으며, 행복한 얼굴을 나타내는 :-) 와 슬픈 얼굴을 나타내는 :-( 가 있다.혜성이는 승엽이의 이모티콘을 귀여운 척이라고 생각해 매우 싫어하므로, 승엽이의 문자가 오면 전체적인 분위기만 판단해서 알려주는 프로그램을 작성하고 싶다.\n",
    "\n",
    "- 입력 : 첫 줄에 최소 1개에서 최대 255개의 문자들이 입력된다.\n",
    "\n",
    "- 출력 : 출력은 다음 규칙에 따라 정해진다.\n",
    "\n",
    "어떤 이모티콘도 포함되어 있지 않으면, none 을 출력한다.\n",
    "행복한 이모티콘과 슬픈 이모티콘의 수가 동일하게 포함되어 있으면, unsure 를 출력한다.\n",
    "행복한 이모티콘이 슬픈 이모티콘보다 많이 포함되어 있으면, happy 를 출력한다.\n",
    "슬픈 이모티콘이 행복한 이모티콘보다 많이 포함되어 있으면, sad 를 출력한다."
   ]
  },
  {
   "cell_type": "code",
   "execution_count": 5,
   "id": "8810f36f",
   "metadata": {},
   "outputs": [
    {
     "name": "stdout",
     "output_type": "stream",
     "text": [
      "How are you :-) doing :-( today :-)?\n",
      "happy\n"
     ]
    }
   ],
   "source": [
    "# 나의 정답 --> 맞았습니다!\n",
    "text = input()\n",
    "        \n",
    "pos = text.count(':-)')\n",
    "neg = text.count(':-(')\n",
    "\n",
    "if (pos>neg):\n",
    "    print('happy')\n",
    "elif (pos==neg)and (pos != 0) and (neg!=0):\n",
    "    print('unsure')\n",
    "elif (pos<neg):\n",
    "    print('sad')\n",
    "else :\n",
    "    print('none')\n",
    "    "
   ]
  },
  {
   "cell_type": "code",
   "execution_count": null,
   "id": "27723904",
   "metadata": {},
   "outputs": [],
   "source": [
    "How are you :-) doing :-( today :-)?\n",
    "happy\n",
    "\n",
    "This:-(is str:-(:-(ange te:-)xt.\n",
    "sad"
   ]
  },
  {
   "cell_type": "code",
   "execution_count": 13,
   "id": "30a56336",
   "metadata": {},
   "outputs": [
    {
     "name": "stdout",
     "output_type": "stream",
     "text": [
      "2x-9\n",
      "2x\n"
     ]
    }
   ],
   "source": [
    "a = input()\n",
    "if 'x' in a:\n",
    "    if\n",
    "    print(a[0:2])\n",
    "    "
   ]
  },
  {
   "cell_type": "code",
   "execution_count": null,
   "id": "c2f63040",
   "metadata": {},
   "outputs": [],
   "source": []
  }
 ],
 "metadata": {
  "kernelspec": {
   "display_name": "Python 3 (ipykernel)",
   "language": "python",
   "name": "python3"
  },
  "language_info": {
   "codemirror_mode": {
    "name": "ipython",
    "version": 3
   },
   "file_extension": ".py",
   "mimetype": "text/x-python",
   "name": "python",
   "nbconvert_exporter": "python",
   "pygments_lexer": "ipython3",
   "version": "3.8.13"
  },
  "toc": {
   "base_numbering": 1,
   "nav_menu": {},
   "number_sections": true,
   "sideBar": true,
   "skip_h1_title": false,
   "title_cell": "Table of Contents",
   "title_sidebar": "Contents",
   "toc_cell": false,
   "toc_position": {},
   "toc_section_display": true,
   "toc_window_display": false
  }
 },
 "nbformat": 4,
 "nbformat_minor": 5
}
