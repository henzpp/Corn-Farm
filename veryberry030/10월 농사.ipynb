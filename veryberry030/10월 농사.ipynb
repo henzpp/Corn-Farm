{
 "cells": [
  {
   "cell_type": "markdown",
   "id": "fad7b734",
   "metadata": {},
   "source": [
    "# 10-03"
   ]
  },
  {
   "cell_type": "markdown",
   "id": "1f48b67b",
   "metadata": {},
   "source": [
    "## 1\n",
    "구름 크기 출력하기"
   ]
  },
  {
   "cell_type": "code",
   "execution_count": 11,
   "id": "a08bb559",
   "metadata": {},
   "outputs": [
    {
     "name": "stdout",
     "output_type": "stream",
     "text": [
      "3 4\n",
      "12\n"
     ]
    }
   ],
   "source": [
    "N,M = map(int,input().split(' '))\n",
    "print (N*M)"
   ]
  },
  {
   "cell_type": "markdown",
   "id": "68a102b3",
   "metadata": {},
   "source": [
    "## 2\n",
    "현대모비스 예선 dead or alive"
   ]
  },
  {
   "cell_type": "code",
   "execution_count": null,
   "id": "66b413a0",
   "metadata": {},
   "outputs": [],
   "source": [
    "입력 : \n",
    "    - 차량 수 : n (1<=n<=2,000,000)\n",
    "    - 각 차량의 특성 : 속도 v(1<=v<=1000), 내구도 w(1<=w<=1,000,000,000)\n",
    "        \n",
    "조건 : \n",
    "    - 속도가 같으면 내구도가 높은 애만 살아남음\n",
    "    - 속도와 내구도가 모두 같다면 차량번호가 가장 큰 차만 살아남음\n",
    "    \n",
    "출력 : 결승전에 들어온 차량의 번호의 합"
   ]
  },
  {
   "cell_type": "code",
   "execution_count": 25,
   "id": "1b792ad9",
   "metadata": {},
   "outputs": [
    {
     "name": "stdout",
     "output_type": "stream",
     "text": [
      "5\n",
      "1 50\n",
      "5 10\n",
      "3 20\n",
      "3 15\n",
      "3 25\n",
      "9\n"
     ]
    }
   ],
   "source": [
    "n = int(input())\n",
    "\n",
    "v_li = []\n",
    "w_li = []\n",
    "for i in range(n):\n",
    "    v,w = map(int,input().split(' '))\n",
    "    v_li.append(v)\n",
    "    w_li.append(w)\n",
    "    \n",
    "result = 0\n",
    "for i in range(n-1):\n",
    "    if v_li[i]==v_li[i+1]:\n",
    "        if w_li[i]==w_li[i+1]:\n",
    "            result += i+2\n",
    "        elif w_li[i]>w_li[i+1]:\n",
    "            result += i+1\n",
    "        else:\n",
    "            result += i+2\n",
    "    else:\n",
    "        result += i\n",
    "print(result)"
   ]
  },
  {
   "cell_type": "code",
   "execution_count": null,
   "id": "243c12e1",
   "metadata": {},
   "outputs": [],
   "source": [
    "5\n",
    "1 50\n",
    "5 10\n",
    "3 20\n",
    "3 15\n",
    "3 25\n"
   ]
  }
 ],
 "metadata": {
  "kernelspec": {
   "display_name": "Python 3 (ipykernel)",
   "language": "python",
   "name": "python3"
  },
  "language_info": {
   "codemirror_mode": {
    "name": "ipython",
    "version": 3
   },
   "file_extension": ".py",
   "mimetype": "text/x-python",
   "name": "python",
   "nbconvert_exporter": "python",
   "pygments_lexer": "ipython3",
   "version": "3.9.13"
  }
 },
 "nbformat": 4,
 "nbformat_minor": 5
}
