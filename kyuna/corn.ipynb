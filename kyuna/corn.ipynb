{
 "cells": [
  {
   "cell_type": "markdown",
   "id": "bce231c1-4fa6-44c0-ab2f-a2fb0eb85590",
   "metadata": {},
   "source": [
    "# Corn01\n",
    "1098 : [기초-2차원배열] 설탕과자 뽑기\n",
    "\n",
    "```\n",
    "- 부모님과 함께 유원지에 놀러간 영일이는\n",
    "설탕과자(설탕을 녹여 물고기 등의 모양을 만든 것) 뽑기를 보게 되었다.\n",
    "\n",
    "- 길이가 다른 몇 개의 막대를 바둑판과 같은 격자판에 놓는데, 막대에 있는 설탕과자 이름 아래에 있는 번호를 뽑으면 설탕과자를 가져가는 게임이었다.\n",
    "(잉어, 붕어, 용 등 여러 가지가 적혀있다.)\n",
    "\n",
    "- 격자판의 세로(h), 가로(w), 막대의 개수(n), 각 막대의 길이(l),\n",
    "막대를 놓는 방향(d:가로는 0, 세로는 1)과\n",
    "막대를 놓는 막대의 가장 왼쪽 또는 위쪽의 위치(x, y)가 주어질 때, \n",
    "격자판을 채운 막대의 모양을 출력하는 프로그램을 만들어보자.\n",
    "```\n",
    "\n",
    "![pimg6214_2.png](attachment:pimg6214_2.png)\n",
    "\n",
    "```\n",
    "input\n",
    "5 5\n",
    "3\n",
    "2 0 1 1\n",
    "3 1 2 3\n",
    "4 1 2 5\n",
    "\n",
    "output\n",
    "1 1 0 0 0\n",
    "0 0 1 0 1\n",
    "0 0 1 0 1\n",
    "0 0 1 0 1\n",
    "0 0 0 0 1\n",
    "```"
   ]
  },
  {
   "cell_type": "markdown",
   "id": "2ac8a6ce-8094-4ad3-b743-4790bb4ed270",
   "metadata": {},
   "source": [
    "정리\n",
    "```\n",
    "input\n",
    "[h w] : 격자판 가로 세로 크기\n",
    "[n] : 막대의 개수\n",
    "[l] : 막대의 길이 [d] : 방향 ( 0 : 가로, 1 : 세로) [x y] : 막대의 위치\n",
    "\n",
    "```"
   ]
  },
  {
   "cell_type": "code",
   "execution_count": null,
   "id": "a334df68-0f3b-4db8-a82b-4f40f4e8e462",
   "metadata": {},
   "outputs": [],
   "source": []
  }
 ],
 "metadata": {
  "kernelspec": {
   "display_name": "Python 3 (ipykernel)",
   "language": "python",
   "name": "python3"
  },
  "language_info": {
   "codemirror_mode": {
    "name": "ipython",
    "version": 3
   },
   "file_extension": ".py",
   "mimetype": "text/x-python",
   "name": "python",
   "nbconvert_exporter": "python",
   "pygments_lexer": "ipython3",
   "version": "3.9.12"
  }
 },
 "nbformat": 4,
 "nbformat_minor": 5
}
