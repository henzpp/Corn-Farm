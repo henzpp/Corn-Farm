{
 "cells": [
  {
   "cell_type": "markdown",
   "id": "edbe4be1",
   "metadata": {},
   "source": [
    "# 09-01\n",
    "\n",
    "## Q79.\n",
    "M 이상 N 이하의 소수를 모두 출력하는 프로그램을 작성하세요.\n",
    "- 입력조건\n",
    "  - 첫째 줄에 자연수 M과 N이 빈칸을 사이에 두고 주어진다.(1<=M<=N<=1,000,000)\n",
    "  - 단 M이상 N 이하의 소수가 하나 이상 있는 입력만 주어진다."
   ]
  },
  {
   "cell_type": "code",
   "execution_count": 1,
   "id": "a35b6072",
   "metadata": {},
   "outputs": [
    {
     "name": "stdout",
     "output_type": "stream",
     "text": [
      "숫자 입력 > 3 20\n",
      "[3, 5, 7, 11, 13, 17, 19]\n"
     ]
    }
   ],
   "source": [
    "def sosu(n):\n",
    "    if n <= 2:\n",
    "        return False\n",
    "    else :\n",
    "        for i in range(2,n):\n",
    "            if n%i == 0:\n",
    "                return False\n",
    "        return True\n",
    "    \n",
    "M,N = map(int,input('숫자 입력 > ').split())\n",
    "\n",
    "li = []\n",
    "if M>N or M<1 or N<1 or N>1000000:\n",
    "    M,N\n",
    "else:\n",
    "    for i in range(M,N):\n",
    "        if sosu(i)== True:\n",
    "            li.append(i)\n",
    "    print(li)"
   ]
  },
  {
   "cell_type": "code",
   "execution_count": null,
   "id": "35c66c0f",
   "metadata": {},
   "outputs": [],
   "source": []
  }
 ],
 "metadata": {
  "kernelspec": {
   "display_name": "Python 3 (ipykernel)",
   "language": "python",
   "name": "python3"
  },
  "language_info": {
   "codemirror_mode": {
    "name": "ipython",
    "version": 3
   },
   "file_extension": ".py",
   "mimetype": "text/x-python",
   "name": "python",
   "nbconvert_exporter": "python",
   "pygments_lexer": "ipython3",
   "version": "3.9.12"
  },
  "toc": {
   "base_numbering": 1,
   "nav_menu": {},
   "number_sections": true,
   "sideBar": true,
   "skip_h1_title": false,
   "title_cell": "Table of Contents",
   "title_sidebar": "Contents",
   "toc_cell": false,
   "toc_position": {},
   "toc_section_display": true,
   "toc_window_display": false
  }
 },
 "nbformat": 4,
 "nbformat_minor": 5
}
