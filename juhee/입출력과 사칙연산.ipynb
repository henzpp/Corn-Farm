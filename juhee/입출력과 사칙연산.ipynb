{
 "cells": [
  {
   "cell_type": "markdown",
   "id": "08d8c85a",
   "metadata": {},
   "source": [
    "# 1 Hello World!를 출력하시오."
   ]
  },
  {
   "cell_type": "code",
   "execution_count": 1,
   "id": "f5dd0d03",
   "metadata": {},
   "outputs": [
    {
     "name": "stdout",
     "output_type": "stream",
     "text": [
      "Hello World!\n"
     ]
    }
   ],
   "source": [
    "#1 \n",
    "print('Hello World!')"
   ]
  },
  {
   "cell_type": "markdown",
   "id": "33340d0f",
   "metadata": {},
   "source": [
    "# 2 ACM-ICPC 인터넷 예선, Regional, 그리고 World Finals까지 이미 2회씩 진출해버린 kriii는 미련을 버리지 못하고 왠지 모르게 올해에도 파주 World Finals 준비 캠프에 참여했다. 대회를 뜰 줄 모르는 지박령 kriii를 위해서 격려의 문구를 출력해주자.\n",
    "\n",
    "- 출력\n",
    "- 두 줄에 걸쳐 \"강한친구 대한육군\"을 한 줄에 한 번씩 출력한다."
   ]
  },
  {
   "cell_type": "code",
   "execution_count": 3,
   "id": "e0f2a148",
   "metadata": {},
   "outputs": [
    {
     "name": "stdout",
     "output_type": "stream",
     "text": [
      "강한친구 대한육군\n",
      "강한친구 대한육군\n"
     ]
    }
   ],
   "source": [
    "#2\n",
    "print('강한친구 대한육군')\n",
    "print('강한친구 대한육군')"
   ]
  },
  {
   "cell_type": "markdown",
   "id": "32d0bb7d",
   "metadata": {},
   "source": [
    "# 3 두 정수 A와 B를 입력받은 다음, A+B를 출력하는 프로그램을 작성하시오."
   ]
  },
  {
   "cell_type": "code",
   "execution_count": 10,
   "id": "74a0f3c9",
   "metadata": {},
   "outputs": [
    {
     "name": "stdout",
     "output_type": "stream",
     "text": [
      "1 2\n",
      "3\n"
     ]
    }
   ],
   "source": [
    "#3 두 정수 A와 B를 입력받은 다음, A+B를 출력하는 프로그램을 작성하시오.\n",
    "#첫째 줄에 A와 B가 주어진다. (0 < A, B < 10)\n",
    "#첫째 줄에 A+B를 출력한다.\n",
    "a,b = input().split() #언패킹 \n",
    "a = int(a)\n",
    "b = int(b)\n",
    "print(a+b)\n"
   ]
  },
  {
   "cell_type": "markdown",
   "id": "497b3050",
   "metadata": {},
   "source": [
    "# 4 두 정수 A와 B를 입력받은 다음, A-B를 출력하는 프로그램을 작성하시오."
   ]
  },
  {
   "cell_type": "code",
   "execution_count": 11,
   "id": "9bcdc9db",
   "metadata": {},
   "outputs": [
    {
     "name": "stdout",
     "output_type": "stream",
     "text": [
      "3 2\n",
      "1\n"
     ]
    }
   ],
   "source": [
    "#4 두 정수 A와 B를 입력받은 다음, A-B를 출력하는 프로그램을 작성하시오.\n",
    "#첫째 줄에 A와 B가 주어진다. (0 < A, B < 10)\n",
    "#첫째 줄에 A-B를 출력한다.\n",
    "a,b = input().split()\n",
    "a = int(a)\n",
    "b = int(b)\n",
    "print(a-b)"
   ]
  },
  {
   "cell_type": "markdown",
   "id": "adf8f4eb",
   "metadata": {},
   "source": [
    "# 5 두 정수 A와 B를 입력받은 다음, A×B를 출력하는 프로그램을 작성하시오."
   ]
  },
  {
   "cell_type": "code",
   "execution_count": 15,
   "id": "cb427c69",
   "metadata": {},
   "outputs": [
    {
     "name": "stdout",
     "output_type": "stream",
     "text": [
      "4 5\n",
      "0.8\n"
     ]
    }
   ],
   "source": [
    "#5 곱하기\n",
    "a,b = input().split()\n",
    "a = int(a)\n",
    "b = int(b)\n",
    "print(a*b)"
   ]
  },
  {
   "cell_type": "markdown",
   "id": "7deacb86",
   "metadata": {},
   "source": [
    "# 6 두 정수 A와 B를 입력받은 다음, A/B를 출력하는 프로그램을 작성하시오."
   ]
  },
  {
   "cell_type": "code",
   "execution_count": 19,
   "id": "038f7c6d",
   "metadata": {},
   "outputs": [
    {
     "name": "stdout",
     "output_type": "stream",
     "text": [
      "3 4\n",
      "0.75\n"
     ]
    }
   ],
   "source": [
    "#6 사칙연산 \n",
    "a,b = input().split()\n",
    "a = int(a)\n",
    "b = int(b)\n",
    "\n",
    "print(a/b)"
   ]
  },
  {
   "cell_type": "markdown",
   "id": "62e00b36",
   "metadata": {},
   "source": [
    "# 7 두 자연수 A와 B가 주어진다. 이때, A+B, A-B, A*B, A/B(몫), A%B(나머지)를 출력하는 프로그램을 작성하시오. "
   ]
  },
  {
   "cell_type": "code",
   "execution_count": 20,
   "id": "78a40beb",
   "metadata": {},
   "outputs": [
    {
     "name": "stdout",
     "output_type": "stream",
     "text": [
      "7 3\n",
      "10\n",
      "4\n",
      "21\n",
      "2\n",
      "1\n"
     ]
    }
   ],
   "source": [
    "#7 사칙연산 \n",
    "a,b = input().split()\n",
    "a = int(a)\n",
    "b = int(b)\n",
    "print(a+b)\n",
    "print(a-b)\n",
    "print(a*b)\n",
    "print(a//b)\n",
    "print(a%b)"
   ]
  },
  {
   "cell_type": "markdown",
   "id": "3eb6d3e4",
   "metadata": {},
   "source": [
    "# 8 준하는 사이트에 회원가입을 하다가 joonas라는 아이디가 이미 존재하는 것을 보고 놀랐다. 준하는 놀람을 ??!로 표현한다. 준하가 가입하려고 하는 사이트에 이미 존재하는 아이디가 주어졌을 때, 놀람을 표현하는 프로그램을 작성하시오."
   ]
  },
  {
   "cell_type": "code",
   "execution_count": 21,
   "id": "b094a725",
   "metadata": {},
   "outputs": [
    {
     "name": "stdout",
     "output_type": "stream",
     "text": [
      "joonas\n",
      "joonas??!\n"
     ]
    }
   ],
   "source": [
    "#8 문자열 연산 \n",
    "jn = input()\n",
    "print(jn + '??!')"
   ]
  },
  {
   "cell_type": "markdown",
   "id": "30d43b41",
   "metadata": {},
   "source": [
    "# 9 \n",
    "ICPC Bangkok Regional에 참가하기 위해 수완나품 국제공항에 막 도착한 팀 레드시프트 일행은 눈을 믿을 수 없었다. 공항의 대형 스크린에 올해가 2562년이라고 적혀 있던 것이었다.\n",
    "\n",
    "불교 국가인 태국은 불멸기원(佛滅紀元), 즉 석가모니가 열반한 해를 기준으로 연도를 세는 불기를 사용한다. 반면, 우리나라는 서기 연도를 사용하고 있다. 불기 연도가 주어질 때 이를 서기 연도로 바꿔 주는 프로그램을 작성하시오.\n",
    "\n",
    "```\n",
    "- 입력 : 서기 연도를 알아보고 싶은 불기 연도 y가 주어진다. (1000 ≤ y ≤ 3000)\n",
    "- 출력 : 불기 연도를 서기 연도로 변환한 결과를 출력한다.\n",
    "```"
   ]
  },
  {
   "cell_type": "code",
   "execution_count": 25,
   "id": "a35597c0",
   "metadata": {},
   "outputs": [
    {
     "name": "stdout",
     "output_type": "stream",
     "text": [
      "2541\n",
      "1998\n"
     ]
    }
   ],
   "source": [
    "#9번 \n",
    "bulgi = int(input())\n",
    "print(bulgi - 543)\n"
   ]
  },
  {
   "cell_type": "markdown",
   "id": "2dd61635",
   "metadata": {},
   "source": [
    "# 10 \n",
    "동혁이는 오래된 창고를 뒤지다가 낡은 체스판과 피스를 발견했다.\n",
    "\n",
    "체스판의 먼지를 털어내고 걸레로 닦으니 그럭저럭 쓸만한 체스판이 되었다. 하지만, 검정색 피스는 모두 있었으나, 흰색 피스는 개수가 올바르지 않았다.\n",
    "\n",
    "체스는 총 16개의 피스를 사용하며, 킹 1개, 퀸 1개, 룩 2개, 비숍 2개, 나이트 2개, 폰 8개로 구성되어 있다.\n",
    "\n",
    "동혁이가 발견한 흰색 피스의 개수가 주어졌을 때, 몇 개를 더하거나 빼야 올바른 세트가 되는지 구하는 프로그램을 작성하시오.\n",
    "\n",
    "```\n",
    "- 입력 : 첫째 줄에 동혁이가 찾은 흰색 킹, 퀸, 룩, 비숍, 나이트, 폰의 개수가 주어진다. 이 값은 0보다 크거나 같고 10보다 작거나 같은 정수이다.\n",
    "- 출력 :첫째 줄에 입력에서 주어진 순서대로 몇 개의 피스를 더하거나 빼야 되는지를 출력한다. 만약 수가 양수라면 동혁이는 그 개수 만큼 피스를 더해야 하는 것이고, 음수라면 제거해야 하는 것이다.\n",
    "```"
   ]
  },
  {
   "cell_type": "code",
   "execution_count": 34,
   "id": "fbb132af",
   "metadata": {},
   "outputs": [
    {
     "name": "stdout",
     "output_type": "stream",
     "text": [
      "0 1 2 2 2 7\n",
      "1 0 0 0 0 1\n"
     ]
    }
   ],
   "source": [
    "#10번 킹 1개, 퀸 1개, 룩 2개, 비숍 2개, 나이트 2개, 폰 8개\n",
    "chess = input().split(' ')\n",
    "k, q, l, b, n, p = map(int, chess)\n",
    "k_b = 1\n",
    "q_b = 1\n",
    "l_b = 2\n",
    "b_b = 2\n",
    "n_b = 2\n",
    "p_b = 8\n",
    "print(k_b - k, q_b - q, l_b - l, b_b - b, n_b - n, p_b - p)"
   ]
  },
  {
   "cell_type": "markdown",
   "id": "7c379510",
   "metadata": {},
   "source": [
    "# 11\n",
    "(A+B)%C는 ((A%C) + (B%C))%C 와 같을까?\n",
    "\n",
    "(A×B)%C는 ((A%C) × (B%C))%C 와 같을까?\n",
    "\n",
    "세 수 A, B, C가 주어졌을 때, 위의 네 가지 값을 구하는 프로그램을 작성하시오.\n",
    "\n",
    "```\n",
    "- 입력 : 첫째 줄에 A, B, C가 순서대로 주어진다. (2 ≤ A, B, C ≤ 10000)\n",
    "- 출력 : 첫째 줄에 (A+B)%C, 둘째 줄에 ((A%C) + (B%C))%C, 셋째 줄에 (A×B)%C, 넷째 줄에 ((A%C) × (B%C))%C를 출력한다.\n",
    "```"
   ]
  },
  {
   "cell_type": "code",
   "execution_count": 40,
   "id": "bf816bc7",
   "metadata": {},
   "outputs": [
    {
     "name": "stdout",
     "output_type": "stream",
     "text": [
      "5 8 4\n",
      "1\n",
      "1\n",
      "0\n",
      "0\n"
     ]
    }
   ],
   "source": [
    "#11번 \n",
    "#map(함수, 반복 가능한 자료형)\n",
    "#—> 두 번째 인자로 들어온 반복 가능한 자료형 (리스트나 튜플)을 첫 번째 인자로 들어온 함수에 하나씩 집어넣어서 함수를 수행하는 함수\n",
    "#map 함수의 반환 값은 map객체 이기 때문에 다시 list로 변환\n",
    "A, B, C = list(map(int, input('숫자 세 개를 입력하세요: ').split()))\n",
    "print((A+B)%C)\n",
    "print(((A%C) + (B%C))%C)\n",
    "print((A*B)%C)\n",
    "print(((A%C) * (B%C))%C)\n"
   ]
  },
  {
   "cell_type": "markdown",
   "id": "82000431",
   "metadata": {},
   "source": [
    "# 12\n",
    "https://www.acmicpc.net/problem/2588"
   ]
  },
  {
   "cell_type": "code",
   "execution_count": 26,
   "id": "3160ccbe",
   "metadata": {
    "scrolled": true
   },
   "outputs": [
    {
     "name": "stdout",
     "output_type": "stream",
     "text": [
      "첫번째줄 숫자를 입력하세요.472\n",
      "두번째줄 숫자를 입력하세요.385\n",
      "2360\n",
      "3776\n",
      "1416\n",
      "181720\n"
     ]
    }
   ],
   "source": [
    "#12 \n",
    "first = input('첫번째줄 숫자를 입력하세요.')\n",
    "second = input('두번째줄 숫자를 입력하세요.')\n",
    "\n",
    "first_li = list(first) #문자열 쪼개기 - 리스트에 넣기\n",
    "second_li = list(second)\n",
    "\n",
    "#정수로 변환 \n",
    "first_li_int = list(map(int, first_li))\n",
    "second_li_int = list(map(int, second_li))\n",
    "\n",
    "three1 = first_li_int[2] * second_li_int[2]\n",
    "if len(str(three1)) != 1:\n",
    "    three1_s = str(three1)[-1]\n",
    "else:\n",
    "    three1 = str('0' + str(first_li_int[2] * second_li_int[2]))\n",
    "    three1_s = str(three1)[-1]\n",
    "\n",
    "two1 = first_li_int[1] * second_li_int[2]\n",
    "if len(str(two1)) != 1:\n",
    "    two1_s = str(int(str(two1)[-1]) + int(str(three1)[0]))\n",
    "else:\n",
    "    two1 = str('0' + str(first_li_int[1] * second_li_int[2]))\n",
    "    two1_s = str(int(str(two1)[-1]) + int(str(three1)[0]))\n",
    "\n",
    "one1 = first_li_int[0] * second_li_int[2]\n",
    "if len(str(one1)) != 1:\n",
    "    one1_s = str(one1 + int(str(two1)[0]))\n",
    "else:\n",
    "    one1 = str('0' + str(first_li_int[0] * second_li_int[2]))\n",
    "    one1_s = str(one1 + int(str(two1)[0]))\n",
    "first_line = one1_s + two1_s + three1_s\n",
    "\n",
    "\n",
    "three2 = first_li_int[2] * second_li_int[1]\n",
    "if len(str(three2)) != 1:\n",
    "    three2_s = str(three2)[-1]\n",
    "else:\n",
    "    three2 = str('0' + str(first_li_int[2] * second_li_int[1]))\n",
    "    three2_s = str(three2)[-1]\n",
    "\n",
    "two2 = first_li_int[1] * second_li_int[1]\n",
    "if len(str(two2)) != 1:\n",
    "    two2_s= str(int(str(two2)[-1]) + int(str(three2)[0]))\n",
    "else:\n",
    "    two2 = str('0' + str(first_li_int[1] * second_li_int[1]))\n",
    "    two2_s= str(int(str(two2)[-1]) + int(str(three2)[0]))\n",
    "\n",
    "one2 = first_li_int[0] * second_li_int[1]\n",
    "if len(str(one2)) != 1:\n",
    "    one2_s = str(one2 + int(str(two2)[0]))\n",
    "else:\n",
    "    one2 = str('0' + str(first_li_int[0] * second_li_int[1]))\n",
    "    one2_s = str(one2 + int(str(two2)[0]))\n",
    "\n",
    "second_line = one2_s + two2_s + three2_s\n",
    "\n",
    "three3 = first_li_int[2] * second_li_int[0]\n",
    "if len(str(three3)) != 1:\n",
    "    three3_s = str(three3)[-1]\n",
    "else:\n",
    "    three3 = str('0' + str(first_li_int[2] * second_li_int[0]))\n",
    "    three3_s = str(three3)[-1]\n",
    "\n",
    "two3 = first_li_int[1] * second_li_int[0]\n",
    "if len(str(two3)) != 1:\n",
    "    two3_s= str(int(str(two3)[-1]) + int(str(three3)[0]))\n",
    "else:\n",
    "    two3 = str('0' + str(first_li_int[1] * second_li_int[0]))\n",
    "    two3_s = str(int(str(two3)[-1]) + int(str(three3)[0]))\n",
    "\n",
    "one3 = first_li_int[0] * second_li_int[0]\n",
    "if len(str(one3)) != 1:\n",
    "    one3_s = str(one3 + int(str(two3)[0]))\n",
    "else:\n",
    "    one3 = str('0' + str(first_li_int[0] * second_li_int[0]))\n",
    "    one3_s = str(one3 + int(str(two3)[0]))\n",
    "third_line = one3_s + two3_s + three3_s\n",
    "\n",
    "#한자리수면 두자리수로 만들어주는게 필요하네\n",
    "final_six = str(int(first_line[3]))\n",
    "\n",
    "final_five = str(int(first_line[2]) + int(second_line[3]))\n",
    "final_five_s = str(int(first_line[2]) + int(second_line[3]))[-1]\n",
    "\n",
    "final_four = str(int(first_line[1]) + int(second_line[2]) + int(third_line[3]) + int(final_five[0]))\n",
    "final_four_s = str(int(first_line[1]) + int(second_line[2]) + int(third_line[3]) + int(final_five[0]))[-1]\n",
    "\n",
    "final_three = str(int(first_line[0]) + int(second_line[1]) + int(third_line[2]) + int(final_four[0]))\n",
    "final_three_s = str(int(first_line[0]) + int(second_line[1]) + int(third_line[2]) + int(final_four[0]))[-1]\n",
    "\n",
    "final_two = str(int(second_line[0]) + int(third_line[1]) + int(final_three[0]))\n",
    "final_two_s = str(int(second_line[0]) + int(third_line[1]) + int(final_three[0]))[-1]\n",
    "\n",
    "final_one = third_line[0]\n",
    "\n",
    "\n",
    "\n",
    "\n",
    "\n",
    "\n",
    "final_line = final_one + final_two_s + final_three_s + final_four_s + final_five_s + final_six \n",
    "\n",
    "print(first_line)\n",
    "print(second_line)\n",
    "print(third_line)\n",
    "print(final_line)"
   ]
  },
  {
   "cell_type": "code",
   "execution_count": 12,
   "id": "5bd0d88b",
   "metadata": {},
   "outputs": [
    {
     "name": "stdout",
     "output_type": "stream",
     "text": [
      "첫번째줄 숫자를 입력하세요.472\n",
      "두번째줄 숫자를 입력하세요.385\n"
     ]
    },
    {
     "data": {
      "text/plain": [
       "[10, 35, 20, 16, 56, 32, 6, 21, 12]"
      ]
     },
     "execution_count": 12,
     "metadata": {},
     "output_type": "execute_result"
    }
   ],
   "source": [
    "first = input('첫번째줄 숫자를 입력하세요.')\n",
    "second = input('두번째줄 숫자를 입력하세요.')\n",
    "\n",
    "first_li = list(first) #문자열 쪼개기 - 리스트에 넣기\n",
    "second_li = list(second)\n",
    "\n",
    "#정수로 변환 \n",
    "first_li_int = list(map(int, first_li))\n",
    "second_li_int = list(map(int, second_li))\n",
    "\n",
    "\n",
    "for i in [2, 1, 0]:\n",
    "    for j in [2, 1, 0]:\n",
    "        "
   ]
  },
  {
   "cell_type": "code",
   "execution_count": 20,
   "id": "7fceb983",
   "metadata": {},
   "outputs": [
    {
     "data": {
      "text/plain": [
       "'0가'"
      ]
     },
     "execution_count": 20,
     "metadata": {},
     "output_type": "execute_result"
    }
   ],
   "source": [
    "str('0' + '가')"
   ]
  },
  {
   "cell_type": "markdown",
   "id": "95099700",
   "metadata": {},
   "source": [
    "# 13 고양이 출력\n",
    "https://www.acmicpc.net/problem/10171"
   ]
  },
  {
   "cell_type": "markdown",
   "id": "8d8d61e6",
   "metadata": {},
   "source": [
    " "
   ]
  },
  {
   "cell_type": "code",
   "execution_count": 5,
   "id": "9ef109be",
   "metadata": {},
   "outputs": [
    {
     "name": "stdout",
     "output_type": "stream",
     "text": [
      "\n",
      "\\    /\\\n",
      " )  ( ')\n",
      "(  /  )\n",
      " \\(__)|\n",
      " \n"
     ]
    }
   ],
   "source": [
    "#이스케이프 기능 무시하고 문자열로 출력하고 싶을때\n",
    "#문자열 앞에 r붙이기 \n",
    "\n",
    "print(r\"\"\"\n",
    "\\    /\\\n",
    " )  ( ')\n",
    "(  /  )\n",
    " \\(__)|\n",
    " \"\"\")"
   ]
  },
  {
   "cell_type": "code",
   "execution_count": 6,
   "id": "ddf25154",
   "metadata": {},
   "outputs": [
    {
     "name": "stdout",
     "output_type": "stream",
     "text": [
      "\\    /\\\n",
      " )  ( ')\n",
      "(  /  )\n",
      " \\(__)|\n"
     ]
    }
   ],
   "source": [
    "#혹은 이스케이프 두번 써주기 \n",
    "print('\\\\    /\\\\')\n",
    "print(\" )  ( ')\")\n",
    "print('(  /  )')\n",
    "print(' \\\\(__)|')\n"
   ]
  },
  {
   "cell_type": "markdown",
   "id": "cb9eaf72",
   "metadata": {},
   "source": [
    "# 14 개"
   ]
  },
  {
   "cell_type": "code",
   "execution_count": null,
   "id": "d4f7575e",
   "metadata": {},
   "outputs": [],
   "source": [
    "|\\_/|\n",
    "|q p|   /}\n",
    "( 0 )\"\"\"\\\n",
    "|\"^\"`    |\n",
    "||_/=\\\\__|"
   ]
  },
  {
   "cell_type": "code",
   "execution_count": 9,
   "id": "072a6fde",
   "metadata": {},
   "outputs": [
    {
     "name": "stdout",
     "output_type": "stream",
     "text": [
      "\n",
      "|\\_/|\n",
      "|q p|   /}\n",
      "( 0 )\"\"\"|\"^\"`    |\n",
      "||_/=\\__|\n",
      "\n"
     ]
    }
   ],
   "source": [
    "print(r'|\\_/|')\n",
    "print('|q p|   /}')\n",
    "print('( 0 )\"\"\"\\\\')\n",
    "print('|\"^\"`    |')\n",
    "print(r'||_/=\\\\__|')"
   ]
  },
  {
   "cell_type": "markdown",
   "id": "3d2a6843",
   "metadata": {},
   "source": [
    "# 15 새싹 출력"
   ]
  },
  {
   "cell_type": "code",
   "execution_count": null,
   "id": "3c231045",
   "metadata": {},
   "outputs": [],
   "source": [
    "         ,r'\"7\n",
    "r`-_   ,'  ,/\n",
    " \\. \". L_r'\n",
    "   `~\\/\n",
    "      |\n",
    "      |"
   ]
  },
  {
   "cell_type": "code",
   "execution_count": 6,
   "id": "45ebea27",
   "metadata": {},
   "outputs": [
    {
     "name": "stdout",
     "output_type": "stream",
     "text": [
      "\n",
      "         ,r'\"7\n",
      "r`-_   ,'  ,/\n",
      " \\. \". L_r'\n",
      "   `~\\/\n",
      "      |\n",
      "      |\n",
      "\n"
     ]
    }
   ],
   "source": [
    "print(\"\"\"\n",
    "         ,r'\"7\n",
    "r`-_   ,'  ,/\n",
    " \\. \". L_r'\n",
    "   `~\\/\n",
    "      |\n",
    "      |\n",
    "\"\"\")"
   ]
  },
  {
   "cell_type": "code",
   "execution_count": 8,
   "id": "d29d26fb",
   "metadata": {},
   "outputs": [
    {
     "name": "stdout",
     "output_type": "stream",
     "text": [
      "         ,r'\"7\n",
      "r`-_   ,'  ,/\n",
      " \\. \". L_r'\n",
      "   `~\\/\n",
      "      |\n",
      "      |\n"
     ]
    }
   ],
   "source": [
    "print(\"\"\"         ,r'\"7\"\"\")\n",
    "print(\"\"\"r`-_   ,'  ,/\"\"\")\n",
    "print(\"\"\" \\. \". L_r'\"\"\")\n",
    "print(\"\"\"   `~\\/\"\"\")\n",
    "print(\"\"\"      |\"\"\")\n",
    "print(\"\"\"      |\"\"\")"
   ]
  }
 ],
 "metadata": {
  "kernelspec": {
   "display_name": "Python 3 (ipykernel)",
   "language": "python",
   "name": "python3"
  },
  "language_info": {
   "codemirror_mode": {
    "name": "ipython",
    "version": 3
   },
   "file_extension": ".py",
   "mimetype": "text/x-python",
   "name": "python",
   "nbconvert_exporter": "python",
   "pygments_lexer": "ipython3",
   "version": "3.9.7"
  },
  "toc": {
   "base_numbering": 1,
   "nav_menu": {},
   "number_sections": false,
   "sideBar": true,
   "skip_h1_title": false,
   "title_cell": "Table of Contents",
   "title_sidebar": "Contents",
   "toc_cell": false,
   "toc_position": {
    "height": "calc(100% - 180px)",
    "left": "10px",
    "top": "150px",
    "width": "164.988px"
   },
   "toc_section_display": true,
   "toc_window_display": true
  }
 },
 "nbformat": 4,
 "nbformat_minor": 5
}
