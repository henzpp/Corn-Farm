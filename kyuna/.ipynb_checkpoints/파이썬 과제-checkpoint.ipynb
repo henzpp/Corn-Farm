{
 "cells": [
  {
   "cell_type": "markdown",
   "id": "ff18051a-b1fa-47a8-a324-deeb91691e43",
   "metadata": {},
   "source": [
    "#### Q78 - 0830\n",
    "소수란 2보다 큰 자연수 중에서 1과 자기자신을 제외한 자연수로는 나누어떨어지지 않는 자연수이다. 어떠한 자연수가 소수인지 아닌지 판별하는 프로그램을 작성하세요."
   ]
  },
  {
   "cell_type": "markdown",
   "id": "55aba8ba-c17e-46ce-937c-4679a1380589",
   "metadata": {},
   "source": [
    "#### Q79.\n",
    "M 이상 N 이하의 소수를 모두 출력하는 프로그램을 작성하세요.\n",
    "- 입력조건\n",
    "  - 첫째 줄에 자연수 M과 N이 빈칸을 사이에 두고 주어진다.(1<=M<=N<=1,000,000)\n",
    "  - 단 M이상 N 이하의 소수가 하나 이상 있는 입력만 주어진다."
   ]
  },
  {
   "cell_type": "code",
   "execution_count": null,
   "id": "474b40d7-6785-4689-96e7-c905c49fcaa4",
   "metadata": {},
   "outputs": [],
   "source": []
  }
 ],
 "metadata": {
  "kernelspec": {
   "display_name": "Python 3 (ipykernel)",
   "language": "python",
   "name": "python3"
  },
  "language_info": {
   "codemirror_mode": {
    "name": "ipython",
    "version": 3
   },
   "file_extension": ".py",
   "mimetype": "text/x-python",
   "name": "python",
   "nbconvert_exporter": "python",
   "pygments_lexer": "ipython3",
   "version": "3.9.12"
  },
  "toc": {
   "base_numbering": 1,
   "nav_menu": {},
   "number_sections": false,
   "sideBar": true,
   "skip_h1_title": false,
   "title_cell": "Table of Contents",
   "title_sidebar": "Contents",
   "toc_cell": false,
   "toc_position": {},
   "toc_section_display": true,
   "toc_window_display": false
  }
 },
 "nbformat": 4,
 "nbformat_minor": 5
}
