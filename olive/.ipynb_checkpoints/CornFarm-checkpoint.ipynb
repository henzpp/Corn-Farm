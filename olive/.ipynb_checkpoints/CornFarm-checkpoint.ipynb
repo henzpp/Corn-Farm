{
 "cells": [
  {
   "cell_type": "markdown",
   "id": "77dbbb24-8d7a-4619-bc37-da4e755a2204",
   "metadata": {},
   "source": [
    "### 다짐: 멋진농부가되겠습니다"
   ]
  },
  {
   "cell_type": "markdown",
   "id": "f13852a2-030a-4740-be19-39088a54666f",
   "metadata": {},
   "source": [
    "##### 재귀함수 recursive call \n",
    "https://dojang.io/mod/page/view.php?id=2352"
   ]
  },
  {
   "cell_type": "code",
   "execution_count": 72,
   "id": "4f1072f6-a206-4125-827d-3678c64db10a",
   "metadata": {},
   "outputs": [
    {
     "name": "stdout",
     "output_type": "stream",
     "text": [
      "Hello world 11\n",
      "Hello world 10\n",
      "Hello world 9\n",
      "Hello world 8\n",
      "Hello world 7\n",
      "Hello world 6\n",
      "Hello world 5\n",
      "Hello world 4\n",
      "Hello world 3\n",
      "Hello world 2\n",
      "Hello world 1\n"
     ]
    }
   ],
   "source": [
    "def hello(count):\n",
    "    if count==0:\n",
    "        return\n",
    "    print('Hello world', count)\n",
    "    \n",
    "    count -= 1\n",
    "    hello(count)\n",
    "hello(11)"
   ]
  },
  {
   "cell_type": "markdown",
   "id": "82660cd5-4ca9-45f3-bd5e-34dd75696c22",
   "metadata": {},
   "source": [
    "https://wikidocs.net/66"
   ]
  },
  {
   "cell_type": "code",
   "execution_count": 75,
   "id": "9f3e905b-6def-465d-beac-11e93884c77e",
   "metadata": {},
   "outputs": [],
   "source": [
    "def hap(a, b):\n",
    "    print(a+b)"
   ]
  },
  {
   "cell_type": "code",
   "execution_count": 76,
   "id": "03dc459a-6424-4c8d-a71e-314b2409c45f",
   "metadata": {},
   "outputs": [
    {
     "name": "stdout",
     "output_type": "stream",
     "text": [
      "7\n"
     ]
    }
   ],
   "source": [
    "hap(3, 4)"
   ]
  },
  {
   "cell_type": "code",
   "execution_count": 78,
   "id": "c08a0588-d467-40f1-9031-e773d5228eb0",
   "metadata": {},
   "outputs": [],
   "source": [
    "def hap_gop(a, b):\n",
    "    hap(a,b)\n",
    "    gop(a,b)"
   ]
  },
  {
   "cell_type": "code",
   "execution_count": 81,
   "id": "70a4276e-f374-41ad-b77f-62af44d06071",
   "metadata": {},
   "outputs": [
    {
     "name": "stdout",
     "output_type": "stream",
     "text": [
      "8\n",
      "7\n",
      "6\n",
      "5\n",
      "4\n",
      "3\n",
      "2\n",
      "1\n",
      "blastoff\n"
     ]
    }
   ],
   "source": [
    "def countdown(n):\n",
    "    if n==0:\n",
    "        print('blastoff')\n",
    "    else:\n",
    "        print(n)\n",
    "        countdown(n-1)\n",
    "        \n",
    "countdown(8)"
   ]
  },
  {
   "cell_type": "markdown",
   "id": "501ed438-530c-4425-8cf5-53cad092a837",
   "metadata": {},
   "source": [
    "https://han-py.tistory.com/224"
   ]
  },
  {
   "cell_type": "code",
   "execution_count": null,
   "id": "d9a0cb3c-e2e7-4248-aac7-60e90efa505c",
   "metadata": {},
   "outputs": [],
   "source": [
    "def recursive_call(x):\n",
    "    print(x)\n",
    "    recursive_call(x+1)\n",
    "    \n",
    "#무한루프"
   ]
  },
  {
   "cell_type": "code",
   "execution_count": 119,
   "id": "75172243-7623-449d-8bcd-483b603a9199",
   "metadata": {},
   "outputs": [],
   "source": [
    "#기본형\n",
    "#호출단계와 최종단계를 포함한 2개의 인자로 만듦 \n",
    "def function(k,n):\n",
    "    if n == k:\n",
    "        return\n",
    "    else:\n",
    "        function(k+1, n)\n",
    "        \n",
    "function(1,5)"
   ]
  },
  {
   "cell_type": "code",
   "execution_count": 120,
   "id": "9d3e7206-d5d6-4c31-b233-d448a413c2dd",
   "metadata": {},
   "outputs": [],
   "source": [
    "#배열의 각 원소를 재귀함수로 접근 \n",
    "\n",
    "A=[1, 2, 3]\n",
    "\n",
    "def f(n, k):\n",
    "    if n==k:\n",
    "        print(A[k])\n",
    "    else:\n",
    "        f(n, k+1)"
   ]
  },
  {
   "cell_type": "code",
   "execution_count": 128,
   "id": "dbca7f37-72eb-4353-98e4-50bb7ab6c897",
   "metadata": {},
   "outputs": [],
   "source": [
    "A = [1, 2 ,3]\n",
    "#b = i번 원소의 포함 여부를 나타내는 ㅠ "
   ]
  },
  {
   "cell_type": "code",
   "execution_count": null,
   "id": "00243ba5-b745-4341-904a-a528bb165d9d",
   "metadata": {},
   "outputs": [],
   "source": []
  },
  {
   "cell_type": "code",
   "execution_count": null,
   "id": "222c6c29-98bc-4a92-b69e-a8c4848abdbc",
   "metadata": {},
   "outputs": [],
   "source": []
  },
  {
   "cell_type": "markdown",
   "id": "2b040ea2-5944-4a04-a145-008f9778564b",
   "metadata": {},
   "source": [
    "#### Q78.\n",
    "소수란 2보다 큰 자연수 중에서 1과 자기자신을 제외한 자연수로는 나누어떨어지지 않는 자연수이다. 어떠한 자연수가 소수인지 아닌지 판별하는 프로그램을 작성하세요."
   ]
  },
  {
   "cell_type": "code",
   "execution_count": null,
   "id": "11e8b1cc-13d0-4c87-8221-b96e38b1bc1e",
   "metadata": {},
   "outputs": [],
   "source": [
    "\n"
   ]
  },
  {
   "cell_type": "code",
   "execution_count": null,
   "id": "003c8ff5-9aec-4ffd-a41f-53d7e8f32827",
   "metadata": {},
   "outputs": [],
   "source": []
  },
  {
   "cell_type": "code",
   "execution_count": 114,
   "id": "7b0ac685-cb62-4d5e-8e03-99d27d26beed",
   "metadata": {},
   "outputs": [
    {
     "name": "stdout",
     "output_type": "stream",
     "text": [
      "소수가 아닙니다\n"
     ]
    },
    {
     "ename": "ZeroDivisionError",
     "evalue": "integer division or modulo by zero",
     "output_type": "error",
     "traceback": [
      "\u001b[0;31m---------------------------------------------------------------------------\u001b[0m",
      "\u001b[0;31mZeroDivisionError\u001b[0m                         Traceback (most recent call last)",
      "Input \u001b[0;32mIn [114]\u001b[0m, in \u001b[0;36m<cell line: 8>\u001b[0;34m()\u001b[0m\n\u001b[1;32m      5\u001b[0m         \u001b[38;5;28mprint\u001b[39m(\u001b[38;5;124m'\u001b[39m\u001b[38;5;124m소수입니다\u001b[39m\u001b[38;5;124m'\u001b[39m)\n\u001b[1;32m      6\u001b[0m     prime_number(a\u001b[38;5;241m-\u001b[39m\u001b[38;5;241m1\u001b[39m)\n\u001b[0;32m----> 8\u001b[0m \u001b[43mprime_number\u001b[49m\u001b[43m(\u001b[49m\u001b[38;5;241;43m2\u001b[39;49m\u001b[43m)\u001b[49m\n",
      "Input \u001b[0;32mIn [114]\u001b[0m, in \u001b[0;36mprime_number\u001b[0;34m(a)\u001b[0m\n\u001b[1;32m      4\u001b[0m \u001b[38;5;28;01melse\u001b[39;00m: \n\u001b[1;32m      5\u001b[0m     \u001b[38;5;28mprint\u001b[39m(\u001b[38;5;124m'\u001b[39m\u001b[38;5;124m소수입니다\u001b[39m\u001b[38;5;124m'\u001b[39m)\n\u001b[0;32m----> 6\u001b[0m \u001b[43mprime_number\u001b[49m\u001b[43m(\u001b[49m\u001b[43ma\u001b[49m\u001b[38;5;241;43m-\u001b[39;49m\u001b[38;5;241;43m1\u001b[39;49m\u001b[43m)\u001b[49m\n",
      "Input \u001b[0;32mIn [114]\u001b[0m, in \u001b[0;36mprime_number\u001b[0;34m(a)\u001b[0m\n\u001b[1;32m      1\u001b[0m \u001b[38;5;28;01mdef\u001b[39;00m \u001b[38;5;21mprime_number\u001b[39m(a):\n\u001b[0;32m----> 2\u001b[0m     \u001b[38;5;28;01mif\u001b[39;00m \u001b[43ma\u001b[49m\u001b[38;5;241;43m%\u001b[39;49m\u001b[43m(\u001b[49m\u001b[43ma\u001b[49m\u001b[38;5;241;43m-\u001b[39;49m\u001b[38;5;241;43m1\u001b[39;49m\u001b[43m)\u001b[49m\u001b[38;5;241m==\u001b[39m\u001b[38;5;241m0\u001b[39m:\n\u001b[1;32m      3\u001b[0m         \u001b[38;5;28mprint\u001b[39m(\u001b[38;5;124m'\u001b[39m\u001b[38;5;124m소수가 아닙니다\u001b[39m\u001b[38;5;124m'\u001b[39m)\n\u001b[1;32m      4\u001b[0m     \u001b[38;5;28;01melse\u001b[39;00m: \n",
      "\u001b[0;31mZeroDivisionError\u001b[0m: integer division or modulo by zero"
     ]
    }
   ],
   "source": [
    "def prime_number(a):\n",
    "    if a==0: \n",
    "        return \n",
    "    \n",
    "    \n",
    "    a%(a-1)==0:\n",
    "        print('소수가 아닙니다')\n",
    "    else: \n",
    "        print('소수입니다')\n",
    "    prime_number(a-1)\n",
    "\n",
    "prime_number(2)"
   ]
  },
  {
   "cell_type": "code",
   "execution_count": null,
   "id": "2e42ee75-ba61-447e-9ce8-a95abff8b1cb",
   "metadata": {},
   "outputs": [],
   "source": [
    "prime_number"
   ]
  },
  {
   "cell_type": "code",
   "execution_count": 21,
   "id": "ab20decf-1fcf-47e9-8d99-607a44ebc41a",
   "metadata": {},
   "outputs": [
    {
     "name": "stdin",
     "output_type": "stream",
     "text": [
      "자연수를 입력하세요 3\n"
     ]
    },
    {
     "name": "stdout",
     "output_type": "stream",
     "text": [
      "소수가 아닙니다\n"
     ]
    }
   ],
   "source": [
    "import numpy as np\n",
    "\n",
    "a = int(input('자연수를 입력하세요'))\n",
    "\n",
    "if a <= 2:\n",
    "    print('소수가 아닙니다')\n",
    "\n",
    "elif a%2 == 0 and a != 2:\n",
    "    print('소수가 아닙니다')\n",
    "\n",
    "elif a%3 == 0 and a!=3 :\n",
    "    print('소수가 아닙니다')\n",
    "\n",
    "elif a%5 == 0 and a!=5:\n",
    "    print('소수가 아닙니다')\n",
    "    \n",
    "elif np.sqrt(a)!=0:\n",
    "    print('소수가 아닙니다')\n",
    "\n",
    "else:\n",
    "    print('소수입니다')"
   ]
  },
  {
   "cell_type": "code",
   "execution_count": 9,
   "id": "5f631541-f8c2-492d-8d0b-37b3dd566648",
   "metadata": {},
   "outputs": [
    {
     "data": {
      "text/plain": [
       "3.1622776601683795"
      ]
     },
     "execution_count": 9,
     "metadata": {},
     "output_type": "execute_result"
    }
   ],
   "source": [
    "\n",
    "import numpy as np\n",
    "a=10\n",
    "np.sqrt(a)"
   ]
  },
  {
   "cell_type": "markdown",
   "id": "0816a7e2-5de1-4f61-a135-c844259f374f",
   "metadata": {},
   "source": [
    "### 9/1 농사 오답노트\n",
    "\n",
    "    백준 1000번 \n",
    "    \"A+B\"\n",
    "    두 정수 A와 B를 입력받은 다음, A+B를 출력하는 프로그램을 작성하시오.\n",
    "\n",
    "    입력\n",
    "    첫째 줄에 A와 B가 주어진다. (0 < A, B < 10)\n",
    "\n",
    "    출력\n",
    "    첫째 줄에 A+B를 출력한다."
   ]
  },
  {
   "cell_type": "code",
   "execution_count": 143,
   "id": "11d2d356-4d6a-4db9-8e78-fe8fc1d4d0dc",
   "metadata": {},
   "outputs": [
    {
     "name": "stdin",
     "output_type": "stream",
     "text": [
      " 1 2 \n"
     ]
    },
    {
     "name": "stdout",
     "output_type": "stream",
     "text": [
      "3\n"
     ]
    }
   ],
   "source": [
    "A, B = map(int, input().split())\n",
    "print(A+B)"
   ]
  },
  {
   "cell_type": "markdown",
   "id": "a9da4c4c-77e8-4f2c-b38a-9b0b1ce17a68",
   "metadata": {},
   "source": [
    "#### map 함수 \n",
    "    map(func, *iterables) # list or tuple\n",
    "    반환 값은 map 객체\n",
    "    \n",
    "출처: https://blockdmask.tistory.com/531"
   ]
  },
  {
   "cell_type": "code",
   "execution_count": 147,
   "id": "9e9e05ee-6de7-4671-9802-babef7e3e626",
   "metadata": {},
   "outputs": [
    {
     "data": {
      "text/plain": [
       "[2, 3, 4, 5, 6]"
      ]
     },
     "execution_count": 147,
     "metadata": {},
     "output_type": "execute_result"
    }
   ],
   "source": [
    "# 리스트에 값을 하나씩 더해서 새로운 리스트를 만드는 작업\n",
    "oldList = [1, 2, 3, 4, 5]\n",
    "\n",
    "def addOne(n):\n",
    "    return n+1\n",
    "\n",
    "newList = list(map(addOne, oldList)) #map 반환을 리스트로 변환\n",
    "newList"
   ]
  },
  {
   "cell_type": "code",
   "execution_count": null,
   "id": "f753049d-96d6-4ee5-bc09-9de2cff7a0c4",
   "metadata": {},
   "outputs": [],
   "source": []
  }
 ],
 "metadata": {
  "kernelspec": {
   "display_name": "Python 3 (ipykernel)",
   "language": "python",
   "name": "python3"
  },
  "language_info": {
   "codemirror_mode": {
    "name": "ipython",
    "version": 3
   },
   "file_extension": ".py",
   "mimetype": "text/x-python",
   "name": "python",
   "nbconvert_exporter": "python",
   "pygments_lexer": "ipython3",
   "version": "3.9.12"
  }
 },
 "nbformat": 4,
 "nbformat_minor": 5
}
