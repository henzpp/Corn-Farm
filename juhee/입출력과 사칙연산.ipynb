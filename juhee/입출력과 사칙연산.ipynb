{
 "cells": [
  {
   "cell_type": "code",
   "execution_count": 1,
   "id": "f5dd0d03",
   "metadata": {},
   "outputs": [
    {
     "name": "stdout",
     "output_type": "stream",
     "text": [
      "Hello World!\n"
     ]
    }
   ],
   "source": [
    "#1 \n",
    "print('Hello World!')"
   ]
  },
  {
   "cell_type": "code",
   "execution_count": 3,
   "id": "e0f2a148",
   "metadata": {},
   "outputs": [
    {
     "name": "stdout",
     "output_type": "stream",
     "text": [
      "강한친구 대한육군\n",
      "강한친구 대한육군\n"
     ]
    }
   ],
   "source": [
    "#2\n",
    "print('강한친구 대한육군')\n",
    "print('강한친구 대한육군')"
   ]
  },
  {
   "cell_type": "code",
   "execution_count": 10,
   "id": "74a0f3c9",
   "metadata": {},
   "outputs": [
    {
     "name": "stdout",
     "output_type": "stream",
     "text": [
      "1 2\n",
      "3\n"
     ]
    }
   ],
   "source": [
    "#3 두 정수 A와 B를 입력받은 다음, A+B를 출력하는 프로그램을 작성하시오.\n",
    "#첫째 줄에 A와 B가 주어진다. (0 < A, B < 10)\n",
    "#첫째 줄에 A+B를 출력한다.\n",
    "a,b = input().split() #언패킹 \n",
    "a = int(a)\n",
    "b = int(b)\n",
    "print(a+b)\n"
   ]
  },
  {
   "cell_type": "code",
   "execution_count": 11,
   "id": "9bcdc9db",
   "metadata": {},
   "outputs": [
    {
     "name": "stdout",
     "output_type": "stream",
     "text": [
      "3 2\n",
      "1\n"
     ]
    }
   ],
   "source": [
    "#4 두 정수 A와 B를 입력받은 다음, A-B를 출력하는 프로그램을 작성하시오.\n",
    "#첫째 줄에 A와 B가 주어진다. (0 < A, B < 10)\n",
    "#첫째 줄에 A-B를 출력한다.\n",
    "a,b = input().split()\n",
    "a = int(a)\n",
    "b = int(b)\n",
    "print(a-b)"
   ]
  },
  {
   "cell_type": "code",
   "execution_count": 15,
   "id": "cb427c69",
   "metadata": {},
   "outputs": [
    {
     "name": "stdout",
     "output_type": "stream",
     "text": [
      "4 5\n",
      "0.8\n"
     ]
    }
   ],
   "source": [
    "#5 곱하기\n",
    "a,b = input().split()\n",
    "a = int(a)\n",
    "b = int(b)\n",
    "print(a*b)"
   ]
  },
  {
   "cell_type": "code",
   "execution_count": 19,
   "id": "038f7c6d",
   "metadata": {},
   "outputs": [
    {
     "name": "stdout",
     "output_type": "stream",
     "text": [
      "3 4\n",
      "0.75\n"
     ]
    }
   ],
   "source": [
    "#6 사칙연산 \n",
    "a,b = input().split()\n",
    "a = int(a)\n",
    "b = int(b)\n",
    "\n",
    "print(a/b)"
   ]
  },
  {
   "cell_type": "code",
   "execution_count": 20,
   "id": "78a40beb",
   "metadata": {},
   "outputs": [
    {
     "name": "stdout",
     "output_type": "stream",
     "text": [
      "7 3\n",
      "10\n",
      "4\n",
      "21\n",
      "2\n",
      "1\n"
     ]
    }
   ],
   "source": [
    "#7 사칙연산 \n",
    "a,b = input().split()\n",
    "a = int(a)\n",
    "b = int(b)\n",
    "print(a+b)\n",
    "print(a-b)\n",
    "print(a*b)\n",
    "print(a//b)\n",
    "print(a%b)"
   ]
  },
  {
   "cell_type": "code",
   "execution_count": 21,
   "id": "b094a725",
   "metadata": {},
   "outputs": [
    {
     "name": "stdout",
     "output_type": "stream",
     "text": [
      "joonas\n",
      "joonas??!\n"
     ]
    }
   ],
   "source": [
    "#8 문자열 연산 \n",
    "jn = input()\n",
    "print(jn + '??!')"
   ]
  },
  {
   "cell_type": "code",
   "execution_count": 25,
   "id": "a35597c0",
   "metadata": {},
   "outputs": [
    {
     "name": "stdout",
     "output_type": "stream",
     "text": [
      "2541\n",
      "1998\n"
     ]
    }
   ],
   "source": [
    "#9번 \n",
    "bulgi = int(input())\n",
    "print(bulgi - 543)\n"
   ]
  },
  {
   "cell_type": "code",
   "execution_count": 34,
   "id": "fbb132af",
   "metadata": {},
   "outputs": [
    {
     "name": "stdout",
     "output_type": "stream",
     "text": [
      "0 1 2 2 2 7\n",
      "1 0 0 0 0 1\n"
     ]
    }
   ],
   "source": [
    "#10번 킹 1개, 퀸 1개, 룩 2개, 비숍 2개, 나이트 2개, 폰 8개\n",
    "chess = input().split(' ')\n",
    "k, q, l, b, n, p = map(int, chess)\n",
    "k_b = 1\n",
    "q_b = 1\n",
    "l_b = 2\n",
    "b_b = 2\n",
    "n_b = 2\n",
    "p_b = 8\n",
    "print(k_b - k, q_b - q, l_b - l, b_b - b, n_b - n, p_b - p)"
   ]
  },
  {
   "cell_type": "code",
   "execution_count": 40,
   "id": "bf816bc7",
   "metadata": {},
   "outputs": [
    {
     "name": "stdout",
     "output_type": "stream",
     "text": [
      "5 8 4\n",
      "1\n",
      "1\n",
      "0\n",
      "0\n"
     ]
    }
   ],
   "source": [
    "#11번 \n",
    "#map(함수, 반복 가능한 자료형)\n",
    "#—> 두 번째 인자로 들어온 반복 가능한 자료형 (리스트나 튜플)을 첫 번째 인자로 들어온 함수에 하나씩 집어넣어서 함수를 수행하는 함수\n",
    "#map 함수의 반환 값은 map객체 이기 때문에 다시 list로 변환\n",
    "A, B, C = list(map(int, input('숫자 세 개를 입력하세요: ').split()))\n",
    "print((A+B)%C)\n",
    "print(((A%C) + (B%C))%C)\n",
    "print((A*B)%C)\n",
    "print(((A%C) * (B%C))%C)\n"
   ]
  },
  {
   "cell_type": "code",
   "execution_count": 26,
   "id": "3160ccbe",
   "metadata": {
    "scrolled": true
   },
   "outputs": [
    {
     "name": "stdout",
     "output_type": "stream",
     "text": [
      "첫번째줄 숫자를 입력하세요.472\n",
      "두번째줄 숫자를 입력하세요.385\n",
      "2360\n",
      "3776\n",
      "1416\n",
      "181720\n"
     ]
    }
   ],
   "source": [
    "#12 \n",
    "first = input('첫번째줄 숫자를 입력하세요.')\n",
    "second = input('두번째줄 숫자를 입력하세요.')\n",
    "\n",
    "first_li = list(first) #문자열 쪼개기 - 리스트에 넣기\n",
    "second_li = list(second)\n",
    "\n",
    "#정수로 변환 \n",
    "first_li_int = list(map(int, first_li))\n",
    "second_li_int = list(map(int, second_li))\n",
    "\n",
    "three1 = first_li_int[2] * second_li_int[2]\n",
    "if len(str(three1)) != 1:\n",
    "    three1_s = str(three1)[-1]\n",
    "else:\n",
    "    three1 = str('0' + str(first_li_int[2] * second_li_int[2]))\n",
    "    three1_s = str(three1)[-1]\n",
    "\n",
    "two1 = first_li_int[1] * second_li_int[2]\n",
    "if len(str(two1)) != 1:\n",
    "    two1_s = str(int(str(two1)[-1]) + int(str(three1)[0]))\n",
    "else:\n",
    "    two1 = str('0' + str(first_li_int[1] * second_li_int[2]))\n",
    "    two1_s = str(int(str(two1)[-1]) + int(str(three1)[0]))\n",
    "\n",
    "one1 = first_li_int[0] * second_li_int[2]\n",
    "if len(str(one1)) != 1:\n",
    "    one1_s = str(one1 + int(str(two1)[0]))\n",
    "else:\n",
    "    one1 = str('0' + str(first_li_int[0] * second_li_int[2]))\n",
    "    one1_s = str(one1 + int(str(two1)[0]))\n",
    "first_line = one1_s + two1_s + three1_s\n",
    "\n",
    "\n",
    "three2 = first_li_int[2] * second_li_int[1]\n",
    "if len(str(three2)) != 1:\n",
    "    three2_s = str(three2)[-1]\n",
    "else:\n",
    "    three2 = str('0' + str(first_li_int[2] * second_li_int[1]))\n",
    "    three2_s = str(three2)[-1]\n",
    "\n",
    "two2 = first_li_int[1] * second_li_int[1]\n",
    "if len(str(two2)) != 1:\n",
    "    two2_s= str(int(str(two2)[-1]) + int(str(three2)[0]))\n",
    "else:\n",
    "    two2 = str('0' + str(first_li_int[1] * second_li_int[1]))\n",
    "    two2_s= str(int(str(two2)[-1]) + int(str(three2)[0]))\n",
    "\n",
    "one2 = first_li_int[0] * second_li_int[1]\n",
    "if len(str(one2)) != 1:\n",
    "    one2_s = str(one2 + int(str(two2)[0]))\n",
    "else:\n",
    "    one2 = str('0' + str(first_li_int[0] * second_li_int[1]))\n",
    "    one2_s = str(one2 + int(str(two2)[0]))\n",
    "\n",
    "second_line = one2_s + two2_s + three2_s\n",
    "\n",
    "three3 = first_li_int[2] * second_li_int[0]\n",
    "if len(str(three3)) != 1:\n",
    "    three3_s = str(three3)[-1]\n",
    "else:\n",
    "    three3 = str('0' + str(first_li_int[2] * second_li_int[0]))\n",
    "    three3_s = str(three3)[-1]\n",
    "\n",
    "two3 = first_li_int[1] * second_li_int[0]\n",
    "if len(str(two3)) != 1:\n",
    "    two3_s= str(int(str(two3)[-1]) + int(str(three3)[0]))\n",
    "else:\n",
    "    two3 = str('0' + str(first_li_int[1] * second_li_int[0]))\n",
    "    two3_s = str(int(str(two3)[-1]) + int(str(three3)[0]))\n",
    "\n",
    "one3 = first_li_int[0] * second_li_int[0]\n",
    "if len(str(one3)) != 1:\n",
    "    one3_s = str(one3 + int(str(two3)[0]))\n",
    "else:\n",
    "    one3 = str('0' + str(first_li_int[0] * second_li_int[0]))\n",
    "    one3_s = str(one3 + int(str(two3)[0]))\n",
    "third_line = one3_s + two3_s + three3_s\n",
    "\n",
    "#한자리수면 두자리수로 만들어주는게 필요하네\n",
    "final_six = str(int(first_line[3]))\n",
    "\n",
    "final_five = str(int(first_line[2]) + int(second_line[3]))\n",
    "final_five_s = str(int(first_line[2]) + int(second_line[3]))[-1]\n",
    "\n",
    "final_four = str(int(first_line[1]) + int(second_line[2]) + int(third_line[3]) + int(final_five[0]))\n",
    "final_four_s = str(int(first_line[1]) + int(second_line[2]) + int(third_line[3]) + int(final_five[0]))[-1]\n",
    "\n",
    "final_three = str(int(first_line[0]) + int(second_line[1]) + int(third_line[2]) + int(final_four[0]))\n",
    "final_three_s = str(int(first_line[0]) + int(second_line[1]) + int(third_line[2]) + int(final_four[0]))[-1]\n",
    "\n",
    "final_two = str(int(second_line[0]) + int(third_line[1]) + int(final_three[0]))\n",
    "final_two_s = str(int(second_line[0]) + int(third_line[1]) + int(final_three[0]))[-1]\n",
    "\n",
    "final_one = third_line[0]\n",
    "\n",
    "\n",
    "\n",
    "\n",
    "\n",
    "\n",
    "final_line = final_one + final_two_s + final_three_s + final_four_s + final_five_s + final_six \n",
    "\n",
    "print(first_line)\n",
    "print(second_line)\n",
    "print(third_line)\n",
    "print(final_line)"
   ]
  },
  {
   "cell_type": "code",
   "execution_count": 12,
   "id": "5bd0d88b",
   "metadata": {},
   "outputs": [
    {
     "name": "stdout",
     "output_type": "stream",
     "text": [
      "첫번째줄 숫자를 입력하세요.472\n",
      "두번째줄 숫자를 입력하세요.385\n"
     ]
    },
    {
     "data": {
      "text/plain": [
       "[10, 35, 20, 16, 56, 32, 6, 21, 12]"
      ]
     },
     "execution_count": 12,
     "metadata": {},
     "output_type": "execute_result"
    }
   ],
   "source": [
    "first = input('첫번째줄 숫자를 입력하세요.')\n",
    "second = input('두번째줄 숫자를 입력하세요.')\n",
    "\n",
    "first_li = list(first) #문자열 쪼개기 - 리스트에 넣기\n",
    "second_li = list(second)\n",
    "\n",
    "#정수로 변환 \n",
    "first_li_int = list(map(int, first_li))\n",
    "second_li_int = list(map(int, second_li))\n",
    "\n",
    "\n",
    "for i in [2, 1, 0]:\n",
    "    for j in [2, 1, 0]:\n",
    "        "
   ]
  },
  {
   "cell_type": "code",
   "execution_count": 20,
   "id": "7fceb983",
   "metadata": {},
   "outputs": [
    {
     "data": {
      "text/plain": [
       "'0가'"
      ]
     },
     "execution_count": 20,
     "metadata": {},
     "output_type": "execute_result"
    }
   ],
   "source": [
    "str('0' + '가')"
   ]
  },
  {
   "cell_type": "markdown",
   "id": "8d8d61e6",
   "metadata": {},
   "source": [
    " "
   ]
  }
 ],
 "metadata": {
  "kernelspec": {
   "display_name": "Python 3 (ipykernel)",
   "language": "python",
   "name": "python3"
  },
  "language_info": {
   "codemirror_mode": {
    "name": "ipython",
    "version": 3
   },
   "file_extension": ".py",
   "mimetype": "text/x-python",
   "name": "python",
   "nbconvert_exporter": "python",
   "pygments_lexer": "ipython3",
   "version": "3.9.7"
  },
  "toc": {
   "base_numbering": 1,
   "nav_menu": {},
   "number_sections": true,
   "sideBar": true,
   "skip_h1_title": false,
   "title_cell": "Table of Contents",
   "title_sidebar": "Contents",
   "toc_cell": false,
   "toc_position": {},
   "toc_section_display": true,
   "toc_window_display": false
  }
 },
 "nbformat": 4,
 "nbformat_minor": 5
}
