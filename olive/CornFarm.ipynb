{
 "cells": [
  {
   "cell_type": "markdown",
   "id": "77dbbb24-8d7a-4619-bc37-da4e755a2204",
   "metadata": {},
   "source": [
    "### 다짐: 멋진농부가되겠습니다"
   ]
  },
  {
   "cell_type": "markdown",
   "id": "f13852a2-030a-4740-be19-39088a54666f",
   "metadata": {},
   "source": [
    "##### 재귀함수 recursive call \n",
    "https://dojang.io/mod/page/view.php?id=2352"
   ]
  },
  {
   "cell_type": "code",
   "execution_count": 414,
   "id": "4f1072f6-a206-4125-827d-3678c64db10a",
   "metadata": {},
   "outputs": [
    {
     "name": "stdout",
     "output_type": "stream",
     "text": [
      "Hello world 11\n",
      "Hello world 10\n",
      "Hello world 9\n",
      "Hello world 8\n",
      "Hello world 7\n",
      "Hello world 6\n",
      "Hello world 5\n",
      "Hello world 4\n",
      "Hello world 3\n",
      "Hello world 2\n",
      "Hello world 1\n"
     ]
    }
   ],
   "source": [
    "def hello(count):\n",
    "    if count==0:\n",
    "        return\n",
    "    print('Hello world', count)\n",
    "    \n",
    "    count -= 1\n",
    "    hello(count)\n",
    "hello(11)"
   ]
  },
  {
   "cell_type": "markdown",
   "id": "82660cd5-4ca9-45f3-bd5e-34dd75696c22",
   "metadata": {},
   "source": [
    "https://wikidocs.net/66"
   ]
  },
  {
   "cell_type": "code",
   "execution_count": 75,
   "id": "9f3e905b-6def-465d-beac-11e93884c77e",
   "metadata": {},
   "outputs": [],
   "source": [
    "def hap(a, b):\n",
    "    print(a+b)"
   ]
  },
  {
   "cell_type": "code",
   "execution_count": 76,
   "id": "03dc459a-6424-4c8d-a71e-314b2409c45f",
   "metadata": {},
   "outputs": [
    {
     "name": "stdout",
     "output_type": "stream",
     "text": [
      "7\n"
     ]
    }
   ],
   "source": [
    "hap(3, 4)"
   ]
  },
  {
   "cell_type": "code",
   "execution_count": 78,
   "id": "c08a0588-d467-40f1-9031-e773d5228eb0",
   "metadata": {},
   "outputs": [],
   "source": [
    "def hap_gop(a, b):\n",
    "    hap(a,b)\n",
    "    gop(a,b)"
   ]
  },
  {
   "cell_type": "code",
   "execution_count": 81,
   "id": "70a4276e-f374-41ad-b77f-62af44d06071",
   "metadata": {},
   "outputs": [
    {
     "name": "stdout",
     "output_type": "stream",
     "text": [
      "8\n",
      "7\n",
      "6\n",
      "5\n",
      "4\n",
      "3\n",
      "2\n",
      "1\n",
      "blastoff\n"
     ]
    }
   ],
   "source": [
    "def countdown(n):\n",
    "    if n==0:\n",
    "        print('blastoff')\n",
    "    else:\n",
    "        print(n)\n",
    "        countdown(n-1)\n",
    "        \n",
    "countdown(8)"
   ]
  },
  {
   "cell_type": "markdown",
   "id": "501ed438-530c-4425-8cf5-53cad092a837",
   "metadata": {},
   "source": [
    "https://han-py.tistory.com/224"
   ]
  },
  {
   "cell_type": "code",
   "execution_count": null,
   "id": "d9a0cb3c-e2e7-4248-aac7-60e90efa505c",
   "metadata": {},
   "outputs": [],
   "source": [
    "def recursive_call(x):\n",
    "    print(x)\n",
    "    recursive_call(x+1)\n",
    "    \n",
    "#무한루프"
   ]
  },
  {
   "cell_type": "code",
   "execution_count": 119,
   "id": "75172243-7623-449d-8bcd-483b603a9199",
   "metadata": {},
   "outputs": [],
   "source": [
    "#기본형\n",
    "#호출단계와 최종단계를 포함한 2개의 인자로 만듦 \n",
    "def function(k,n):\n",
    "    if n == k:\n",
    "        return\n",
    "    else:\n",
    "        function(k+1, n)\n",
    "        \n",
    "function(1,5)"
   ]
  },
  {
   "cell_type": "code",
   "execution_count": 120,
   "id": "9d3e7206-d5d6-4c31-b233-d448a413c2dd",
   "metadata": {},
   "outputs": [],
   "source": [
    "#배열의 각 원소를 재귀함수로 접근 \n",
    "\n",
    "A=[1, 2, 3]\n",
    "\n",
    "def f(n, k):\n",
    "    if n==k:\n",
    "        print(A[k])\n",
    "    else:\n",
    "        f(n, k+1)"
   ]
  },
  {
   "cell_type": "code",
   "execution_count": 128,
   "id": "dbca7f37-72eb-4353-98e4-50bb7ab6c897",
   "metadata": {},
   "outputs": [],
   "source": [
    "A = [1, 2 ,3]\n",
    "#b = i번 원소의 포함 여부를 나타내는 ㅠ "
   ]
  },
  {
   "cell_type": "code",
   "execution_count": null,
   "id": "00243ba5-b745-4341-904a-a528bb165d9d",
   "metadata": {},
   "outputs": [],
   "source": []
  },
  {
   "cell_type": "code",
   "execution_count": null,
   "id": "222c6c29-98bc-4a92-b69e-a8c4848abdbc",
   "metadata": {},
   "outputs": [],
   "source": []
  },
  {
   "cell_type": "markdown",
   "id": "2b040ea2-5944-4a04-a145-008f9778564b",
   "metadata": {},
   "source": [
    "#### Q78.\n",
    "소수란 2보다 큰 자연수 중에서 1과 자기자신을 제외한 자연수로는 나누어떨어지지 않는 자연수이다. 어떠한 자연수가 소수인지 아닌지 판별하는 프로그램을 작성하세요."
   ]
  },
  {
   "cell_type": "code",
   "execution_count": null,
   "id": "11e8b1cc-13d0-4c87-8221-b96e38b1bc1e",
   "metadata": {},
   "outputs": [],
   "source": [
    "\n"
   ]
  },
  {
   "cell_type": "code",
   "execution_count": null,
   "id": "003c8ff5-9aec-4ffd-a41f-53d7e8f32827",
   "metadata": {},
   "outputs": [],
   "source": []
  },
  {
   "cell_type": "code",
   "execution_count": 114,
   "id": "7b0ac685-cb62-4d5e-8e03-99d27d26beed",
   "metadata": {},
   "outputs": [
    {
     "name": "stdout",
     "output_type": "stream",
     "text": [
      "소수가 아닙니다\n"
     ]
    },
    {
     "ename": "ZeroDivisionError",
     "evalue": "integer division or modulo by zero",
     "output_type": "error",
     "traceback": [
      "\u001b[0;31m---------------------------------------------------------------------------\u001b[0m",
      "\u001b[0;31mZeroDivisionError\u001b[0m                         Traceback (most recent call last)",
      "Input \u001b[0;32mIn [114]\u001b[0m, in \u001b[0;36m<cell line: 8>\u001b[0;34m()\u001b[0m\n\u001b[1;32m      5\u001b[0m         \u001b[38;5;28mprint\u001b[39m(\u001b[38;5;124m'\u001b[39m\u001b[38;5;124m소수입니다\u001b[39m\u001b[38;5;124m'\u001b[39m)\n\u001b[1;32m      6\u001b[0m     prime_number(a\u001b[38;5;241m-\u001b[39m\u001b[38;5;241m1\u001b[39m)\n\u001b[0;32m----> 8\u001b[0m \u001b[43mprime_number\u001b[49m\u001b[43m(\u001b[49m\u001b[38;5;241;43m2\u001b[39;49m\u001b[43m)\u001b[49m\n",
      "Input \u001b[0;32mIn [114]\u001b[0m, in \u001b[0;36mprime_number\u001b[0;34m(a)\u001b[0m\n\u001b[1;32m      4\u001b[0m \u001b[38;5;28;01melse\u001b[39;00m: \n\u001b[1;32m      5\u001b[0m     \u001b[38;5;28mprint\u001b[39m(\u001b[38;5;124m'\u001b[39m\u001b[38;5;124m소수입니다\u001b[39m\u001b[38;5;124m'\u001b[39m)\n\u001b[0;32m----> 6\u001b[0m \u001b[43mprime_number\u001b[49m\u001b[43m(\u001b[49m\u001b[43ma\u001b[49m\u001b[38;5;241;43m-\u001b[39;49m\u001b[38;5;241;43m1\u001b[39;49m\u001b[43m)\u001b[49m\n",
      "Input \u001b[0;32mIn [114]\u001b[0m, in \u001b[0;36mprime_number\u001b[0;34m(a)\u001b[0m\n\u001b[1;32m      1\u001b[0m \u001b[38;5;28;01mdef\u001b[39;00m \u001b[38;5;21mprime_number\u001b[39m(a):\n\u001b[0;32m----> 2\u001b[0m     \u001b[38;5;28;01mif\u001b[39;00m \u001b[43ma\u001b[49m\u001b[38;5;241;43m%\u001b[39;49m\u001b[43m(\u001b[49m\u001b[43ma\u001b[49m\u001b[38;5;241;43m-\u001b[39;49m\u001b[38;5;241;43m1\u001b[39;49m\u001b[43m)\u001b[49m\u001b[38;5;241m==\u001b[39m\u001b[38;5;241m0\u001b[39m:\n\u001b[1;32m      3\u001b[0m         \u001b[38;5;28mprint\u001b[39m(\u001b[38;5;124m'\u001b[39m\u001b[38;5;124m소수가 아닙니다\u001b[39m\u001b[38;5;124m'\u001b[39m)\n\u001b[1;32m      4\u001b[0m     \u001b[38;5;28;01melse\u001b[39;00m: \n",
      "\u001b[0;31mZeroDivisionError\u001b[0m: integer division or modulo by zero"
     ]
    }
   ],
   "source": [
    "def prime_number(a):\n",
    "    if a==0: \n",
    "        return \n",
    "    \n",
    "    \n",
    "    a%(a-1)==0:\n",
    "        print('소수가 아닙니다')\n",
    "    else: \n",
    "        print('소수입니다')\n",
    "    prime_number(a-1)\n",
    "\n",
    "prime_number(2)"
   ]
  },
  {
   "cell_type": "code",
   "execution_count": null,
   "id": "2e42ee75-ba61-447e-9ce8-a95abff8b1cb",
   "metadata": {},
   "outputs": [],
   "source": [
    "prime_number"
   ]
  },
  {
   "cell_type": "code",
   "execution_count": 21,
   "id": "ab20decf-1fcf-47e9-8d99-607a44ebc41a",
   "metadata": {},
   "outputs": [
    {
     "name": "stdin",
     "output_type": "stream",
     "text": [
      "자연수를 입력하세요 3\n"
     ]
    },
    {
     "name": "stdout",
     "output_type": "stream",
     "text": [
      "소수가 아닙니다\n"
     ]
    }
   ],
   "source": [
    "import numpy as np\n",
    "\n",
    "a = int(input('자연수를 입력하세요'))\n",
    "\n",
    "if a <= 2:\n",
    "    print('소수가 아닙니다')\n",
    "\n",
    "elif a%2 == 0 and a != 2:\n",
    "    print('소수가 아닙니다')\n",
    "\n",
    "elif a%3 == 0 and a!=3 :\n",
    "    print('소수가 아닙니다')\n",
    "\n",
    "elif a%5 == 0 and a!=5:\n",
    "    print('소수가 아닙니다')\n",
    "    \n",
    "elif np.sqrt(a)!=0:\n",
    "    print('소수가 아닙니다')\n",
    "\n",
    "else:\n",
    "    print('소수입니다')"
   ]
  },
  {
   "cell_type": "code",
   "execution_count": 9,
   "id": "5f631541-f8c2-492d-8d0b-37b3dd566648",
   "metadata": {},
   "outputs": [
    {
     "data": {
      "text/plain": [
       "3.1622776601683795"
      ]
     },
     "execution_count": 9,
     "metadata": {},
     "output_type": "execute_result"
    }
   ],
   "source": [
    "\n",
    "import numpy as np\n",
    "a=10\n",
    "np.sqrt(a)"
   ]
  },
  {
   "cell_type": "markdown",
   "id": "0816a7e2-5de1-4f61-a135-c844259f374f",
   "metadata": {},
   "source": [
    "### 9/1 농사 오답노트\n",
    "\n",
    "    백준 1000번 \n",
    "    \"A+B\"\n",
    "    두 정수 A와 B를 입력받은 다음, A+B를 출력하는 프로그램을 작성하시오.\n",
    "\n",
    "    입력\n",
    "    첫째 줄에 A와 B가 주어진다. (0 < A, B < 10)\n",
    "\n",
    "    출력\n",
    "    첫째 줄에 A+B를 출력한다."
   ]
  },
  {
   "cell_type": "code",
   "execution_count": 143,
   "id": "11d2d356-4d6a-4db9-8e78-fe8fc1d4d0dc",
   "metadata": {},
   "outputs": [
    {
     "name": "stdin",
     "output_type": "stream",
     "text": [
      " 1 2 \n"
     ]
    },
    {
     "name": "stdout",
     "output_type": "stream",
     "text": [
      "3\n"
     ]
    }
   ],
   "source": [
    "A, B = map(int, input().split())\n",
    "print(A+B)"
   ]
  },
  {
   "cell_type": "markdown",
   "id": "a9da4c4c-77e8-4f2c-b38a-9b0b1ce17a68",
   "metadata": {},
   "source": [
    "#### map 함수 \n",
    "    map(func, *iterables) # list or tuple\n",
    "    반환 값은 map 객체\n",
    "    \n",
    "출처: https://blockdmask.tistory.com/531"
   ]
  },
  {
   "cell_type": "code",
   "execution_count": 147,
   "id": "9e9e05ee-6de7-4671-9802-babef7e3e626",
   "metadata": {},
   "outputs": [
    {
     "data": {
      "text/plain": [
       "[2, 3, 4, 5, 6]"
      ]
     },
     "execution_count": 147,
     "metadata": {},
     "output_type": "execute_result"
    }
   ],
   "source": [
    "# 리스트에 값을 하나씩 더해서 새로운 리스트를 만드는 작업\n",
    "oldList = [1, 2, 3, 4, 5]\n",
    "\n",
    "def addOne(n):\n",
    "    return n+1\n",
    "\n",
    "newList = list(map(addOne, oldList)) #map 반환을 리스트로 변환\n",
    "newList"
   ]
  },
  {
   "cell_type": "markdown",
   "id": "6841458a-bc8e-4ab7-840f-71a757e0f400",
   "metadata": {},
   "source": [
    "### 9/2 농사"
   ]
  },
  {
   "cell_type": "code",
   "execution_count": 152,
   "id": "77190b2a-f917-4eaf-9c5f-24846b9bcca2",
   "metadata": {},
   "outputs": [
    {
     "name": "stdin",
     "output_type": "stream",
     "text": [
      " 2 1 \n"
     ]
    },
    {
     "name": "stdout",
     "output_type": "stream",
     "text": [
      "1\n"
     ]
    }
   ],
   "source": [
    "#왜자꾸런타임에러가나는? ?? \n",
    "A, B = map(int, input().split())\n",
    "print(A-B)"
   ]
  },
  {
   "cell_type": "code",
   "execution_count": 159,
   "id": "a503ddd1-c47f-4b3a-8bd4-d66b43c63681",
   "metadata": {},
   "outputs": [
    {
     "name": "stdin",
     "output_type": "stream",
     "text": [
      " joonas\n"
     ]
    },
    {
     "name": "stdout",
     "output_type": "stream",
     "text": [
      "joonas??!\n"
     ]
    }
   ],
   "source": [
    "#10926 ??!\n",
    "\n",
    "id_number = ['joonas']\n",
    "\n",
    "a = input()\n",
    "if a in id_number:\n",
    "    print(f'{a}??!')\n",
    "else:\n",
    "    pass"
   ]
  },
  {
   "cell_type": "code",
   "execution_count": 160,
   "id": "038471db-58af-4cf2-a71f-6930118e3084",
   "metadata": {},
   "outputs": [
    {
     "name": "stdin",
     "output_type": "stream",
     "text": [
      " joonas\n"
     ]
    },
    {
     "data": {
      "text/plain": [
       "'joonas??!'"
      ]
     },
     "execution_count": 160,
     "metadata": {},
     "output_type": "execute_result"
    }
   ],
   "source": [
    "input()+'??!'"
   ]
  },
  {
   "cell_type": "code",
   "execution_count": 203,
   "id": "0bcfbae6-8d30-4b0f-bedf-83b54d8f0ddc",
   "metadata": {
    "tags": []
   },
   "outputs": [
    {
     "name": "stdin",
     "output_type": "stream",
     "text": [
      " 0 1 2 2 2 7\n"
     ]
    },
    {
     "name": "stdout",
     "output_type": "stream",
     "text": [
      "1 0 0 0 0 1\n"
     ]
    }
   ],
   "source": [
    "## 킹, 퀸, 룩, 비숍, 나이트, 폰\n",
    "# 3003\n",
    "a, b, c, d, e, f = map(int, input().split())\n",
    "print(1-a, 1-b, 2-c, 2-d, 2-e, 8-f)"
   ]
  },
  {
   "cell_type": "code",
   "execution_count": 207,
   "id": "71394b41-954a-4cc0-83d5-b5f0417cf0a9",
   "metadata": {},
   "outputs": [
    {
     "name": "stdin",
     "output_type": "stream",
     "text": [
      " 5 8 4\n"
     ]
    },
    {
     "name": "stdout",
     "output_type": "stream",
     "text": [
      "1\n",
      "1\n",
      "0\n",
      "0\n"
     ]
    }
   ],
   "source": [
    "#10430\n",
    "\n",
    "A, B, C = map(int, input().split())\n",
    "print((A+B)%C)\n",
    "print((A%C)+(B%C)%C)\n",
    "print((A*B)%C)\n",
    "print((A%C)*(B%C)%C)"
   ]
  },
  {
   "cell_type": "code",
   "execution_count": 208,
   "id": "a999ecf4-b7f2-4ac6-86fc-a2f720eff1cd",
   "metadata": {},
   "outputs": [
    {
     "name": "stdin",
     "output_type": "stream",
     "text": [
      " 5 8 4\n"
     ]
    },
    {
     "name": "stdout",
     "output_type": "stream",
     "text": [
      "1\n",
      "1\n",
      "0\n",
      "0\n"
     ]
    }
   ],
   "source": [
    "A, B, C = map(int, input().split())\n",
    "print((A+B)%C)\n",
    "print(((A%C)+(B%C))%C)\n",
    "print((A*B)%C)\n",
    "print(((A%C)*(B%C))%C)"
   ]
  },
  {
   "cell_type": "code",
   "execution_count": 238,
   "id": "d3c2ded5-27b4-4a5f-9d51-9acaddfa87c5",
   "metadata": {},
   "outputs": [
    {
     "name": "stdin",
     "output_type": "stream",
     "text": [
      " 777\n"
     ]
    },
    {
     "ename": "TypeError",
     "evalue": "map() must have at least two arguments.",
     "output_type": "error",
     "traceback": [
      "\u001b[0;31m---------------------------------------------------------------------------\u001b[0m",
      "\u001b[0;31mTypeError\u001b[0m                                 Traceback (most recent call last)",
      "Input \u001b[0;32mIn [240]\u001b[0m, in \u001b[0;36m<cell line: 1>\u001b[0;34m()\u001b[0m\n\u001b[0;32m----> 1\u001b[0m one \u001b[38;5;241m=\u001b[39m \u001b[38;5;28mlist\u001b[39m(\u001b[38;5;28;43mmap\u001b[39;49m\u001b[43m(\u001b[49m\u001b[38;5;28;43minput\u001b[39;49m\u001b[43m(\u001b[49m\u001b[43m)\u001b[49m\u001b[38;5;241;43m.\u001b[39;49m\u001b[43msplit\u001b[49m\u001b[43m(\u001b[49m\u001b[43m)\u001b[49m\u001b[43m)\u001b[49m)\n\u001b[1;32m      2\u001b[0m two \u001b[38;5;241m=\u001b[39m \u001b[38;5;28mlist\u001b[39m(\u001b[38;5;28mmap\u001b[39m(\u001b[38;5;28minput\u001b[39m()\u001b[38;5;241m.\u001b[39msplit()))\n\u001b[1;32m      3\u001b[0m one\n",
      "\u001b[0;31mTypeError\u001b[0m: map() must have at least two arguments."
     ]
    }
   ],
   "source": [
    "one = list(map(int, input().split()))\n",
    "two = list(map(int, input().split()))"
   ]
  },
  {
   "cell_type": "code",
   "execution_count": 229,
   "id": "3d5c49ca-ef50-4c14-847a-c7a46a93f651",
   "metadata": {},
   "outputs": [
    {
     "name": "stdin",
     "output_type": "stream",
     "text": [
      " 472\n",
      " 385\n"
     ]
    }
   ],
   "source": [
    "one = int(input())\n",
    "two = list(map(int, input().split()))"
   ]
  },
  {
   "cell_type": "code",
   "execution_count": 237,
   "id": "c3c2512e-3fda-4359-8fff-794c011e6be5",
   "metadata": {},
   "outputs": [
    {
     "name": "stdin",
     "output_type": "stream",
     "text": [
      " 472\n"
     ]
    },
    {
     "data": {
      "text/plain": [
       "['472']"
      ]
     },
     "execution_count": 237,
     "metadata": {},
     "output_type": "execute_result"
    }
   ],
   "source": [
    "input().split(' ')"
   ]
  },
  {
   "cell_type": "code",
   "execution_count": 283,
   "id": "a535ae0f-4089-4980-8431-fc6fc84aadb1",
   "metadata": {},
   "outputs": [
    {
     "name": "stdin",
     "output_type": "stream",
     "text": [
      " 472\n",
      " 385\n"
     ]
    },
    {
     "name": "stdout",
     "output_type": "stream",
     "text": [
      "2360\n",
      "3776\n",
      "1416\n"
     ]
    },
    {
     "data": {
      "text/plain": [
       "181720"
      ]
     },
     "execution_count": 283,
     "metadata": {},
     "output_type": "execute_result"
    }
   ],
   "source": [
    "one = int(input())\n",
    "two = input()\n",
    "\n",
    "print(one*int(two[2]))\n",
    "print(one*int(two[1]))\n",
    "print(one*int(two[0]))\n",
    "\n",
    "print(one*int(two[2])+one*int(two[1])*10+one*int(two[0])*100)"
   ]
  },
  {
   "cell_type": "code",
   "execution_count": 281,
   "id": "7c2fd7e1-7766-4434-957d-4244c04cd7db",
   "metadata": {},
   "outputs": [
    {
     "data": {
      "text/plain": [
       "'3'"
      ]
     },
     "execution_count": 281,
     "metadata": {},
     "output_type": "execute_result"
    }
   ],
   "source": [
    "two[0]"
   ]
  },
  {
   "cell_type": "code",
   "execution_count": 271,
   "id": "70872659-daa2-4dc0-b7b2-e3aa7ca737d5",
   "metadata": {},
   "outputs": [
    {
     "data": {
      "text/plain": [
       "'111111111111111111111111111111111111111111111111111111111111111111111111111111111111111111111111111111111111111'"
      ]
     },
     "execution_count": 271,
     "metadata": {},
     "output_type": "execute_result"
    }
   ],
   "source": [
    "one*two[1]"
   ]
  },
  {
   "cell_type": "code",
   "execution_count": 248,
   "id": "c111ebc7-7941-45fc-a330-238042fc2955",
   "metadata": {},
   "outputs": [
    {
     "data": {
      "text/plain": [
       "['3', '3', '3']"
      ]
     },
     "execution_count": 259,
     "metadata": {},
     "output_type": "execute_result"
    }
   ],
   "source": [
    "two"
   ]
  },
  {
   "cell_type": "code",
   "execution_count": 294,
   "id": "6b117842-4efa-4012-adf1-2a05967460ac",
   "metadata": {},
   "outputs": [
    {
     "name": "stdout",
     "output_type": "stream",
     "text": [
      "\\    /\\\n",
      " )  ( ')\n",
      "(  /  )\n",
      " \\(__)|\n"
     ]
    }
   ],
   "source": [
    "print(\"\\\\    /\\\\\\n )  ( ')\\n(  /  )\\n \\(__)|\")"
   ]
  },
  {
   "cell_type": "code",
   "execution_count": 293,
   "id": "9b359b7f-4878-492f-9d40-1d255e5cd18a",
   "metadata": {},
   "outputs": [
    {
     "name": "stdout",
     "output_type": "stream",
     "text": [
      "\\    /\\\n",
      " )  ( ')\n",
      "(  /  )\n",
      " \\(__)|\n"
     ]
    }
   ],
   "source": [
    "print('\\\\    /\\\\')\n",
    "print(\" )  ( ')\")\n",
    "print(\"(  /  )\")\n",
    "print(\" \\(__)|\")\n"
   ]
  },
  {
   "cell_type": "code",
   "execution_count": 321,
   "id": "382075ea-7795-4ae9-9308-3588dbe39819",
   "metadata": {},
   "outputs": [
    {
     "name": "stdout",
     "output_type": "stream",
     "text": [
      "|\\_/|\n",
      "|q p|   /}\n",
      "( 0 )\"\"\"\\\n",
      "|\"^\"`    |\n",
      "||_/=\\\\__|\n"
     ]
    }
   ],
   "source": [
    "print('|\\\\_/|\\n|q p|   /}\\n( 0 )\"\"\"\\\\\\n|\"^\"`    |\\n||_/=\\\\\\\\__|')"
   ]
  },
  {
   "cell_type": "code",
   "execution_count": 319,
   "id": "acde879a-44a8-4875-843b-ca55425967b9",
   "metadata": {},
   "outputs": [
    {
     "name": "stdout",
     "output_type": "stream",
     "text": [
      "         ,r7\n",
      "r`-_   ,'  ,/\n",
      " \\. . L_r'\n",
      "   `~\\/\n",
      "      |\n",
      "      |\n"
     ]
    }
   ],
   "source": [
    "print('         ,r'\"7\\\n",
    "\\nr`-_   ,'  ,/\\\n",
    "\\n \\. \"'. L_r''\\'\\\n",
    "\\n   `~\\/\\\n",
    "\\n      |\\\n",
    "\\n      |')"
   ]
  },
  {
   "cell_type": "code",
   "execution_count": 335,
   "id": "ba36c18b-68fd-4822-8444-935a95fd2742",
   "metadata": {},
   "outputs": [
    {
     "name": "stdout",
     "output_type": "stream",
     "text": [
      "         ,r'\"7\n",
      "r`-_   ,'  ,/\n",
      " \\. \". L_r'\n",
      "   `~\\/\n",
      "      |\n",
      "      |\n"
     ]
    }
   ],
   "source": [
    "print('         ,r\\'\"7\\\n",
    "\\nr`-_   ,\\'  ,/\\\n",
    "\\n \\. \". L_r''\\'\\\n",
    "\\n   `~\\/\\\n",
    "\\n      |\\\n",
    "\\n      |')"
   ]
  },
  {
   "cell_type": "code",
   "execution_count": 333,
   "id": "cb85898c-22aa-49ea-8c75-79dca9e9ee9b",
   "metadata": {},
   "outputs": [
    {
     "ename": "SyntaxError",
     "evalue": "invalid syntax (3394526360.py, line 1)",
     "output_type": "error",
     "traceback": [
      "\u001b[0;36m  Input \u001b[0;32mIn [333]\u001b[0;36m\u001b[0m\n\u001b[0;31m    print(```         ,r'\"7\u001b[0m\n\u001b[0m          ^\u001b[0m\n\u001b[0;31mSyntaxError\u001b[0m\u001b[0;31m:\u001b[0m invalid syntax\n"
     ]
    }
   ],
   "source": [
    "```         ,r'\"7\n",
    "r`-_   ,'  ,/\n",
    " \\. \". L_r'\n",
    "   `~\\/\n",
    "      |\n",
    "      |\n"
   ]
  },
  {
   "cell_type": "code",
   "execution_count": 338,
   "id": "cc75b087-813b-4039-b75a-c75f8b9e257b",
   "metadata": {},
   "outputs": [
    {
     "name": "stdin",
     "output_type": "stream",
     "text": [
      " 1 2\n"
     ]
    },
    {
     "name": "stdout",
     "output_type": "stream",
     "text": [
      "<\n"
     ]
    }
   ],
   "source": [
    "A, B = map(int, input().split())\n",
    "\n",
    "if A > B:\n",
    "    print('>')\n",
    "elif A < B:\n",
    "    print('<')\n",
    "elif A == B:\n",
    "    print('==')"
   ]
  },
  {
   "cell_type": "code",
   "execution_count": 343,
   "id": "c646c57d-0a1a-42f5-8c4c-a51374b24d9d",
   "metadata": {},
   "outputs": [
    {
     "name": "stdin",
     "output_type": "stream",
     "text": [
      " 93\n"
     ]
    },
    {
     "name": "stdout",
     "output_type": "stream",
     "text": [
      "A\n"
     ]
    }
   ],
   "source": [
    "score = int(input())\n",
    "\n",
    "if 90 <= score:\n",
    "    print(\"A\")\n",
    "elif score >= 80:\n",
    "    print(\"B\")\n",
    "elif score >= 70:\n",
    "    print(\"C\")\n",
    "elif score >= 60:\n",
    "    print(\"D\")\n",
    "else:\n",
    "    print('F')"
   ]
  },
  {
   "cell_type": "code",
   "execution_count": 346,
   "id": "8e9bd3d6-39f6-4f31-a13d-07e0a5f390e1",
   "metadata": {},
   "outputs": [
    {
     "name": "stdin",
     "output_type": "stream",
     "text": [
      " 2000\n"
     ]
    },
    {
     "name": "stdout",
     "output_type": "stream",
     "text": [
      "1\n"
     ]
    }
   ],
   "source": [
    "year = int(input())\n",
    "\n",
    "if year%4==0 and (year%100!=0 or year%400==0):\n",
    "    print(1)\n",
    "else:\n",
    "    print(0)"
   ]
  },
  {
   "cell_type": "code",
   "execution_count": 351,
   "id": "aef96b64-a172-45f7-acfe-23eba29dae4b",
   "metadata": {},
   "outputs": [
    {
     "name": "stdin",
     "output_type": "stream",
     "text": [
      " 9\n",
      " -13\n"
     ]
    },
    {
     "name": "stdout",
     "output_type": "stream",
     "text": [
      "4\n"
     ]
    }
   ],
   "source": [
    "x = int(input())\n",
    "y = int(input())\n",
    "\n",
    "if x>0 and y>0:\n",
    "    print('1')\n",
    "elif x>0 and y<0:\n",
    "    print('4')\n",
    "elif x<0 and y<0:\n",
    "    print('3')\n",
    "elif x<0 and y>0:\n",
    "    print('2')"
   ]
  },
  {
   "cell_type": "code",
   "execution_count": 387,
   "id": "a8d20dfa-0194-44ef-a61c-7b4b3d8e0b3e",
   "metadata": {},
   "outputs": [
    {
     "name": "stdin",
     "output_type": "stream",
     "text": [
      " 1 20\n"
     ]
    },
    {
     "name": "stdout",
     "output_type": "stream",
     "text": [
      "0 35\n"
     ]
    }
   ],
   "source": [
    "H, M = map(int, input().split())\n",
    "\n",
    "if 0<=M<45 and H>=1: #H>=1\n",
    "    H = H-1\n",
    "    M = M-45+60\n",
    "    \n",
    "elif 0<=M<45 and H==0:\n",
    "    H = 24-1\n",
    "    M = M-45+60\n",
    "    \n",
    "else:\n",
    "    M = M-45\n",
    "\n",
    "print(H, M)"
   ]
  },
  {
   "cell_type": "code",
   "execution_count": 383,
   "id": "77f28988-00c0-48da-8bbb-a01ee132d3cb",
   "metadata": {},
   "outputs": [
    {
     "name": "stdin",
     "output_type": "stream",
     "text": [
      " 23 40\n"
     ]
    },
    {
     "name": "stdout",
     "output_type": "stream",
     "text": [
      "22 55\n"
     ]
    }
   ],
   "source": [
    "H, M = map(int, input().split())\n",
    "\n",
    "if M<45 and H>1:\n",
    "    print(H-1, M-45+60)\n",
    "    \n",
    "elif M<45 and H==0:\n",
    "    print(23, M-45+60)\n",
    "    \n",
    "elif M:\n",
    "    print(H, M-45)\n"
   ]
  },
  {
   "cell_type": "code",
   "execution_count": 403,
   "id": "6f0c72e5-0475-4ad1-ad7f-eb5a58798b2d",
   "metadata": {},
   "outputs": [
    {
     "name": "stdin",
     "output_type": "stream",
     "text": [
      " 23 48\n",
      " 25\n"
     ]
    }
   ],
   "source": [
    "# 3분 \n",
    "A, B = map(int, input().split())\n",
    "C = int(input())\n",
    "\n",
    "if A + ( C + B ) // 60 >= 24:\n",
    "    print((A+(C+B)//60)-24, (B+C)%60)\n",
    "else:\n",
    "    print(A+(C+B)//60, (B+C)%60)"
   ]
  },
  {
   "cell_type": "code",
   "execution_count": 412,
   "id": "8f386583-e752-4e1b-b566-738a2123d6ef",
   "metadata": {},
   "outputs": [
    {
     "name": "stdin",
     "output_type": "stream",
     "text": [
      " 3 2 5\n"
     ]
    },
    {
     "name": "stdout",
     "output_type": "stream",
     "text": [
      "500\n"
     ]
    }
   ],
   "source": [
    "# 2480 5분\n",
    "dice1, dice2, dice3 = map(int, input().split())\n",
    "if dice1 == dice2 == dice3:\n",
    "    print(10000+dice1*1000)\n",
    "elif dice1 == dice2:\n",
    "    print(1000+dice1*100)\n",
    "elif dice2 == dice3:\n",
    "    print(1000+dice2*100)\n",
    "elif dice1 == dice3:\n",
    "    print(1000+dice1*100)\n",
    "else:\n",
    "    print(max(dice1, dice2, dice3)*100)"
   ]
  },
  {
   "cell_type": "markdown",
   "id": "21f3e653-efd7-4cd6-9c90-44b904ad437d",
   "metadata": {},
   "source": [
    "### 9/2 오답노트 "
   ]
  },
  {
   "cell_type": "markdown",
   "id": "294db7be-3e26-48b9-8368-be80db048c02",
   "metadata": {},
   "source": [
    "    백준 1000 A+B\n",
    "    두 정수 A와 B를 입력받은 다음, A+B를 출력하는 프로그램을 작성하시오.\n"
   ]
  },
  {
   "cell_type": "code",
   "execution_count": 421,
   "id": "1fce0936-0035-40b7-9243-ccb190d8ef34",
   "metadata": {},
   "outputs": [
    {
     "name": "stdin",
     "output_type": "stream",
     "text": [
      " 1 2 \n"
     ]
    },
    {
     "name": "stdout",
     "output_type": "stream",
     "text": [
      "3\n"
     ]
    }
   ],
   "source": [
    "A, B = map(int, input().split())\n",
    "print(A+B)\n",
    "\n",
    "#map 함수 \n",
    "#.split()메서드: 문자열을 분해해 배열을 반환 "
   ]
  },
  {
   "cell_type": "markdown",
   "id": "4d06e207-2332-4a25-8e2f-13dca45525de",
   "metadata": {},
   "source": [
    "    백준 1001 A-B\n",
    "    두 정수 A와 B를 입력받은 다음, A-B를 출력하는 프로그램을 작성하시오.\n"
   ]
  },
  {
   "cell_type": "code",
   "execution_count": 419,
   "id": "b507b0b3-03c6-4975-8032-8690425f89e1",
   "metadata": {},
   "outputs": [
    {
     "name": "stdin",
     "output_type": "stream",
     "text": [
      " 3 2\n"
     ]
    },
    {
     "name": "stdout",
     "output_type": "stream",
     "text": [
      "1\n"
     ]
    }
   ],
   "source": [
    "A, B = map(int, input().split())\n",
    "print(A-B)"
   ]
  },
  {
   "cell_type": "markdown",
   "id": "03eff9d6-0aa4-4a13-afa3-4f7e4637eaf4",
   "metadata": {},
   "source": [
    "    백준 10869 사칙연산\n",
    "    두 자연수 A와 B가 주어진다. 이때, A+B, A-B, A*B, A/B(몫), A%B(나머지)를 출력하는 프로그램을 작성하시오. \n"
   ]
  },
  {
   "cell_type": "code",
   "execution_count": 424,
   "id": "d49e6273-5d30-42b3-90b5-4dcc05188838",
   "metadata": {},
   "outputs": [
    {
     "name": "stdin",
     "output_type": "stream",
     "text": [
      " 7 3\n"
     ]
    },
    {
     "name": "stdout",
     "output_type": "stream",
     "text": [
      "10\n",
      "4\n",
      "21\n",
      "2\n",
      "1\n"
     ]
    }
   ],
   "source": [
    "#틀린 이유: 문제 제대로 안 읽어서.\n",
    "A, B = map(int, input().split())\n",
    "print(A+B)\n",
    "print(A-B)\n",
    "print(A*B)\n",
    "print(A//B) #몫을 구해야 함\n",
    "print(A%B)"
   ]
  },
  {
   "cell_type": "markdown",
   "id": "b0b90eb1-22ed-4734-bb42-93649843c6d6",
   "metadata": {},
   "source": [
    "    백준 10926 ??!\n",
    "    준하는 사이트에 회원가입을 하다가 joonas라는 아이디가 이미 존재하는 것을 보고 놀랐다. 준하는 놀람을 ??!로 표현한다. 준하가 가입하려고 하는 사이트에 이미 존재하는 아이디가 주어졌을 때, 놀람을 표현하는 프로그램을 작성하시오."
   ]
  },
  {
   "cell_type": "code",
   "execution_count": 427,
   "id": "05015316-3b3a-42d2-b37e-2cba390d223e",
   "metadata": {},
   "outputs": [
    {
     "name": "stdin",
     "output_type": "stream",
     "text": [
      " baekjun\n"
     ]
    },
    {
     "name": "stdout",
     "output_type": "stream",
     "text": [
      "baekjun??!\n"
     ]
    }
   ],
   "source": [
    "print(input()+'??!')"
   ]
  },
  {
   "cell_type": "markdown",
   "id": "203f705a-c53a-4352-86fe-dbc0de09ad00",
   "metadata": {},
   "source": [
    "    백준 18108 1998년생인 내가 태국에서는 2541년생?!\n",
    "\n",
    "    ICPC Bangkok Regional에 참가하기 위해 수완나품 국제공항에 막 도착한 팀 레드시프트 일행은 눈을 믿을 수 없었다. 공항의 대형 스크린에 올해가 2562년이라고 적혀 있던 것이었다.\n",
    "    불교 국가인 태국은 불멸기원(佛滅紀元), 즉 석가모니가 열반한 해를 기준으로 연도를 세는 불기를 사용한다. 반면, 우리나라는 서기 연도를 사용하고 있다. 불기 연도가 주어질 때 이를 서기 연도로 바꿔 주는 프로그램을 작성하시오.\n",
    "\n",
    "    입력\n",
    "    서기 연도를 알아보고 싶은 불기 연도 y가 주어진다. (1000 ≤ y ≤ 3000)\n",
    "\n",
    "    출력\n",
    "    불기 연도를 서기 연도로 변환한 결과를 출력한다.\n",
    "    \n",
    "    \n",
    "    예제 입력 1 \n",
    "    2541\n",
    "    예제 출력 1 \n",
    "    1998"
   ]
  },
  {
   "cell_type": "code",
   "execution_count": null,
   "id": "af815c23-5f00-4745-a761-c0507bc8c24b",
   "metadata": {},
   "outputs": [
    {
     "name": "stdin",
     "output_type": "stream",
     "text": [
      " 2541\n"
     ]
    },
    {
     "name": "stdout",
     "output_type": "stream",
     "text": [
      "1998\n"
     ]
    }
   ],
   "source": [
    "# 2541-1998\n",
    "\n",
    "print(int(input())-543)"
   ]
  },
  {
   "cell_type": "markdown",
   "id": "b0254a37-70f9-468b-89be-bfaaf39d4bab",
   "metadata": {},
   "source": [
    "    *백준 3003번 킹, 퀸, 룩, 비숍, 나이트, 폰** \n",
    "  \n",
    "    문제\n",
    "    동혁이는 오래된 창고를 뒤지다가 낡은 체스판과 피스를 발견했다.\n",
    "\n",
    "    체스판의 먼지를 털어내고 걸레로 닦으니 그럭저럭 쓸만한 체스판이 되었다. 하지만, 검정색 피스는 모두 있었으나, 흰색 피스는 개수가 올바르지 않았다.\n",
    "\n",
    "    체스는 총 16개의 피스를 사용하며, 킹 1개, 퀸 1개, 룩 2개, 비숍 2개, 나이트 2개, 폰 8개로 구성되어 있다.\n",
    "\n",
    "    동혁이가 발견한 흰색 피스의 개수가 주어졌을 때, 몇 개를 더하거나 빼야 올바른 세트가 되는지 구하는 프로그램을 작성하시오.\n",
    "\n",
    "    입력\n",
    "    첫째 줄에 동혁이가 찾은 흰색 킹, 퀸, 룩, 비숍, 나이트, 폰의 개수가 주어진다. 이 값은 0보다 크거나 같고 10보다 작거나 같은 정수이다.\n",
    "\n",
    "    출력\n",
    "    첫째 줄에 입력에서 주어진 순서대로 몇 개의 피스를 더하거나 빼야 되는지를 출력한다. 만약 수가 양수라면 동혁이는 그 개수 만큼 피스를 더해야 하는 것이고, 음수라면 제거해야 하는 것이다.\n",
    "\n",
    "    예제 입력 1 \n",
    "    0 1 2 2 2 7\n",
    "    예제 출력 1 \n",
    "    1 0 0 0 0 1\n",
    "\n"
   ]
  },
  {
   "cell_type": "code",
   "execution_count": 430,
   "id": "1b36f5c4-24dc-496b-bab7-87f3dc7d7a5f",
   "metadata": {},
   "outputs": [
    {
     "name": "stdin",
     "output_type": "stream",
     "text": [
      " 0 1 2 2 2 7\n"
     ]
    },
    {
     "name": "stdout",
     "output_type": "stream",
     "text": [
      "1 0 0 0 0 1\n"
     ]
    }
   ],
   "source": [
    "#체스말에 각자 숫자를 입력받고, 기준이 되는 숫자보다 얼마나 부족하거나 많은지를 계산\n",
    "king, queen, rook, bishop, knight, pawn = map(int, input().split())\n",
    "\n",
    "print(1-king, 1-queen, 2-rook, 2-bishop, 2-knight, 8-pawn)"
   ]
  },
  {
   "cell_type": "markdown",
   "id": "6ccff43d-e9ca-4bbb-a922-f5ca86dc107c",
   "metadata": {},
   "source": [
    "    백준 10430 나머지\n",
    "\n",
    "    (A+B)%C는 ((A%C) + (B%C))%C 와 같을까?\n",
    "\n",
    "    (A×B)%C는 ((A%C) × (B%C))%C 와 같을까?\n",
    "\n",
    "    세 수 A, B, C가 주어졌을 때, 위의 네 가지 값을 구하는 프로그램을 작성하시오.\n",
    "\n",
    "    입력\n",
    "    첫째 줄에 A, B, C가 순서대로 주어진다. (2 ≤ A, B, C ≤ 10000)\n",
    "\n",
    "    출력\n",
    "    첫째 줄에 (A+B)%C, 둘째 줄에 ((A%C) + (B%C))%C, 셋째 줄에 (A×B)%C, 넷째 줄에 ((A%C) × (B%C))%C를 출력한다.\n",
    "    \n",
    "\n",
    "    예제 입력 1 \n",
    "    5 8 4\n",
    "    예제 출력 1 \n",
    "    1\n",
    "    1\n",
    "    0\n",
    "    0"
   ]
  },
  {
   "cell_type": "code",
   "execution_count": 432,
   "id": "cd49a3d0-d5ee-4a22-8815-9306e7eabc96",
   "metadata": {},
   "outputs": [
    {
     "name": "stdin",
     "output_type": "stream",
     "text": [
      " 5 8 4\n"
     ]
    },
    {
     "name": "stdout",
     "output_type": "stream",
     "text": [
      "1\n",
      "1\n",
      "0\n",
      "0\n"
     ]
    }
   ],
   "source": [
    "#위 대부분 문제와 마찬가지로 입출력 서툴러서 틀림 #에바임\n",
    "A, B, C = map(int, input().split())\n",
    "\n",
    "print((A+B)%C)\n",
    "print(((A%C)+(B%C))%C)\n",
    "print((A*B)%C)\n",
    "print(((A%C)*(B%C))%C)"
   ]
  },
  {
   "attachments": {
    "02905137-1f85-4305-a3ad-7be878e80f5f.png": {
     "image/png": "[encoded data removed]"
    }
   },
   "cell_type": "markdown",
   "id": "1cbeaa3b-61b1-4a7f-a2d4-95041a3112a9",
   "metadata": {},
   "source": [
    "    백준 2588 곱셈\n",
    "    문제\n",
    "    (세 자리 수) × (세 자리 수)는 다음과 같은 과정을 통하여 이루어진다.\n",
    "\n",
    "![f5NhGHVLM4Ix74DtJrwfC97KepPl27s (1).png](attachment:02905137-1f85-4305-a3ad-7be878e80f5f.png)\n",
    "\n",
    "    (1)과 (2)위치에 들어갈 세 자리 자연수가 주어질 때 (3), (4), (5), (6)위치에 들어갈 값을 구하는 프로그램을 작성하시오.\n",
    "\n",
    "    입력\n",
    "    첫째 줄에 (1)의 위치에 들어갈 세 자리 자연수가, 둘째 줄에 (2)의 위치에 들어갈 세자리 자연수가 주어진다.\n",
    "\n",
    "    출력\n",
    "    첫째 줄부터 넷째 줄까지 차례대로 (3), (4), (5), (6)에 들어갈 값을 출력한다.\n",
    "\n",
    "    예제 입력 1 \n",
    "    472\n",
    "    385\n",
    "    예제 출력 1 \n",
    "    2360\n",
    "    3776\n",
    "    1416\n",
    "    181720"
   ]
  },
  {
   "cell_type": "code",
   "execution_count": 445,
   "id": "5c262670-199a-4784-a384-fbd2e65f910a",
   "metadata": {},
   "outputs": [
    {
     "name": "stdin",
     "output_type": "stream",
     "text": [
      " 472\n",
      " 385\n"
     ]
    },
    {
     "name": "stdout",
     "output_type": "stream",
     "text": [
      "2360\n",
      "37760\n",
      "141600\n",
      "181720\n"
     ]
    }
   ],
   "source": [
    "first = int(input())\n",
    "second = list(input()) #input으로 받은 string 385를 3, 8, 5가 들어간 list로 변환\n",
    "\n",
    "third = first*int(second[2]) #472*5 #숫자로 바꿔줘야대\n",
    "fourth = first*int(second[1])*10 #472*8*10\n",
    "fifth = first*int(second[0])*100 #472*3*100\n",
    "sixth = third+fourth+fifth\n",
    "\n",
    "print(third)\n",
    "print(fourth)\n",
    "print(fifth)\n",
    "print(sixth)"
   ]
  },
  {
   "cell_type": "markdown",
   "id": "840cf186-59b5-46a5-8187-4a99545e9f22",
   "metadata": {
    "tags": []
   },
   "source": [
    "    백준 25083 새싹\n",
    "    아래 예제와 같이 새싹을 출력하시오.\n",
    "\n",
    "             ,r'\"7\n",
    "    r`-_   ,'  ,/\n",
    "     \\. \". L_r'\n",
    "       `~\\/\n",
    "          |\n",
    "          |"
   ]
  },
  {
   "cell_type": "code",
   "execution_count": 451,
   "id": "560c452d-46ab-45d5-849a-c2a4feed8478",
   "metadata": {},
   "outputs": [
    {
     "name": "stdout",
     "output_type": "stream",
     "text": [
      "         ,r'\"7\n",
      "r`-_   ,'  ,/\n",
      " \\. \". L_r'\n",
      "   `~\\/\n",
      "      |\n",
      "      |\n"
     ]
    }
   ],
   "source": [
    "#방법1 \n",
    "\n",
    "print(\"\"\"         ,r'\"7\n",
    "r`-_   ,'  ,/\n",
    " \\. \". L_r'\n",
    "   `~\\/\n",
    "      |\n",
    "      |\"\"\")\n",
    "\n",
    "#\"\"\" 활용 \"\"\""
   ]
  },
  {
   "cell_type": "code",
   "execution_count": 452,
   "id": "2dcf83fe-506f-4bbb-88fd-50919c35a46e",
   "metadata": {},
   "outputs": [
    {
     "name": "stdout",
     "output_type": "stream",
     "text": [
      "         ,r'\"7\n",
      "r`-_   ,'  ,/\n",
      " \\. \". L_r'\n",
      "   `~\\/\n",
      "      |\n",
      "      |\n"
     ]
    }
   ],
   "source": [
    "#방법 2\n",
    "\n",
    "print('         ,r\\'\"7\\\n",
    "\\nr`-_   ,\\'  ,/\\\n",
    "\\n \\\\. \". L_r\\'\\\n",
    "\\n   `~\\\\/\\\n",
    "\\n      |\\\n",
    "\\n      |')\n",
    "\n",
    "#\\n으로 줄 내리기  escape \\ 활용 "
   ]
  },
  {
   "cell_type": "markdown",
   "id": "e27e003b-34b6-40a9-99bf-b77fee76effe",
   "metadata": {},
   "source": [
    "    백준 2884 알람 시계\n",
    "\n",
    "    문제\n",
    "    상근이는 매일 아침 알람을 듣고 일어난다. 알람을 듣고 바로 일어나면 다행이겠지만, 항상 조금만 더 자려는 마음 때문에 매일 학교를 지각하고 있다.\n",
    "\n",
    "    상근이는 모든 방법을 동원해보았지만, 조금만 더 자려는 마음은 그 어떤 것도 없앨 수가 없었다.\n",
    "\n",
    "    이런 상근이를 불쌍하게 보던, 창영이는 자신이 사용하는 방법을 추천해 주었다.\n",
    "\n",
    "    바로 \"45분 일찍 알람 설정하기\"이다.\n",
    "\n",
    "    이 방법은 단순하다. 원래 설정되어 있는 알람을 45분 앞서는 시간으로 바꾸는 것이다. 어차피 알람 소리를 들으면, 알람을 끄고 조금 더 잘 것이기 때문이다. 이 방법을 사용하면, 매일 아침 더 잤다는 기분을 느낄 수 있고, 학교도 지각하지 않게 된다.\n",
    "\n",
    "    현재 상근이가 설정한 알람 시각이 주어졌을 때, 창영이의 방법을 사용한다면, 이를 언제로 고쳐야 하는지 구하는 프로그램을 작성하시오.\n",
    "\n",
    "    입력\n",
    "    첫째 줄에 두 정수 H와 M이 주어진다. (0 ≤ H ≤ 23, 0 ≤ M ≤ 59) 그리고 이것은 현재 상근이가 설정한 놓은 알람 시간 H시 M분을 의미한다.\n",
    "\n",
    "    입력 시간은 24시간 표현을 사용한다. 24시간 표현에서 하루의 시작은 0:0(자정)이고, 끝은 23:59(다음날 자정 1분 전)이다. 시간을 나타낼 때, 불필요한 0은 사용하지 않는다.\n",
    "\n",
    "    출력\n",
    "    첫째 줄에 상근이가 창영이의 방법을 사용할 때, 설정해야 하는 알람 시간을 출력한다. (입력과 같은 형태로 출력하면 된다.)"
   ]
  },
  {
   "cell_type": "code",
   "execution_count": 456,
   "id": "39968a62-b8b6-410b-a8e7-57fbd3f8bc81",
   "metadata": {},
   "outputs": [
    {
     "name": "stdin",
     "output_type": "stream",
     "text": [
      " 23 40\n"
     ]
    },
    {
     "name": "stdout",
     "output_type": "stream",
     "text": [
      "22 55\n"
     ]
    }
   ],
   "source": [
    "#상근아;;\n",
    "H, M = map(int, input().split())\n",
    "\n",
    "if M<45 and H>0:\n",
    "    H = H-1\n",
    "    M = M-45+60\n",
    "elif M<45 and H==0:\n",
    "    H = 23\n",
    "    M = M-45+60\n",
    "else: \n",
    "    M = M-45\n",
    "\n",
    "print(H, M)\n",
    "\n",
    "#뭐임 왜 잘함 \n",
    "#왜틀린거임"
   ]
  },
  {
   "cell_type": "markdown",
   "id": "c817686b-a88d-4fab-936e-49672c03f516",
   "metadata": {},
   "source": [
    "### 9/5 농사"
   ]
  },
  {
   "cell_type": "code",
   "execution_count": 460,
   "id": "f1b9a852-d67f-417d-bf4b-585922d52063",
   "metadata": {},
   "outputs": [
    {
     "name": "stdin",
     "output_type": "stream",
     "text": [
      " 2\n"
     ]
    },
    {
     "name": "stdout",
     "output_type": "stream",
     "text": [
      "2 * 1 = 2\n",
      "2 * 2 = 4\n",
      "2 * 3 = 6\n",
      "2 * 4 = 8\n",
      "2 * 5 = 10\n",
      "2 * 6 = 12\n",
      "2 * 7 = 14\n",
      "2 * 8 = 16\n",
      "2 * 9 = 18\n"
     ]
    }
   ],
   "source": [
    "# 2739구구단 \n",
    "\n",
    "N = int(input()) #1<=N<=9\n",
    "for i in range(1, 10): \n",
    "    print(f'{N} * {i} = {N*i}') \n",
    "\n",
    "#2m"
   ]
  },
  {
   "cell_type": "code",
   "execution_count": 478,
   "id": "611f7318-8560-430d-9201-b1e8440c0a6d",
   "metadata": {
    "tags": []
   },
   "outputs": [
    {
     "name": "stdin",
     "output_type": "stream",
     "text": [
      " 5\n",
      " 1 1\n"
     ]
    },
    {
     "name": "stdout",
     "output_type": "stream",
     "text": [
      "2\n"
     ]
    },
    {
     "name": "stdin",
     "output_type": "stream",
     "text": [
      " 2 3\n"
     ]
    },
    {
     "name": "stdout",
     "output_type": "stream",
     "text": [
      "5\n"
     ]
    },
    {
     "name": "stdin",
     "output_type": "stream",
     "text": [
      " 3 4\n"
     ]
    },
    {
     "name": "stdout",
     "output_type": "stream",
     "text": [
      "7\n"
     ]
    },
    {
     "name": "stdin",
     "output_type": "stream",
     "text": [
      " 9 8\n"
     ]
    },
    {
     "name": "stdout",
     "output_type": "stream",
     "text": [
      "17\n"
     ]
    },
    {
     "name": "stdin",
     "output_type": "stream",
     "text": [
      " 5 2\n"
     ]
    },
    {
     "name": "stdout",
     "output_type": "stream",
     "text": [
      "7\n"
     ]
    }
   ],
   "source": [
    "## 10950 A+B - 3\n",
    "\n",
    "T = int(input())\n",
    "\n",
    "for i in range(1,T+1): \n",
    "    A, B = map(int, input().split())\n",
    "    print(A+B)\n",
    "\n",
    "    \n",
    "#12m"
   ]
  },
  {
   "cell_type": "code",
   "execution_count": 497,
   "id": "e4b22b81-517f-48a5-bfdd-fc1154d0f973",
   "metadata": {},
   "outputs": [
    {
     "name": "stdin",
     "output_type": "stream",
     "text": [
      " 3\n"
     ]
    },
    {
     "name": "stdout",
     "output_type": "stream",
     "text": [
      "6\n"
     ]
    }
   ],
   "source": [
    "#8393\t합\n",
    "n = int(input())\n",
    "\n",
    "add = 0\n",
    "for i in range(1, n+1): #range넣는걸까먹어서 자꾸 답이 안 나왔음! \n",
    "    add += i\n",
    "print(add)\n",
    "\n",
    "\n",
    "#5m"
   ]
  },
  {
   "cell_type": "code",
   "execution_count": 502,
   "id": "4c757d9d-f1f9-4fe9-9189-98bca34ef18a",
   "metadata": {},
   "outputs": [
    {
     "name": "stdin",
     "output_type": "stream",
     "text": [
      " 260000\n",
      " 4\n",
      " 20000 5\n",
      " 30000 2\n",
      " 10000 6\n",
      " 5000 8\n"
     ]
    },
    {
     "name": "stdout",
     "output_type": "stream",
     "text": [
      "Yes\n"
     ]
    }
   ],
   "source": [
    "# 25304\t영수증 5m\n",
    "\n",
    "X = int(input())\n",
    "N = int(input())\n",
    "paid = 0\n",
    "\n",
    "for i in range(1, N+1):\n",
    "    a, b = map(int, input().split())\n",
    "    paid += a*b\n",
    "    \n",
    "if paid == X: \n",
    "    print(\"Yes\")\n",
    "else:\n",
    "    print('No')\n",
    "#5m"
   ]
  },
  {
   "cell_type": "markdown",
   "id": "75c3f3e6-84a2-4fda-9d9c-8ebc5e0b274b",
   "metadata": {},
   "source": [
    "### 9/5 농사 오답노트\n",
    "틀린건 없지만 시간 오래 걸린 ## 10950 A+B - 3 다시 풀어보기 "
   ]
  },
  {
   "cell_type": "markdown",
   "id": "d80bc07c-3676-41f5-8612-79e3d6d700d9",
   "metadata": {},
   "source": [
    "### 9/6 농사"
   ]
  },
  {
   "cell_type": "markdown",
   "id": "15d669b3-71eb-4542-b6ec-8bac5dac49e1",
   "metadata": {},
   "source": [
    "본격적으로 for문 문제를 풀기 전에 주의해야 할 점이 있다. 입출력 방식이 느리면 여러 줄을 입력받거나 출력할 때 시간초과가 날 수 있다는 점이다.\n",
    "\n",
    "Python을 사용하고 있다면, input 대신 sys.stdin.readline을 사용할 수 있다. 단, 이때는 맨 끝의 개행문자까지 같이 입력받기 때문에 문자열을 저장하고 싶을 경우 .rstrip()을 추가로 해 주는 것이 좋다.\n",
    "\n"
   ]
  },
  {
   "cell_type": "markdown",
   "id": "8885bb3c-4a65-4fed-b93c-fd6d4b121558",
   "metadata": {},
   "source": [
    "https://velog.io/@yeseolee/Python-%ED%8C%8C%EC%9D%B4%EC%8D%AC-%EC%9E%85%EB%A0%A5-%EC%A0%95%EB%A6%ACsys.stdin.readline"
   ]
  },
  {
   "cell_type": "code",
   "execution_count": 539,
   "id": "3f38f103-8a18-4bfb-8cde-c8ab67cbaf9f",
   "metadata": {},
   "outputs": [
    {
     "ename": "ValueError",
     "evalue": "invalid literal for int() with base 10: ''",
     "output_type": "error",
     "traceback": [
      "\u001b[0;31m---------------------------------------------------------------------------\u001b[0m",
      "\u001b[0;31mValueError\u001b[0m                                Traceback (most recent call last)",
      "Input \u001b[0;32mIn [539]\u001b[0m, in \u001b[0;36m<cell line: 3>\u001b[0;34m()\u001b[0m\n\u001b[1;32m      1\u001b[0m \u001b[38;5;66;03m# 15552\t빠른 A+B\u001b[39;00m\n\u001b[1;32m      2\u001b[0m \u001b[38;5;28;01mimport\u001b[39;00m \u001b[38;5;21;01msys\u001b[39;00m\n\u001b[0;32m----> 3\u001b[0m T \u001b[38;5;241m=\u001b[39m \u001b[38;5;28;43mint\u001b[39;49m\u001b[43m(\u001b[49m\u001b[43msys\u001b[49m\u001b[38;5;241;43m.\u001b[39;49m\u001b[43mstdin\u001b[49m\u001b[38;5;241;43m.\u001b[39;49m\u001b[43mreadline\u001b[49m\u001b[43m(\u001b[49m\u001b[43m)\u001b[49m\u001b[38;5;241;43m.\u001b[39;49m\u001b[43mstrip\u001b[49m\u001b[43m(\u001b[49m\u001b[43m)\u001b[49m\u001b[43m)\u001b[49m\n\u001b[1;32m      5\u001b[0m \u001b[38;5;28;01mfor\u001b[39;00m i \u001b[38;5;129;01min\u001b[39;00m \u001b[38;5;28mrange\u001b[39m(T):\n\u001b[1;32m      6\u001b[0m     A, B \u001b[38;5;241m=\u001b[39m \u001b[38;5;28mmap\u001b[39m(\u001b[38;5;28mint\u001b[39m, sys\u001b[38;5;241m.\u001b[39mstdin\u001b[38;5;241m.\u001b[39mreadline()\u001b[38;5;241m.\u001b[39msplit())\n",
      "\u001b[0;31mValueError\u001b[0m: invalid literal for int() with base 10: ''"
     ]
    }
   ],
   "source": [
    "# 15552\t빠른 A+B\n",
    "import sys\n",
    "T = int(sys.stdin.readline().strip())\n",
    "\n",
    "for i in range(T):\n",
    "    A, B = map(int, sys.stdin.readline().split())\n",
    "    print(A+B)\n",
    "    \n",
    "#strip 쓰니까 리스트 형식이 됨\n",
    "#왠진모름"
   ]
  },
  {
   "cell_type": "markdown",
   "id": "5457ce67-cd8c-4b9c-838c-4d75426d595d",
   "metadata": {
    "tags": []
   },
   "source": [
    "### 9/7 농사"
   ]
  },
  {
   "cell_type": "code",
   "execution_count": 548,
   "id": "4ca4492a-ab8f-43b5-afe8-c0c8c06f8f90",
   "metadata": {},
   "outputs": [
    {
     "name": "stdin",
     "output_type": "stream",
     "text": [
      " 5\n",
      " 1 1\n"
     ]
    },
    {
     "name": "stdout",
     "output_type": "stream",
     "text": [
      "Case #0: 2\n"
     ]
    },
    {
     "name": "stdin",
     "output_type": "stream",
     "text": [
      " 1 1\n"
     ]
    },
    {
     "name": "stdout",
     "output_type": "stream",
     "text": [
      "Case #1: 2\n"
     ]
    },
    {
     "name": "stdin",
     "output_type": "stream",
     "text": [
      " 1 1\n"
     ]
    },
    {
     "name": "stdout",
     "output_type": "stream",
     "text": [
      "Case #2: 2\n"
     ]
    },
    {
     "name": "stdin",
     "output_type": "stream",
     "text": [
      " 1 1 \n"
     ]
    },
    {
     "name": "stdout",
     "output_type": "stream",
     "text": [
      "Case #3: 2\n"
     ]
    },
    {
     "name": "stdin",
     "output_type": "stream",
     "text": [
      " 1 1\n"
     ]
    },
    {
     "name": "stdout",
     "output_type": "stream",
     "text": [
      "Case #4: 2\n"
     ]
    }
   ],
   "source": [
    "# 11021 A+B - 7 5m\n",
    "\n",
    "T = int(input())\n",
    "for i in range(1, T+1):\n",
    "    A, B = map(int, input().split())\n",
    "    print(f'Case #{i}:', A+B)\n",
    "    \n",
    "    \n",
    "# f 넣는거 까먹어서 틀림"
   ]
  },
  {
   "cell_type": "code",
   "execution_count": 551,
   "id": "eabb7713-556e-4868-8469-6abc3f0e26b3",
   "metadata": {},
   "outputs": [
    {
     "name": "stdin",
     "output_type": "stream",
     "text": [
      " 5 \n",
      " 1 1\n"
     ]
    },
    {
     "name": "stdout",
     "output_type": "stream",
     "text": [
      "Case #1: 1 + 1 = 2\n"
     ]
    },
    {
     "name": "stdin",
     "output_type": "stream",
     "text": [
      " 2 3\n"
     ]
    },
    {
     "name": "stdout",
     "output_type": "stream",
     "text": [
      "Case #2: 2 + 3 = 5\n"
     ]
    },
    {
     "name": "stdin",
     "output_type": "stream",
     "text": [
      " 4 5\n"
     ]
    },
    {
     "name": "stdout",
     "output_type": "stream",
     "text": [
      "Case #3: 4 + 5 = 9\n"
     ]
    },
    {
     "name": "stdin",
     "output_type": "stream",
     "text": [
      " 3 3 \n"
     ]
    },
    {
     "name": "stdout",
     "output_type": "stream",
     "text": [
      "Case #4: 3 + 3 = 6\n"
     ]
    },
    {
     "name": "stdin",
     "output_type": "stream",
     "text": [
      " 3 3 \n"
     ]
    },
    {
     "name": "stdout",
     "output_type": "stream",
     "text": [
      "Case #5: 3 + 3 = 6\n"
     ]
    }
   ],
   "source": [
    "# 11022 A+B - 8 2m\n",
    "\n",
    "T = int(input())\n",
    "\n",
    "for i in range(1, T+1): \n",
    "    A, B = map(int, input().split())\n",
    "    print(f'Case #{i}: {A} + {B} = {A+B}')"
   ]
  },
  {
   "cell_type": "code",
   "execution_count": 556,
   "id": "db201784-43ca-4c1c-a1eb-4447a5e086df",
   "metadata": {},
   "outputs": [
    {
     "name": "stdin",
     "output_type": "stream",
     "text": [
      " 5\n"
     ]
    },
    {
     "name": "stdout",
     "output_type": "stream",
     "text": [
      "*\n",
      "**\n",
      "***\n",
      "****\n",
      "*****\n"
     ]
    }
   ],
   "source": [
    "# 2438 별 찍기 - 1 3m \n",
    "\n",
    "N = int(input())\n",
    "\n",
    "for i in range(1, N+1):\n",
    "    print('*' * i)\n",
    "    \n",
    "# range1부터시작안해서틀림 "
   ]
  },
  {
   "cell_type": "code",
   "execution_count": 572,
   "id": "20dcda8b-48ef-4297-8d26-fcbdfd2f57b7",
   "metadata": {},
   "outputs": [
    {
     "name": "stdin",
     "output_type": "stream",
     "text": [
      " 5\n"
     ]
    },
    {
     "name": "stdout",
     "output_type": "stream",
     "text": [
      "    *\n",
      "   **\n",
      "  ***\n",
      " ****\n",
      "*****\n"
     ]
    }
   ],
   "source": [
    "# 2439\t별 찍기 - 2 5m\n",
    "\n",
    "N = int(input())\n",
    "for i in range(1, N+1):\n",
    "    print(' '*(N-i)+'*'*i)"
   ]
  },
  {
   "cell_type": "markdown",
   "id": "7f966e0d-7e80-42fd-9c7f-189af8b4c1af",
   "metadata": {
    "tags": []
   },
   "source": [
    "### 9/8 "
   ]
  },
  {
   "cell_type": "code",
   "execution_count": 682,
   "id": "1afda5b0-d84d-489f-9c42-0f973735c778",
   "metadata": {},
   "outputs": [
    {
     "name": "stdin",
     "output_type": "stream",
     "text": [
      " 10 5\n",
      " 1 10 4 9 2 3 8 5 7 6\n"
     ]
    },
    {
     "name": "stdout",
     "output_type": "stream",
     "text": [
      "[1, 4, 2, 3]\n"
     ]
    }
   ],
   "source": [
    "# 10871\tX보다 작은 수 18\n",
    "\n",
    "N, X = map(int, input().split())\n",
    "A = list(map(int, input().split()))\n",
    "A = [a for a in A if a < X ]\n",
    "print(A)\n",
    "\n",
    "#틀렸대요"
   ]
  },
  {
   "cell_type": "code",
   "execution_count": 680,
   "id": "81fc1901-2ace-4ab2-85ff-1785a0eaf539",
   "metadata": {},
   "outputs": [
    {
     "name": "stdin",
     "output_type": "stream",
     "text": [
      " 10 5\n",
      " 1 10 4 9 2 3 8 5 7 6\n"
     ]
    },
    {
     "name": "stdout",
     "output_type": "stream",
     "text": [
      "[1 4 2 3]\n",
      "[1 4 2 3]\n",
      "[1 4 2 3]\n",
      "[1 4 2 3]\n",
      "[1 4 2 3]\n",
      "[1 4 2 3]\n",
      "[1 4 2 3]\n",
      "[1 4 2 3]\n",
      "[1 4 2 3]\n",
      "[1 4 2 3]\n"
     ]
    }
   ],
   "source": [
    "N, X = map(int, input().split())\n",
    "A = np.array(list(map(int, input().split())))\n",
    "for i in range(N):\n",
    "    A = np.delete(A, np.where((A >=X)))\n",
    "    print(A)\n",
    "    \n",
    "#이게모임"
   ]
  },
  {
   "cell_type": "markdown",
   "id": "b851dae9-2df5-48d1-aa1f-fe13b38deb1b",
   "metadata": {},
   "source": [
    "### 9/8 오답노트"
   ]
  },
  {
   "cell_type": "markdown",
   "id": "1ab901ed-b613-4987-bfe6-2bb77f701588",
   "metadata": {
    "jp-MarkdownHeadingCollapsed": true,
    "tags": []
   },
   "source": [
    "    10871\tX보다 작은 수 18\n",
    "참고: https://wook-2124.tistory.com/227"
   ]
  },
  {
   "cell_type": "code",
   "execution_count": 639,
   "id": "d28cafff-a7a1-47ca-98c6-5cd38b370b5a",
   "metadata": {},
   "outputs": [
    {
     "name": "stdin",
     "output_type": "stream",
     "text": [
      " 10 5\n",
      " 1 10 4 9 2 3 8 5 7 6\n"
     ]
    },
    {
     "name": "stdout",
     "output_type": "stream",
     "text": [
      "1 4 2 3 "
     ]
    }
   ],
   "source": [
    "N, X = map(int, input().split())\n",
    "A = list(map(int, input().split())) #리스트로 만들기\n",
    "\n",
    "for n in range(N):\n",
    "    if A[n] < X:\n",
    "        print(A[n], end= \" \") #프린트 공백처리!!\n",
    "\n",
    "        #리스트 안에 있는 숫자 중 조건을 만족하는 것만 프린트하면 되는 거였슴"
   ]
  },
  {
   "cell_type": "markdown",
   "id": "eada3e6d-9e92-40e0-aaaf-bf2fc0bdbd4f",
   "metadata": {},
   "source": [
    "    별도로 리스트 제거법도 연습\n",
    "    pop, remove, clear, list comprehension, np.delete\n",
    "    \n",
    "참고:\n",
    "- https://codetorial.net/tips_and_examples/remove_element_in_list_or_array.html\n",
    "- https://lngnat.tistory.com/entry/%ED%8C%8C%EC%9D%B4%EC%8D%AC-%EB%B0%B0%EC%97%B4-%EC%9A%94%EC%86%8C-%EA%B0%92-%EC%82%AD%EC%A0%9C-Arraypop-Arrayremove-removing-Array-Elements\n",
    "- https://zeroaan.github.io/python/2020/05/02/Python-List%EC%97%90%EC%84%9C-%EC%9B%90%ED%95%98%EB%8A%94-%EA%B0%92-%EC%A0%9C%EA%B1%B0%ED%95%98%EA%B8%B0.html"
   ]
  },
  {
   "cell_type": "markdown",
   "id": "cd8873ef-a43d-431c-bbbc-e1ea10d11efb",
   "metadata": {},
   "source": [
    "**pop**\n",
    "<br>by index"
   ]
  },
  {
   "cell_type": "code",
   "execution_count": 672,
   "id": "71b7524a-6754-408c-befc-3e9db3b9a717",
   "metadata": {},
   "outputs": [
    {
     "data": {
      "text/plain": [
       "4"
      ]
     },
     "execution_count": 672,
     "metadata": {},
     "output_type": "execute_result"
    }
   ],
   "source": [
    "li = [1, 2, 3, 4]\n",
    "li.pop(3)\n",
    "\n",
    "#pops the index value"
   ]
  },
  {
   "cell_type": "code",
   "execution_count": 673,
   "id": "4a9b908e-7221-4fdf-9fa2-863bc91f2864",
   "metadata": {},
   "outputs": [
    {
     "data": {
      "text/plain": [
       "[1, 2, 3]"
      ]
     },
     "execution_count": 673,
     "metadata": {},
     "output_type": "execute_result"
    }
   ],
   "source": [
    "li"
   ]
  },
  {
   "cell_type": "markdown",
   "id": "3e20ab05-13db-4482-89ca-8fa79fdeea0f",
   "metadata": {},
   "source": [
    "**clear**"
   ]
  },
  {
   "cell_type": "code",
   "execution_count": 678,
   "id": "59244143-16c5-4b8f-aa12-897d6e73a7ae",
   "metadata": {},
   "outputs": [
    {
     "data": {
      "text/plain": [
       "[]"
      ]
     },
     "execution_count": 678,
     "metadata": {},
     "output_type": "execute_result"
    }
   ],
   "source": [
    "#empties the list\n",
    "\n",
    "li = [1, 2, 3, 4]\n",
    "li.clear()\n",
    "li"
   ]
  },
  {
   "cell_type": "markdown",
   "id": "0c4c964d-b6fc-4f87-be55-cd1cdcfa8786",
   "metadata": {},
   "source": [
    "**remove**"
   ]
  },
  {
   "cell_type": "code",
   "execution_count": 679,
   "id": "831408ed-da2c-4eaa-8600-4cd672e175e0",
   "metadata": {},
   "outputs": [
    {
     "name": "stdout",
     "output_type": "stream",
     "text": [
      "[1, 2, 4]\n"
     ]
    }
   ],
   "source": [
    "li = [1, 2, 3, 4]\n",
    "\n",
    "li.remove(3)\n",
    "print(li)\n",
    "\n",
    "#가장 맨 처음에 나오는 값만 삭제"
   ]
  },
  {
   "cell_type": "code",
   "execution_count": 645,
   "id": "8753cea6-3b07-4823-b84f-c8c83d4aae60",
   "metadata": {},
   "outputs": [
    {
     "name": "stdout",
     "output_type": "stream",
     "text": [
      "[1, 2, 4]\n"
     ]
    }
   ],
   "source": [
    "# 여러 값을 전부 삭제하고 싶을 때\n",
    "\n",
    "li = [1, 2, 3, 4, 3]\n",
    "\n",
    "for l in li: \n",
    "    if l == 3:\n",
    "        li.remove(3)\n",
    "print(li)"
   ]
  },
  {
   "cell_type": "markdown",
   "id": "a9e3cf7d-87c8-412d-84df-03274c1692aa",
   "metadata": {},
   "source": [
    "**list comprehension**"
   ]
  },
  {
   "cell_type": "code",
   "execution_count": 652,
   "id": "75b3e5e4-b8ca-40db-99a7-be2ec1431661",
   "metadata": {},
   "outputs": [
    {
     "name": "stdout",
     "output_type": "stream",
     "text": [
      "[1, 2]\n"
     ]
    }
   ],
   "source": [
    "#리스트 컴프리헨션\n",
    "#조건 만족하는 요소만 list로 \n",
    "\n",
    "li = [1, 2, 3, 4]\n",
    "\n",
    "new_li = [l for l in li if l < 3]\n",
    "print(new_li)"
   ]
  },
  {
   "cell_type": "code",
   "execution_count": 653,
   "id": "33963434-4809-41cd-8786-01156722b515",
   "metadata": {},
   "outputs": [
    {
     "name": "stdout",
     "output_type": "stream",
     "text": [
      "[2]\n"
     ]
    }
   ],
   "source": [
    "li = [1, 2, 3, 4]\n",
    "\n",
    "new_li = [l for l in li if l < 3 and l>1]\n",
    "print(new_li)"
   ]
  },
  {
   "cell_type": "markdown",
   "id": "86c0de53-85d5-4c66-917f-dd3df9a85200",
   "metadata": {},
   "source": [
    "**np.delete**\n",
    "<br>by indices and by values"
   ]
  },
  {
   "cell_type": "code",
   "execution_count": 660,
   "id": "ba9956e7-bce0-4a54-bf5f-48f2a436a415",
   "metadata": {},
   "outputs": [
    {
     "data": {
      "text/plain": [
       "array([1, 2])"
      ]
     },
     "execution_count": 660,
     "metadata": {},
     "output_type": "execute_result"
    }
   ],
   "source": [
    "#np.delete by indices\n",
    "import numpy as np \n",
    "\n",
    "arr = np.array([1, 2, 3, 4])\n",
    "new_arr = np.delete(arr, [2, 3]) #인덱스 번호로 삭제\n",
    "\n",
    "new_arr"
   ]
  },
  {
   "cell_type": "code",
   "execution_count": 685,
   "id": "71d99210-7c7c-4532-87c7-1352ec997009",
   "metadata": {},
   "outputs": [
    {
     "data": {
      "text/plain": [
       "array([1, 2])"
      ]
     },
     "execution_count": 685,
     "metadata": {},
     "output_type": "execute_result"
    }
   ],
   "source": [
    "#np.delete by values\n",
    "import numpy as np \n",
    "\n",
    "arr = np.array([1, 2, 3, 4])\n",
    "new_arr = np.delete(arr, np.where((arr == 3) |(arr==4))) \n",
    "#나는3, 4라는 값을 입력하면,, 3혹은 4가 있는 곳의 인덱스를 지운다,,는개념인듯!? \n",
    "\n",
    "new_arr"
   ]
  },
  {
   "cell_type": "markdown",
   "id": "de17714b-b229-47e1-8a90-de12b0c7cc0f",
   "metadata": {
    "tags": []
   },
   "source": [
    "### 9/9 농사 "
   ]
  },
  {
   "cell_type": "code",
   "execution_count": 686,
   "id": "c3feef6d-00ec-49d9-91c3-66e567e58849",
   "metadata": {},
   "outputs": [
    {
     "name": "stdin",
     "output_type": "stream",
     "text": [
      " 10 5\n",
      " 1 10 4 9 2 3 8 5 7 6\n"
     ]
    },
    {
     "name": "stdout",
     "output_type": "stream",
     "text": [
      "1 4 2 3 "
     ]
    }
   ],
   "source": [
    "# 10871\tX보다 작은 수\n",
    "N, X = map(int, input().split())\n",
    "A = list(map(int, input().split()))\n",
    "\n",
    "for n in range(N): \n",
    "    if A[n] < X:\n",
    "        print(A[n], end = ' ')"
   ]
  },
  {
   "cell_type": "code",
   "execution_count": 691,
   "id": "deab766b-04e1-473c-9c08-9096ebb4b2f6",
   "metadata": {},
   "outputs": [
    {
     "name": "stdin",
     "output_type": "stream",
     "text": [
      " 1 1\n"
     ]
    },
    {
     "name": "stdout",
     "output_type": "stream",
     "text": [
      "2\n"
     ]
    },
    {
     "name": "stdin",
     "output_type": "stream",
     "text": [
      " 2 3\n"
     ]
    },
    {
     "name": "stdout",
     "output_type": "stream",
     "text": [
      "5\n"
     ]
    },
    {
     "name": "stdin",
     "output_type": "stream",
     "text": [
      " 4 5\n"
     ]
    },
    {
     "name": "stdout",
     "output_type": "stream",
     "text": [
      "9\n"
     ]
    },
    {
     "name": "stdin",
     "output_type": "stream",
     "text": [
      " 0 0\n"
     ]
    }
   ],
   "source": [
    "# 10952\tA+B - 5\n",
    "\n",
    "while True: \n",
    "    A, B = map(int, input().split())\n",
    "    if A+B == 0:\n",
    "        break\n",
    "    else:\n",
    "        print(A + B)"
   ]
  },
  {
   "cell_type": "code",
   "execution_count": 700,
   "id": "fd79b429-da77-423f-afab-34d65361d454",
   "metadata": {},
   "outputs": [
    {
     "name": "stdin",
     "output_type": "stream",
     "text": [
      " 3 3\n"
     ]
    },
    {
     "name": "stdout",
     "output_type": "stream",
     "text": [
      "6\n"
     ]
    }
   ],
   "source": [
    "#10951\tA+B - 4\n",
    "\n",
    "A, B = map(int, input().split())\n",
    "print(A + B)"
   ]
  },
  {
   "cell_type": "code",
   "execution_count": 41,
   "id": "6da719e9-4a4b-4148-86d4-75f57a2f822b",
   "metadata": {},
   "outputs": [
    {
     "name": "stdin",
     "output_type": "stream",
     "text": [
      " 26\n"
     ]
    },
    {
     "ename": "KeyboardInterrupt",
     "evalue": "",
     "output_type": "error",
     "traceback": [
      "\u001b[0;31m---------------------------------------------------------------------------\u001b[0m",
      "\u001b[0;31mKeyboardInterrupt\u001b[0m                         Traceback (most recent call last)",
      "Input \u001b[0;32mIn [41]\u001b[0m, in \u001b[0;36m<cell line: 6>\u001b[0;34m()\u001b[0m\n\u001b[1;32m     22\u001b[0m     \u001b[38;5;28;01mpass\u001b[39;00m\n\u001b[1;32m     24\u001b[0m cnt \u001b[38;5;241m+\u001b[39m\u001b[38;5;241m=\u001b[39m \u001b[38;5;241m1\u001b[39m\n\u001b[0;32m---> 26\u001b[0m N \u001b[38;5;241m=\u001b[39m \u001b[38;5;28;43mint\u001b[39;49m\u001b[43m(\u001b[49m\u001b[43mN\u001b[49m\u001b[43m)\u001b[49m\n\u001b[1;32m     27\u001b[0m new_N \u001b[38;5;241m=\u001b[39m \u001b[38;5;28mint\u001b[39m(new_N)\n\u001b[1;32m     30\u001b[0m \u001b[38;5;28;01mif\u001b[39;00m new_N \u001b[38;5;241m==\u001b[39m N:\n",
      "\u001b[0;31mKeyboardInterrupt\u001b[0m: "
     ]
    }
   ],
   "source": [
    "#1110\t더하기 사이클 포기... \n",
    "\n",
    "N = int(input())\n",
    "cnt=0\n",
    "\n",
    "if N < 10: \n",
    "    cnt+=1\n",
    "    new_N = '0'+ str(N)\n",
    "    int(new_N)\n",
    "    print(cnt)\n",
    "    \n",
    "else:\n",
    "    while True:\n",
    "        \n",
    "        N = str(N)\n",
    "        new_N = int(N[0])+int(N[1])\n",
    "        try:\n",
    "            new_N = N[1]+str(new_N)[1]\n",
    "            new_N = int(new_N)\n",
    "\n",
    "        except:\n",
    "            pass\n",
    "\n",
    "        cnt += 1\n",
    "        \n",
    "        N = int(N)\n",
    "        new_N = int(new_N)\n",
    "\n",
    "        if new_N == N:\n",
    "            print(cnt)\n",
    "            break"
   ]
  },
  {
   "cell_type": "code",
   "execution_count": 47,
   "id": "6ab5f095-84b2-40a6-afcc-73a584f03900",
   "metadata": {
    "collapsed": true,
    "jupyter": {
     "outputs_hidden": true
    },
    "tags": []
   },
   "outputs": [
    {
     "name": "stdin",
     "output_type": "stream",
     "text": [
      " 26\n"
     ]
    },
    {
     "ename": "KeyboardInterrupt",
     "evalue": "",
     "output_type": "error",
     "traceback": [
      "\u001b[0;31m---------------------------------------------------------------------------\u001b[0m",
      "\u001b[0;31mIndexError\u001b[0m                                Traceback (most recent call last)",
      "Input \u001b[0;32mIn [47]\u001b[0m, in \u001b[0;36m<cell line: 5>\u001b[0;34m()\u001b[0m\n\u001b[1;32m      7\u001b[0m \u001b[38;5;28;01mtry\u001b[39;00m:\n\u001b[0;32m----> 8\u001b[0m     new_N \u001b[38;5;241m=\u001b[39m N[\u001b[38;5;241m1\u001b[39m]\u001b[38;5;241m+\u001b[39m\u001b[38;5;28;43mstr\u001b[39;49m\u001b[43m(\u001b[49m\u001b[43mnew_N\u001b[49m\u001b[43m)\u001b[49m\u001b[43m[\u001b[49m\u001b[38;5;241;43m1\u001b[39;49m\u001b[43m]\u001b[49m\n\u001b[1;32m      9\u001b[0m     new_N \u001b[38;5;241m=\u001b[39m \u001b[38;5;28mint\u001b[39m(new_N)\n",
      "\u001b[0;31mIndexError\u001b[0m: string index out of range",
      "\nDuring handling of the above exception, another exception occurred:\n",
      "\u001b[0;31mKeyboardInterrupt\u001b[0m                         Traceback (most recent call last)",
      "Input \u001b[0;32mIn [47]\u001b[0m, in \u001b[0;36m<cell line: 5>\u001b[0;34m()\u001b[0m\n\u001b[1;32m      9\u001b[0m     new_N \u001b[38;5;241m=\u001b[39m \u001b[38;5;28mint\u001b[39m(new_N)\n\u001b[1;32m     11\u001b[0m \u001b[38;5;28;01mexcept\u001b[39;00m:\n\u001b[0;32m---> 12\u001b[0m     new_N \u001b[38;5;241m=\u001b[39m N[\u001b[38;5;241m1\u001b[39m]\u001b[38;5;241m+\u001b[39m\u001b[38;5;28;43mstr\u001b[39;49m\u001b[43m(\u001b[49m\u001b[43mnew_N\u001b[49m\u001b[43m)\u001b[49m[\u001b[38;5;241m0\u001b[39m]\n\u001b[1;32m     13\u001b[0m     new_N \u001b[38;5;241m=\u001b[39m \u001b[38;5;28mint\u001b[39m(new_N)\n\u001b[1;32m     15\u001b[0m cnt \u001b[38;5;241m+\u001b[39m\u001b[38;5;241m=\u001b[39m \u001b[38;5;241m1\u001b[39m\n",
      "\u001b[0;31mKeyboardInterrupt\u001b[0m: "
     ]
    }
   ],
   "source": [
    "org_N = int(input())\n",
    "cnt=0\n",
    "\n",
    "while True:\n",
    "    N = str(org_N)\n",
    "    new_N = int(N[0])+int(N[1])\n",
    "    \n",
    "    try:\n",
    "        new_N = N[1]+str(new_N)[1]\n",
    "        new_N = int(new_N)\n",
    "\n",
    "    except:\n",
    "        new_N = N[1]+str(new_N)[0]\n",
    "        new_N = int(new_N)\n",
    "\n",
    "    cnt += 1\n",
    "    \n",
    "    if new_N == org_N:\n",
    "        break"
   ]
  },
  {
   "cell_type": "code",
   "execution_count": 49,
   "id": "cf0baebb-9d63-4fc6-9371-9de9cf69249d",
   "metadata": {},
   "outputs": [
    {
     "name": "stdin",
     "output_type": "stream",
     "text": [
      " 26\n"
     ]
    }
   ],
   "source": [
    "org_N = int(input())\n",
    "cnt=0\n",
    "\n",
    "N = str(org_N)\n",
    "new_N = int(N[0])+int(N[1])\n",
    "try:\n",
    "    new_N = N[1]+str(new_N)[1]\n",
    "    new_N = int(new_N)\n",
    "\n",
    "except:\n",
    "    new_N = N[1]+str(new_N)[0]\n",
    "    new_N = int(new_N)\n",
    "\n",
    "cnt += 1\n",
    "N = int(N)"
   ]
  },
  {
   "cell_type": "code",
   "execution_count": 50,
   "id": "18678008-a654-4d35-af05-89b494eb5e0e",
   "metadata": {},
   "outputs": [
    {
     "data": {
      "text/plain": [
       "26"
      ]
     },
     "execution_count": 50,
     "metadata": {},
     "output_type": "execute_result"
    }
   ],
   "source": [
    "N"
   ]
  },
  {
   "cell_type": "code",
   "execution_count": 21,
   "id": "8a314531-580b-4416-b879-bb93bd3667ed",
   "metadata": {},
   "outputs": [
    {
     "name": "stdin",
     "output_type": "stream",
     "text": [
      " 3\n"
     ]
    },
    {
     "name": "stdout",
     "output_type": "stream",
     "text": [
      "1\n"
     ]
    }
   ],
   "source": [
    "N = int(input())\n",
    "cnt=0\n",
    "\n",
    "if N < 10: \n",
    "    cnt+=1\n",
    "    new_N = '0'+ str(N)\n",
    "    int(new_N)\n",
    "    print(cnt)"
   ]
  },
  {
   "cell_type": "markdown",
   "id": "bf9c6be4-4c2e-4c09-8440-35700cd08c05",
   "metadata": {},
   "source": [
    "### 9/9 농사 오답노트 "
   ]
  },
  {
   "cell_type": "markdown",
   "id": "54749508-ddb8-4bdc-92bb-a337aba00f1d",
   "metadata": {},
   "source": [
    "    10951\tA+B - 4\n",
    "    \n",
    "    문제\n",
    "    두 정수 A와 B를 입력받은 다음, A+B를 출력하는 프로그램을 작성하시오.\n",
    "\n",
    "    입력\n",
    "    입력은 여러 개의 테스트 케이스로 이루어져 있다.\n",
    "\n",
    "    각 테스트 케이스는 한 줄로 이루어져 있으며, 각 줄에 A와 B가 주어진다. (0 < A, B < 10)\n",
    "\n",
    "    출력\n",
    "    각 테스트 케이스마다 A+B를 출력한다.\n",
    "\n",
    "\n",
    "\n",
    "\n",
    "참고: \n",
    "https://wook-2124.tistory.com/247"
   ]
  },
  {
   "cell_type": "code",
   "execution_count": 1,
   "id": "59e89b84-2d18-4a0f-89fd-24130442db26",
   "metadata": {
    "tags": []
   },
   "outputs": [
    {
     "name": "stdin",
     "output_type": "stream",
     "text": [
      " 1 1\n"
     ]
    },
    {
     "name": "stdout",
     "output_type": "stream",
     "text": [
      "2\n"
     ]
    },
    {
     "name": "stdin",
     "output_type": "stream",
     "text": [
      " \n"
     ]
    }
   ],
   "source": [
    "#try-except를 활용... \n",
    "\n",
    "while True: \n",
    "    try: \n",
    "        A, B = map(int, input().split())\n",
    "        print(A + B)\n",
    "    except: \n",
    "        break"
   ]
  },
  {
   "cell_type": "markdown",
   "id": "50689e15-fdae-414a-9ecc-ede8c689c04b",
   "metadata": {
    "tags": []
   },
   "source": [
    "    1110 더하기 사이클\n",
    "\n",
    "    문제\n",
    "    0보다 크거나 같고, 99보다 작거나 같은 정수가 주어질 때 다음과 같은 연산을 할 수 있다. 먼저 주어진 수가 10보다 작다면 앞에 0을 붙여 두 자리 수로 만들고, 각 자리의 숫자를 더한다. 그 다음, 주어진 수의 가장 오른쪽 자리 수와 앞에서 구한 합의 가장 오른쪽 자리 수를 이어 붙이면 새로운 수를 만들 수 있다. 다음 예를 보자.\n",
    "\n",
    "    26부터 시작한다. 2+6 = 8이다. 새로운 수는 68이다. 6+8 = 14이다. 새로운 수는 84이다. 8+4 = 12이다. 새로운 수는 42이다. 4+2 = 6이다. 새로운 수는 26이다.\n",
    "\n",
    "    위의 예는 4번만에 원래 수로 돌아올 수 있다. 따라서 26의 사이클의 길이는 4이다.\n",
    "\n",
    "    N이 주어졌을 때, N의 사이클의 길이를 구하는 프로그램을 작성하시오.\n",
    "\n",
    "    입력\n",
    "    첫째 줄에 N이 주어진다. N은 0보다 크거나 같고, 99보다 작거나 같은 정수이다.\n",
    "\n",
    "    출력\n",
    "    첫째 줄에 N의 사이클 길이를 출력한다.\n",
    "\n",
    "참고: https://wook-2124.tistory.com/222"
   ]
  },
  {
   "cell_type": "code",
   "execution_count": null,
   "id": "5e863594-376a-44e6-a340-3e79cdf5ff53",
   "metadata": {},
   "outputs": [],
   "source": []
  }
 ],
 "metadata": {
  "kernelspec": {
   "display_name": "Python 3 (ipykernel)",
   "language": "python",
   "name": "python3"
  },
  "language_info": {
   "codemirror_mode": {
    "name": "ipython",
    "version": 3
   },
   "file_extension": ".py",
   "mimetype": "text/x-python",
   "name": "python",
   "nbconvert_exporter": "python",
   "pygments_lexer": "ipython3",
   "version": "3.9.12"
  }
 },
 "nbformat": 4,
 "nbformat_minor": 5
}
