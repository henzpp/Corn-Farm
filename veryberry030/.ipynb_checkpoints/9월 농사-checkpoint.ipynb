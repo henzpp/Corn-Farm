{
 "cells": [
  {
   "cell_type": "markdown",
   "id": "edbe4be1",
   "metadata": {},
   "source": [
    "# 09-01\n",
    "\n",
    "## Q79.\n",
    "M 이상 N 이하의 소수를 모두 출력하는 프로그램을 작성하세요.\n",
    "- 입력조건\n",
    "  - 첫째 줄에 자연수 M과 N이 빈칸을 사이에 두고 주어진다.(1<=M<=N<=1,000,000)\n",
    "  - 단 M이상 N 이하의 소수가 하나 이상 있는 입력만 주어진다."
   ]
  },
  {
   "cell_type": "code",
   "execution_count": 1,
   "id": "a35b6072",
   "metadata": {},
   "outputs": [
    {
     "name": "stdout",
     "output_type": "stream",
     "text": [
      "숫자 입력 > 3 20\n",
      "[3, 5, 7, 11, 13, 17, 19]\n"
     ]
    }
   ],
   "source": [
    "def sosu(n):\n",
    "    if n <= 2:\n",
    "        return False\n",
    "    else :\n",
    "        for i in range(2,n):\n",
    "            if n%i == 0:\n",
    "                return False\n",
    "        return True\n",
    "    \n",
    "M,N = map(int,input('숫자 입력 > ').split())\n",
    "\n",
    "li = []\n",
    "if M>N or M<1 or N<1 or N>1000000:\n",
    "    M,N\n",
    "else:\n",
    "    for i in range(M,N):\n",
    "        if sosu(i)== True:\n",
    "            li.append(i)\n",
    "    print(li)"
   ]
  },
  {
   "cell_type": "markdown",
   "id": "59cf3e76",
   "metadata": {},
   "source": [
    "# 09-11 해시리스트 문제"
   ]
  },
  {
   "cell_type": "code",
   "execution_count": 34,
   "id": "b9413f82",
   "metadata": {},
   "outputs": [],
   "source": [
    "participant = [\"leo\", \"kiki\", \"eden\"]\n",
    "completion = [\"eden\", \"kiki\"]\n",
    "\n",
    "def solution(participant, completion):\n",
    "    answer = ''\n",
    "    for i in range(0,len(participant)):     \n",
    "        if participant[i] not in completion:\n",
    "            answer = participant[i]\n",
    "    return answer"
   ]
  },
  {
   "cell_type": "code",
   "execution_count": 35,
   "id": "40e5ae17",
   "metadata": {},
   "outputs": [
    {
     "data": {
      "text/plain": [
       "'leo'"
      ]
     },
     "execution_count": 35,
     "metadata": {},
     "output_type": "execute_result"
    }
   ],
   "source": [
    "solution(participant,completion)"
   ]
  },
  {
   "cell_type": "code",
   "execution_count": 41,
   "id": "3b61574a",
   "metadata": {},
   "outputs": [],
   "source": [
    "# 동명이인 처리 ==> 인덱스로?\n",
    "participant = [\"mislav\", \"stanko\", \"mislav\", \"ana\"]\n",
    "completion = [\"stanko\", \"ana\", \"mislav\"]\n",
    "\n",
    "def solution(participant, completion):\n",
    "    answer = ''\n",
    "    for i in range(0,len(participant)):     \n",
    "        if participant[i] not in completion:\n",
    "            answer = participant[i] \n",
    "    return answer"
   ]
  },
  {
   "cell_type": "code",
   "execution_count": 42,
   "id": "e78eef0c",
   "metadata": {},
   "outputs": [
    {
     "data": {
      "text/plain": [
       "''"
      ]
     },
     "execution_count": 42,
     "metadata": {},
     "output_type": "execute_result"
    }
   ],
   "source": [
    "solution(participant,completion)"
   ]
  },
  {
   "cell_type": "code",
   "execution_count": 43,
   "id": "264b8ca7",
   "metadata": {},
   "outputs": [],
   "source": [
    "# 중복 제거를 못해서 풀이 봄 ㅜㅜ\n",
    "import collections\n",
    "\n",
    "p = [\"mislav\", \"stanko\", \"mislav\", \"ana\"]\n",
    "c = [\"stanko\", \"ana\", \"mislav\"]\n",
    "\n",
    "def solution(p, c):\n",
    "    p.sort()\n",
    "    c.sort()\n",
    "    result = collections.Counter(p) - collections.Counter(c)\n",
    "    \n",
    "    return list(result)[0]"
   ]
  },
  {
   "cell_type": "code",
   "execution_count": 44,
   "id": "8f9b1450",
   "metadata": {},
   "outputs": [
    {
     "data": {
      "text/plain": [
       "'mislav'"
      ]
     },
     "execution_count": 44,
     "metadata": {},
     "output_type": "execute_result"
    }
   ],
   "source": [
    "solution(p,c)"
   ]
  },
  {
   "cell_type": "code",
   "execution_count": null,
   "id": "d1abfef2",
   "metadata": {},
   "outputs": [],
   "source": []
  }
 ],
 "metadata": {
  "kernelspec": {
   "display_name": "Python 3 (ipykernel)",
   "language": "python",
   "name": "python3"
  },
  "language_info": {
   "codemirror_mode": {
    "name": "ipython",
    "version": 3
   },
   "file_extension": ".py",
   "mimetype": "text/x-python",
   "name": "python",
   "nbconvert_exporter": "python",
   "pygments_lexer": "ipython3",
   "version": "3.9.13"
  },
  "toc": {
   "base_numbering": 1,
   "nav_menu": {},
   "number_sections": true,
   "sideBar": true,
   "skip_h1_title": false,
   "title_cell": "Table of Contents",
   "title_sidebar": "Contents",
   "toc_cell": false,
   "toc_position": {},
   "toc_section_display": true,
   "toc_window_display": false
  }
 },
 "nbformat": 4,
 "nbformat_minor": 5
}
